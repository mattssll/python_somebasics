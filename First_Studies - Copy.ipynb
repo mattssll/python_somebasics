{
 "cells": [
  {
   "cell_type": "markdown",
   "metadata": {},
   "source": [
    "\n",
    "# Writting some Python - Fundamentals"
   ]
  },
  {
   "cell_type": "markdown",
   "metadata": {},
   "source": [
    "### Essential CheatSheets: https://startupsventurecapital.com/essential-cheat-sheets-for-machine-learning-and-deep-learning-researchers-efb6a8ebd2e5"
   ]
  },
  {
   "cell_type": "markdown",
   "metadata": {},
   "source": [
    "## First: importing important libraries"
   ]
  },
  {
   "cell_type": "code",
   "execution_count": 4,
   "metadata": {},
   "outputs": [],
   "source": [
    "import numpy as np\n",
    "import pandas as pd"
   ]
  },
  {
   "cell_type": "code",
   "execution_count": 5,
   "metadata": {},
   "outputs": [
    {
     "data": {
      "text/plain": [
       "'%.2f'"
      ]
     },
     "execution_count": 5,
     "metadata": {},
     "output_type": "execute_result"
    }
   ],
   "source": [
    "#setting precision to 2\n",
    "%precision 2"
   ]
  },
  {
   "cell_type": "markdown",
   "metadata": {},
   "source": [
    "### Interessant Stuff:"
   ]
  },
  {
   "cell_type": "markdown",
   "metadata": {},
   "source": [
    "## DIRECTORY CONTROL"
   ]
  },
  {
   "cell_type": "code",
   "execution_count": 3,
   "metadata": {},
   "outputs": [
    {
     "name": "stdout",
     "output_type": "stream",
     "text": [
      "D:\\git\\data science\\Python\\Python_Notebooks\n"
     ]
    },
    {
     "data": {
      "text/plain": [
       "['.ipynb_checkpoints',\n",
       " '1.1-Python-Basics-Functions.ipynb',\n",
       " '1.3 - Python Basics - Working with Files - csv, xlsx, json - (Open, Write, etc).ipynb',\n",
       " '7-Dell_NLP_Cleaning Data, Stemming, Vectorizing, etc.ipynb',\n",
       " 'AI Engineering IBM',\n",
       " 'APIS_Trilogy.ipynb',\n",
       " 'Assignment Viz 2.ipynb',\n",
       " 'Assignment+2.ipynb',\n",
       " 'Assignment+3.ipynb',\n",
       " 'Assignment+4.ipynb',\n",
       " 'Assignment3_Aviz.ipynb',\n",
       " 'automl_binary_classification_product_backorders.ipynb',\n",
       " 'AUTOML_h2o.ipynb',\n",
       " 'BeautifulSoup - Python.ipynb',\n",
       " 'citi_bike_small.ipynb',\n",
       " 'COVID-19 INVERSE-RISK MODLE.ipynb',\n",
       " 'datasets',\n",
       " 'Date_Work.ipynb',\n",
       " 'DS_PROJECT_MKTSALES_DATA.ipynb',\n",
       " 'First_Studies-Copy1.ipynb',\n",
       " 'First_Studies.ipynb',\n",
       " 'HTML_CSS_Basics.ipynb',\n",
       " 'images',\n",
       " 'K-Means.ipynb',\n",
       " 'List Comprehensions, Lambda Functions, Apply, ApplyMap.ipynb',\n",
       " 'log_reg_heartdisease.ipynb',\n",
       " 'Map Reduce - Count Words.py',\n",
       " 'Map Reduce - Mr. Job Python.ipynb',\n",
       " 'Matplotlib - Visualizations.ipynb',\n",
       " 'Michigan Python',\n",
       " 'ML_ASSIGNMENT_KNN_MICHIGAN PYTHON.ipynb',\n",
       " 'nasa_api_key.py',\n",
       " 'NLP',\n",
       " 'normal_dist.PNG',\n",
       " 'One-Hot Encoding.ipynb',\n",
       " 'PCA and TRY OF REGRESSION.ipynb',\n",
       " 'PCR_on_sensory_and_fluorescence_data.ipynb',\n",
       " 'phishing session 3.ipynb',\n",
       " 'PyMongo - Basics.ipynb',\n",
       " 'PYSPARK Connecting with JDBC on SQL Server.ipynb',\n",
       " 'PYSPARK_NLP.ipynb',\n",
       " 'PYTHON Statistics',\n",
       " 'recommended_systems_classification_based_recom.ipynb',\n",
       " 'Recommended_Systems_Dell_Course.ipynb',\n",
       " 'recommended_system_SVD_single_value_decomposition_algebra_method.ipynb',\n",
       " 'REGEX.ipynb',\n",
       " 'Requests and APIs',\n",
       " 'resources',\n",
       " 'sample.ipynb',\n",
       " 'simple_regression.ipynb',\n",
       " 'some plotlib viz.ipynb',\n",
       " 'SPARK_NAIVEB_CLASSIF_POS_NEG.ipynb',\n",
       " 'Untitled Folder',\n",
       " 'Untitled3.ipynb',\n",
       " '__pycache__']"
      ]
     },
     "execution_count": 3,
     "metadata": {},
     "output_type": "execute_result"
    }
   ],
   "source": [
    "import os\n",
    "print(os.getcwd()) #printint current directory\n",
    "dir_to_list = os.listdir()\n",
    "#using listdir on another folder that isn't the current directory\n",
    "dir_to_list\n",
    "#to create a new directory uses os.mkdir(\"folder_name\")\n",
    "#to rename a directory: os.rename('from','to')\n",
    "#to remove uses os.remove\n",
    "#remove nom empty directory: import shutil, shutil.rmtree('test_folder')\n",
    "#TO change WORK Directory: os.chdir('path')"
   ]
  },
  {
   "cell_type": "markdown",
   "metadata": {},
   "source": [
    "### Reading FIles with Python Core and csv library"
   ]
  },
  {
   "cell_type": "code",
   "execution_count": null,
   "metadata": {},
   "outputs": [],
   "source": [
    "import os\n",
    "import csv\n",
    "\n",
    "#First Option: file_handler\n",
    "mylocal = os.getcwd()\n",
    "csvpath = os.path.join('Resources1','Resourcesb','accounting.csv')\n",
    "with open(csvpath, 'r') as file_handler:\n",
    "    lines = file_handler.read() \n",
    "    print(lines)\n",
    "    print(type(lines))\n",
    "    \n",
    "    \n",
    "#Second Option  (with csv)\n",
    "with open(csvpath) as csvfile:\n",
    "    csvreader= csv.reader(csvfile,delimiter=',')\n",
    "    print(type(csvreader))\n",
    "    print(csvreader)\n",
    "    csv_header = next(csvreader)\n",
    "    print(f\"CSV Header:{csv_header}\")\n",
    "    for row in csvreader:\n",
    "       #print(row)\n",
    "print(mylocal)"
   ]
  },
  {
   "cell_type": "markdown",
   "metadata": {},
   "source": [
    "### Directory Control and Reading data with Pandas"
   ]
  },
  {
   "cell_type": "code",
   "execution_count": null,
   "metadata": {},
   "outputs": [],
   "source": [
    "import os\n",
    "import pandas as pd\n",
    "current_dir = os.getcwd()\n",
    "print (\"current directory is: \", current_dir)\n",
    "dir_to_list = \"C:/Users/mateus_silva1/Documents/Data Science/Python Scripts\"\n",
    "os.listdir(dir_to_list)\n",
    "os.chdir(\"C:/Users/mateus_silva1/Documents/Data Science/Python Scripts\") #changing work directory\n",
    "df = pd.read_csv('mtcars.csv', index_col=0)\n",
    "df.iloc[0:5,0:3]\n",
    "#READ EXCEL FILE df = pd.read_excel('File.xlsx', sheetname='Sheet1')"
   ]
  },
  {
   "cell_type": "markdown",
   "metadata": {},
   "source": [
    "### OPENING FILES and WRITING and Reading and Closing"
   ]
  },
  {
   "cell_type": "code",
   "execution_count": null,
   "metadata": {},
   "outputs": [],
   "source": [
    "###OPENING A FILE WITH PANDAS\n",
    "columns = ['a','b','c']\n",
    "df = pd.read_csv('file', names=columns, encoding ='latin-1')\n",
    "#open file in current directory:\n",
    "f = open(\"test.txt\")\n",
    "ff = open (\"C:/...\")\n",
    "try:\n",
    "f = open(\"test.txt\", mode= 'r', enconding = \"utf-8\")\n",
    "finally:\n",
    "f.close() #closing file"
   ]
  },
  {
   "cell_type": "markdown",
   "metadata": {},
   "source": [
    "### Creating file (with open) and Reading it"
   ]
  },
  {
   "cell_type": "code",
   "execution_count": null,
   "metadata": {},
   "outputs": [],
   "source": [
    "# create a file and read it\n",
    "#to read file line by line \n",
    "with open (\"test_write_python.txt\", mode= 'w', encoding = 'utf-8') as f:\n",
    "           f.write(\"my first line writing in python \\n\")\n",
    "           f.write(\"writting a big paragraph is just about time and dedication, the more you write...\")\n",
    "f.close()\n",
    "\n",
    "ff = open(\"test_write_python.txt\", mode = 'r', encoding = 'utf-8')\n",
    "for line in ff:\n",
    "    print (line)"
   ]
  },
  {
   "cell_type": "markdown",
   "metadata": {},
   "source": [
    "### Functions w/ try and except:"
   ]
  },
  {
   "cell_type": "code",
   "execution_count": null,
   "metadata": {},
   "outputs": [],
   "source": [
    "#defining function and try and except (handling with exception errors)\n",
    "def dividing_but_not_by_zero(x1,x2):\n",
    "    try:\n",
    "        result = x1/x2 #this variable is in the local scope\n",
    "        print(result)\n",
    "        #normal except is just except:\n",
    "        except ZeroDivisionError:\n",
    "        print(\"exception error by zero\")\n",
    "dividing_but_not_by_zero(2,2)\n",
    "\n",
    "#Another simple function:\n",
    "def number_to_square(x):\n",
    "    result = x**2\n",
    "    return result\n",
    "square = number_to_square(5)\n",
    "print (square)"
   ]
  },
  {
   "cell_type": "markdown",
   "metadata": {},
   "source": [
    "### Lambda Python Functions"
   ]
  },
  {
   "cell_type": "code",
   "execution_count": null,
   "metadata": {},
   "outputs": [],
   "source": [
    "#simple multiplier\n",
    "x = lambda a,b : a*b\n",
    "print (x(5,5))\n",
    "\n",
    "#lambda as a variable\n",
    "potency_function = lambda num, pot: num**pot\n",
    "potency_function(2,3)\n",
    "print(\"pot result is \", potency_function)\n",
    "#INSIDE ANOTHER FUNCTION (n is in the bigger function, a is in the lambda function)\n",
    "def multiplier (n):\n",
    "    return lambda x: x*n #RETURNING A FUNCTION \n",
    "mytripler = multiplier(3) #AND PUTTING IN A VARIABLE :o\n",
    "mydoubler = multiplier(2) #and putting in a variable\n",
    "print (\"value from doubler is: \", mydoubler(10))\n",
    "print (\"value from tripler is: \", mytripler(10))\n"
   ]
  },
  {
   "cell_type": "markdown",
   "metadata": {},
   "source": [
    "### Apply(lambda x: function(x)) - apply function to arrays for example"
   ]
  },
  {
   "cell_type": "code",
   "execution_count": null,
   "metadata": {},
   "outputs": [],
   "source": [
    "def remove_stopwords(tokenized_list):\n",
    "    text = [word for word in tokenized_list if word not in stopword]\n",
    "    return text\n",
    "\n",
    "data['body_text_nostop'] = data['body_text_tokenized'].apply(lambda x: remove_stopwords(x))"
   ]
  },
  {
   "cell_type": "markdown",
   "metadata": {},
   "source": [
    "#### Lambda and Map"
   ]
  },
  {
   "cell_type": "code",
   "execution_count": null,
   "metadata": {},
   "outputs": [],
   "source": [
    "people = ['Dr. Christopher Brooks', 'Dr. Kevyn Collins-Thompson', 'Dr. VG Vinod Vydiswaran', 'Dr. Daniel Romero']\n",
    "\n",
    "def split_title_and_name(person):\n",
    "    return person.split()[0] + ' ' + person.split()[-1]\n",
    "\n",
    "#option 1\n",
    "for person in people:\n",
    "    print((lambda x: x.split()[0] + ' ' + x.split()[-1])(person))\n",
    "\n",
    "#option 2\n",
    "print(list(map(lambda person: person.split()[0] + ' ' + person.split()[-1], people)))"
   ]
  },
  {
   "cell_type": "markdown",
   "metadata": {},
   "source": [
    "#### Map Function: store result in a map iterable file"
   ]
  },
  {
   "cell_type": "code",
   "execution_count": null,
   "metadata": {
    "scrolled": true
   },
   "outputs": [],
   "source": [
    "def to_upper_case(s):\n",
    "    return str(s).upper()\n",
    "map_iterator_upper = map(to_upper_case, 'abc')\n",
    "for item in map_iterator_upper:\n",
    "    print (item)\n",
    "\n",
    "list_numbers = [1, 2, 3, 4]\n",
    "map_iterator = map(lambda x: x * 2, list_numbers)\n",
    "for item in map_iterator:\n",
    "    print (item)"
   ]
  },
  {
   "cell_type": "markdown",
   "metadata": {},
   "source": [
    "### JSON Files"
   ]
  },
  {
   "cell_type": "markdown",
   "metadata": {},
   "source": [
    "### Iterators"
   ]
  },
  {
   "cell_type": "code",
   "execution_count": null,
   "metadata": {
    "scrolled": true
   },
   "outputs": [],
   "source": [
    "list_created = ([1,2,3,4,5])\n",
    "iter_object = iter(list_created)\n",
    "print(next(iter_object))\n",
    "print(next(iter_object))\n",
    "print(next(iter_object))\n",
    "print(next(iter_object))\n",
    "print(next(iter_object))"
   ]
  },
  {
   "cell_type": "markdown",
   "metadata": {},
   "source": [
    "### For Loops: Break, Continue, pass"
   ]
  },
  {
   "cell_type": "code",
   "execution_count": null,
   "metadata": {},
   "outputs": [],
   "source": [
    "for i in range(100):\n",
    "    print (i)\n",
    "    if i == 10:\n",
    "        break #break when I = 10\n",
    "\n",
    "        \n",
    "list_created = ([10000,2,-5,100,-2])\n",
    "#below: when i is positive just print it and continue to next iteration, if not, turn to positive\n",
    "for i in list_created:\n",
    "    if i>0:\n",
    "        print(i)\n",
    "        continue\n",
    "    i = i*-1\n",
    "    print(i)\n",
    "    \n",
    "#pass do nothing, is provisory fix for having a function for example that has no body yet\n",
    "for i in list_created:\n",
    "    pass"
   ]
  },
  {
   "cell_type": "markdown",
   "metadata": {},
   "source": [
    "### For Loop and Enumerate"
   ]
  },
  {
   "cell_type": "code",
   "execution_count": null,
   "metadata": {},
   "outputs": [],
   "source": [
    "mylist = [\"ball\",\"laptop\",\"pen\"]\n",
    "i = 1\n",
    "for index,item in enumerate(mylist):\n",
    "    print (f\"my {i} item is in index {index}, and the name of it is {item}\")\n",
    "    i+=1\n",
    "    "
   ]
  },
  {
   "cell_type": "markdown",
   "metadata": {},
   "source": [
    "### For Loop with index position and format to print"
   ]
  },
  {
   "cell_type": "code",
   "execution_count": null,
   "metadata": {},
   "outputs": [],
   "source": [
    "data = ['John', 'Doe', 'was', 'here']\n",
    "for idx, val in enumerate(data): #ENUMERATE BRINGS US THE INDEX and also the value\n",
    "    print('{}: {}'.format(idx, val))"
   ]
  },
  {
   "cell_type": "markdown",
   "metadata": {},
   "source": [
    "### Appending Items in a List"
   ]
  },
  {
   "cell_type": "code",
   "execution_count": 7,
   "metadata": {},
   "outputs": [
    {
     "name": "stdout",
     "output_type": "stream",
     "text": [
      "[1, 2, 3, 4, 5, 6, 7, 8]\n",
      "[['apple'], ['orange'], ['pineapple']]\n"
     ]
    }
   ],
   "source": [
    "#appending integers\n",
    "mylist=[1,2,3,4,5,6,7,8]\n",
    "appendedlist = []\n",
    "for item in mylist:\n",
    "    appendedlist.append(item)\n",
    "print (appendedlist)    \n",
    "\n",
    "#now with strings\n",
    "myoriginallist = ['apple','orange','pineapple']\n",
    "#starting an empty list to append\n",
    "myappendedlist = []\n",
    "for item in myoriginallist:\n",
    "    myappendedlist.append([item])\n",
    "print (myappendedlist)"
   ]
  },
  {
   "cell_type": "code",
   "execution_count": null,
   "metadata": {},
   "outputs": [],
   "source": []
  },
  {
   "cell_type": "code",
   "execution_count": null,
   "metadata": {},
   "outputs": [],
   "source": []
  },
  {
   "cell_type": "markdown",
   "metadata": {},
   "source": [
    "## DATA TIME WORK"
   ]
  },
  {
   "cell_type": "markdown",
   "metadata": {},
   "source": [
    "bOOKMARK 1 <a name='bookmark1'/><br>\n",
    "Get back to home <a href=#home>home</a><br>"
   ]
  },
  {
   "cell_type": "markdown",
   "metadata": {},
   "source": [
    "#### super basics of datetime from timestamp"
   ]
  },
  {
   "cell_type": "markdown",
   "metadata": {},
   "source": [
    "#### additional material:"
   ]
  },
  {
   "cell_type": "markdown",
   "metadata": {},
   "source": [
    "[working with Dates](Date_Work.ipynb) <br/>"
   ]
  },
  {
   "cell_type": "code",
   "execution_count": 8,
   "metadata": {},
   "outputs": [],
   "source": [
    "import datetime as dt\n",
    "import time as tm"
   ]
  },
  {
   "cell_type": "code",
   "execution_count": 9,
   "metadata": {},
   "outputs": [
    {
     "data": {
      "text/plain": [
       "(2020, 6, 9)"
      ]
     },
     "execution_count": 9,
     "metadata": {},
     "output_type": "execute_result"
    }
   ],
   "source": [
    "tm.time()\n",
    "dtnow = dt.datetime.fromtimestamp(tm.time())\n",
    "dtnow\n",
    "dtnow.year, dtnow.month,dtnow.hour"
   ]
  },
  {
   "cell_type": "code",
   "execution_count": 12,
   "metadata": {},
   "outputs": [
    {
     "ename": "SyntaxError",
     "evalue": "unexpected EOF while parsing (<ipython-input-12-e34050b99a22>, line 6)",
     "output_type": "error",
     "traceback": [
      "\u001b[1;36m  File \u001b[1;32m\"<ipython-input-12-e34050b99a22>\"\u001b[1;36m, line \u001b[1;32m6\u001b[0m\n\u001b[1;33m    print(\"today > delta?:\", today > (today-delta)\u001b[0m\n\u001b[1;37m                                                  ^\u001b[0m\n\u001b[1;31mSyntaxError\u001b[0m\u001b[1;31m:\u001b[0m unexpected EOF while parsing\n"
     ]
    }
   ],
   "source": [
    "delta = dt.timedelta(days = 100)\n",
    "print(\"delta:\", delta)\n",
    "today = dt.date.today()\n",
    "print (\"today:\", today)\n",
    "print(\"today - delta:\", today-delta)\n",
    "print(\"today > delta?:\", today > (today-delta)\n"
   ]
  },
  {
   "cell_type": "markdown",
   "metadata": {},
   "source": [
    "# Data types (lists, dictionaries, tuples, strings)"
   ]
  },
  {
   "cell_type": "markdown",
   "metadata": {},
   "source": [
    "## Lists"
   ]
  },
  {
   "cell_type": "markdown",
   "metadata": {},
   "source": [
    "#### List Methods"
   ]
  },
  {
   "cell_type": "markdown",
   "metadata": {},
   "source": [
    "<img src=\"C:/Users/mateus_silva1/Python_Jupyter_Studies/images/list_methods.PNG\">"
   ]
  },
  {
   "cell_type": "code",
   "execution_count": 13,
   "metadata": {
    "scrolled": true
   },
   "outputs": [
    {
     "ename": "FileNotFoundError",
     "evalue": "[Errno 2] No such file or directory: 'C:/Users/mateus_silva1/Python_Jupyter_Studies/images/list_methods.PNG'",
     "output_type": "error",
     "traceback": [
      "\u001b[1;31m---------------------------------------------------------------------------\u001b[0m",
      "\u001b[1;31mFileNotFoundError\u001b[0m                         Traceback (most recent call last)",
      "\u001b[1;32m<ipython-input-13-30d982a3579f>\u001b[0m in \u001b[0;36m<module>\u001b[1;34m\u001b[0m\n\u001b[0;32m      1\u001b[0m \u001b[1;31m#loading image with code\u001b[0m\u001b[1;33m\u001b[0m\u001b[1;33m\u001b[0m\u001b[1;33m\u001b[0m\u001b[0m\n\u001b[0;32m      2\u001b[0m \u001b[1;32mfrom\u001b[0m \u001b[0mIPython\u001b[0m\u001b[1;33m.\u001b[0m\u001b[0mdisplay\u001b[0m \u001b[1;32mimport\u001b[0m \u001b[0mImage\u001b[0m\u001b[1;33m\u001b[0m\u001b[1;33m\u001b[0m\u001b[0m\n\u001b[1;32m----> 3\u001b[1;33m \u001b[0mImage\u001b[0m\u001b[1;33m(\u001b[0m\u001b[0mfilename\u001b[0m\u001b[1;33m=\u001b[0m\u001b[1;34m'C:/Users/mateus_silva1/Python_Jupyter_Studies/images/list_methods.PNG'\u001b[0m\u001b[1;33m)\u001b[0m\u001b[1;33m\u001b[0m\u001b[1;33m\u001b[0m\u001b[0m\n\u001b[0m",
      "\u001b[1;32m~\\AppData\\Local\\Continuum\\anaconda3\\lib\\site-packages\\IPython\\core\\display.py\u001b[0m in \u001b[0;36m__init__\u001b[1;34m(self, data, url, filename, format, embed, width, height, retina, unconfined, metadata)\u001b[0m\n\u001b[0;32m   1202\u001b[0m         \u001b[0mself\u001b[0m\u001b[1;33m.\u001b[0m\u001b[0munconfined\u001b[0m \u001b[1;33m=\u001b[0m \u001b[0munconfined\u001b[0m\u001b[1;33m\u001b[0m\u001b[1;33m\u001b[0m\u001b[0m\n\u001b[0;32m   1203\u001b[0m         super(Image, self).__init__(data=data, url=url, filename=filename, \n\u001b[1;32m-> 1204\u001b[1;33m                 metadata=metadata)\n\u001b[0m\u001b[0;32m   1205\u001b[0m \u001b[1;33m\u001b[0m\u001b[0m\n\u001b[0;32m   1206\u001b[0m         \u001b[1;32mif\u001b[0m \u001b[0mself\u001b[0m\u001b[1;33m.\u001b[0m\u001b[0mwidth\u001b[0m \u001b[1;32mis\u001b[0m \u001b[1;32mNone\u001b[0m \u001b[1;32mand\u001b[0m \u001b[0mself\u001b[0m\u001b[1;33m.\u001b[0m\u001b[0mmetadata\u001b[0m\u001b[1;33m.\u001b[0m\u001b[0mget\u001b[0m\u001b[1;33m(\u001b[0m\u001b[1;34m'width'\u001b[0m\u001b[1;33m,\u001b[0m \u001b[1;33m{\u001b[0m\u001b[1;33m}\u001b[0m\u001b[1;33m)\u001b[0m\u001b[1;33m:\u001b[0m\u001b[1;33m\u001b[0m\u001b[1;33m\u001b[0m\u001b[0m\n",
      "\u001b[1;32m~\\AppData\\Local\\Continuum\\anaconda3\\lib\\site-packages\\IPython\\core\\display.py\u001b[0m in \u001b[0;36m__init__\u001b[1;34m(self, data, url, filename, metadata)\u001b[0m\n\u001b[0;32m    625\u001b[0m             \u001b[0mself\u001b[0m\u001b[1;33m.\u001b[0m\u001b[0mmetadata\u001b[0m \u001b[1;33m=\u001b[0m \u001b[1;33m{\u001b[0m\u001b[1;33m}\u001b[0m\u001b[1;33m\u001b[0m\u001b[1;33m\u001b[0m\u001b[0m\n\u001b[0;32m    626\u001b[0m \u001b[1;33m\u001b[0m\u001b[0m\n\u001b[1;32m--> 627\u001b[1;33m         \u001b[0mself\u001b[0m\u001b[1;33m.\u001b[0m\u001b[0mreload\u001b[0m\u001b[1;33m(\u001b[0m\u001b[1;33m)\u001b[0m\u001b[1;33m\u001b[0m\u001b[1;33m\u001b[0m\u001b[0m\n\u001b[0m\u001b[0;32m    628\u001b[0m         \u001b[0mself\u001b[0m\u001b[1;33m.\u001b[0m\u001b[0m_check_data\u001b[0m\u001b[1;33m(\u001b[0m\u001b[1;33m)\u001b[0m\u001b[1;33m\u001b[0m\u001b[1;33m\u001b[0m\u001b[0m\n\u001b[0;32m    629\u001b[0m \u001b[1;33m\u001b[0m\u001b[0m\n",
      "\u001b[1;32m~\\AppData\\Local\\Continuum\\anaconda3\\lib\\site-packages\\IPython\\core\\display.py\u001b[0m in \u001b[0;36mreload\u001b[1;34m(self)\u001b[0m\n\u001b[0;32m   1233\u001b[0m         \u001b[1;34m\"\"\"Reload the raw data from file or URL.\"\"\"\u001b[0m\u001b[1;33m\u001b[0m\u001b[1;33m\u001b[0m\u001b[0m\n\u001b[0;32m   1234\u001b[0m         \u001b[1;32mif\u001b[0m \u001b[0mself\u001b[0m\u001b[1;33m.\u001b[0m\u001b[0membed\u001b[0m\u001b[1;33m:\u001b[0m\u001b[1;33m\u001b[0m\u001b[1;33m\u001b[0m\u001b[0m\n\u001b[1;32m-> 1235\u001b[1;33m             \u001b[0msuper\u001b[0m\u001b[1;33m(\u001b[0m\u001b[0mImage\u001b[0m\u001b[1;33m,\u001b[0m\u001b[0mself\u001b[0m\u001b[1;33m)\u001b[0m\u001b[1;33m.\u001b[0m\u001b[0mreload\u001b[0m\u001b[1;33m(\u001b[0m\u001b[1;33m)\u001b[0m\u001b[1;33m\u001b[0m\u001b[1;33m\u001b[0m\u001b[0m\n\u001b[0m\u001b[0;32m   1236\u001b[0m             \u001b[1;32mif\u001b[0m \u001b[0mself\u001b[0m\u001b[1;33m.\u001b[0m\u001b[0mretina\u001b[0m\u001b[1;33m:\u001b[0m\u001b[1;33m\u001b[0m\u001b[1;33m\u001b[0m\u001b[0m\n\u001b[0;32m   1237\u001b[0m                 \u001b[0mself\u001b[0m\u001b[1;33m.\u001b[0m\u001b[0m_retina_shape\u001b[0m\u001b[1;33m(\u001b[0m\u001b[1;33m)\u001b[0m\u001b[1;33m\u001b[0m\u001b[1;33m\u001b[0m\u001b[0m\n",
      "\u001b[1;32m~\\AppData\\Local\\Continuum\\anaconda3\\lib\\site-packages\\IPython\\core\\display.py\u001b[0m in \u001b[0;36mreload\u001b[1;34m(self)\u001b[0m\n\u001b[0;32m    650\u001b[0m         \u001b[1;34m\"\"\"Reload the raw data from file or URL.\"\"\"\u001b[0m\u001b[1;33m\u001b[0m\u001b[1;33m\u001b[0m\u001b[0m\n\u001b[0;32m    651\u001b[0m         \u001b[1;32mif\u001b[0m \u001b[0mself\u001b[0m\u001b[1;33m.\u001b[0m\u001b[0mfilename\u001b[0m \u001b[1;32mis\u001b[0m \u001b[1;32mnot\u001b[0m \u001b[1;32mNone\u001b[0m\u001b[1;33m:\u001b[0m\u001b[1;33m\u001b[0m\u001b[1;33m\u001b[0m\u001b[0m\n\u001b[1;32m--> 652\u001b[1;33m             \u001b[1;32mwith\u001b[0m \u001b[0mopen\u001b[0m\u001b[1;33m(\u001b[0m\u001b[0mself\u001b[0m\u001b[1;33m.\u001b[0m\u001b[0mfilename\u001b[0m\u001b[1;33m,\u001b[0m \u001b[0mself\u001b[0m\u001b[1;33m.\u001b[0m\u001b[0m_read_flags\u001b[0m\u001b[1;33m)\u001b[0m \u001b[1;32mas\u001b[0m \u001b[0mf\u001b[0m\u001b[1;33m:\u001b[0m\u001b[1;33m\u001b[0m\u001b[1;33m\u001b[0m\u001b[0m\n\u001b[0m\u001b[0;32m    653\u001b[0m                 \u001b[0mself\u001b[0m\u001b[1;33m.\u001b[0m\u001b[0mdata\u001b[0m \u001b[1;33m=\u001b[0m \u001b[0mf\u001b[0m\u001b[1;33m.\u001b[0m\u001b[0mread\u001b[0m\u001b[1;33m(\u001b[0m\u001b[1;33m)\u001b[0m\u001b[1;33m\u001b[0m\u001b[1;33m\u001b[0m\u001b[0m\n\u001b[0;32m    654\u001b[0m         \u001b[1;32melif\u001b[0m \u001b[0mself\u001b[0m\u001b[1;33m.\u001b[0m\u001b[0murl\u001b[0m \u001b[1;32mis\u001b[0m \u001b[1;32mnot\u001b[0m \u001b[1;32mNone\u001b[0m\u001b[1;33m:\u001b[0m\u001b[1;33m\u001b[0m\u001b[1;33m\u001b[0m\u001b[0m\n",
      "\u001b[1;31mFileNotFoundError\u001b[0m: [Errno 2] No such file or directory: 'C:/Users/mateus_silva1/Python_Jupyter_Studies/images/list_methods.PNG'"
     ]
    }
   ],
   "source": [
    "#loading image with code\n",
    "from IPython.display import Image\n",
    "Image(filename='C:/Users/mateus_silva1/Python_Jupyter_Studies/images/list_methods.PNG')"
   ]
  },
  {
   "cell_type": "markdown",
   "metadata": {},
   "source": [
    "### creating Lists, append and extend (concatenate)"
   ]
  },
  {
   "cell_type": "code",
   "execution_count": 14,
   "metadata": {},
   "outputs": [
    {
     "ename": "FileNotFoundError",
     "evalue": "[Errno 2] No such file or directory: 'C:/Users/mateus_silva1/Python_Jupyter_Studies/images/append and extend.PNG'",
     "output_type": "error",
     "traceback": [
      "\u001b[1;31m---------------------------------------------------------------------------\u001b[0m",
      "\u001b[1;31mFileNotFoundError\u001b[0m                         Traceback (most recent call last)",
      "\u001b[1;32m<ipython-input-14-f0c70a562547>\u001b[0m in \u001b[0;36m<module>\u001b[1;34m\u001b[0m\n\u001b[0;32m      1\u001b[0m \u001b[1;31m#loading image with code\u001b[0m\u001b[1;33m\u001b[0m\u001b[1;33m\u001b[0m\u001b[1;33m\u001b[0m\u001b[0m\n\u001b[0;32m      2\u001b[0m \u001b[1;32mfrom\u001b[0m \u001b[0mIPython\u001b[0m\u001b[1;33m.\u001b[0m\u001b[0mdisplay\u001b[0m \u001b[1;32mimport\u001b[0m \u001b[0mImage\u001b[0m\u001b[1;33m\u001b[0m\u001b[1;33m\u001b[0m\u001b[0m\n\u001b[1;32m----> 3\u001b[1;33m \u001b[0mImage\u001b[0m\u001b[1;33m(\u001b[0m\u001b[0mfilename\u001b[0m\u001b[1;33m=\u001b[0m\u001b[1;34m'C:/Users/mateus_silva1/Python_Jupyter_Studies/images/append and extend.PNG'\u001b[0m\u001b[1;33m)\u001b[0m\u001b[1;33m\u001b[0m\u001b[1;33m\u001b[0m\u001b[0m\n\u001b[0m",
      "\u001b[1;32m~\\AppData\\Local\\Continuum\\anaconda3\\lib\\site-packages\\IPython\\core\\display.py\u001b[0m in \u001b[0;36m__init__\u001b[1;34m(self, data, url, filename, format, embed, width, height, retina, unconfined, metadata)\u001b[0m\n\u001b[0;32m   1202\u001b[0m         \u001b[0mself\u001b[0m\u001b[1;33m.\u001b[0m\u001b[0munconfined\u001b[0m \u001b[1;33m=\u001b[0m \u001b[0munconfined\u001b[0m\u001b[1;33m\u001b[0m\u001b[1;33m\u001b[0m\u001b[0m\n\u001b[0;32m   1203\u001b[0m         super(Image, self).__init__(data=data, url=url, filename=filename, \n\u001b[1;32m-> 1204\u001b[1;33m                 metadata=metadata)\n\u001b[0m\u001b[0;32m   1205\u001b[0m \u001b[1;33m\u001b[0m\u001b[0m\n\u001b[0;32m   1206\u001b[0m         \u001b[1;32mif\u001b[0m \u001b[0mself\u001b[0m\u001b[1;33m.\u001b[0m\u001b[0mwidth\u001b[0m \u001b[1;32mis\u001b[0m \u001b[1;32mNone\u001b[0m \u001b[1;32mand\u001b[0m \u001b[0mself\u001b[0m\u001b[1;33m.\u001b[0m\u001b[0mmetadata\u001b[0m\u001b[1;33m.\u001b[0m\u001b[0mget\u001b[0m\u001b[1;33m(\u001b[0m\u001b[1;34m'width'\u001b[0m\u001b[1;33m,\u001b[0m \u001b[1;33m{\u001b[0m\u001b[1;33m}\u001b[0m\u001b[1;33m)\u001b[0m\u001b[1;33m:\u001b[0m\u001b[1;33m\u001b[0m\u001b[1;33m\u001b[0m\u001b[0m\n",
      "\u001b[1;32m~\\AppData\\Local\\Continuum\\anaconda3\\lib\\site-packages\\IPython\\core\\display.py\u001b[0m in \u001b[0;36m__init__\u001b[1;34m(self, data, url, filename, metadata)\u001b[0m\n\u001b[0;32m    625\u001b[0m             \u001b[0mself\u001b[0m\u001b[1;33m.\u001b[0m\u001b[0mmetadata\u001b[0m \u001b[1;33m=\u001b[0m \u001b[1;33m{\u001b[0m\u001b[1;33m}\u001b[0m\u001b[1;33m\u001b[0m\u001b[1;33m\u001b[0m\u001b[0m\n\u001b[0;32m    626\u001b[0m \u001b[1;33m\u001b[0m\u001b[0m\n\u001b[1;32m--> 627\u001b[1;33m         \u001b[0mself\u001b[0m\u001b[1;33m.\u001b[0m\u001b[0mreload\u001b[0m\u001b[1;33m(\u001b[0m\u001b[1;33m)\u001b[0m\u001b[1;33m\u001b[0m\u001b[1;33m\u001b[0m\u001b[0m\n\u001b[0m\u001b[0;32m    628\u001b[0m         \u001b[0mself\u001b[0m\u001b[1;33m.\u001b[0m\u001b[0m_check_data\u001b[0m\u001b[1;33m(\u001b[0m\u001b[1;33m)\u001b[0m\u001b[1;33m\u001b[0m\u001b[1;33m\u001b[0m\u001b[0m\n\u001b[0;32m    629\u001b[0m \u001b[1;33m\u001b[0m\u001b[0m\n",
      "\u001b[1;32m~\\AppData\\Local\\Continuum\\anaconda3\\lib\\site-packages\\IPython\\core\\display.py\u001b[0m in \u001b[0;36mreload\u001b[1;34m(self)\u001b[0m\n\u001b[0;32m   1233\u001b[0m         \u001b[1;34m\"\"\"Reload the raw data from file or URL.\"\"\"\u001b[0m\u001b[1;33m\u001b[0m\u001b[1;33m\u001b[0m\u001b[0m\n\u001b[0;32m   1234\u001b[0m         \u001b[1;32mif\u001b[0m \u001b[0mself\u001b[0m\u001b[1;33m.\u001b[0m\u001b[0membed\u001b[0m\u001b[1;33m:\u001b[0m\u001b[1;33m\u001b[0m\u001b[1;33m\u001b[0m\u001b[0m\n\u001b[1;32m-> 1235\u001b[1;33m             \u001b[0msuper\u001b[0m\u001b[1;33m(\u001b[0m\u001b[0mImage\u001b[0m\u001b[1;33m,\u001b[0m\u001b[0mself\u001b[0m\u001b[1;33m)\u001b[0m\u001b[1;33m.\u001b[0m\u001b[0mreload\u001b[0m\u001b[1;33m(\u001b[0m\u001b[1;33m)\u001b[0m\u001b[1;33m\u001b[0m\u001b[1;33m\u001b[0m\u001b[0m\n\u001b[0m\u001b[0;32m   1236\u001b[0m             \u001b[1;32mif\u001b[0m \u001b[0mself\u001b[0m\u001b[1;33m.\u001b[0m\u001b[0mretina\u001b[0m\u001b[1;33m:\u001b[0m\u001b[1;33m\u001b[0m\u001b[1;33m\u001b[0m\u001b[0m\n\u001b[0;32m   1237\u001b[0m                 \u001b[0mself\u001b[0m\u001b[1;33m.\u001b[0m\u001b[0m_retina_shape\u001b[0m\u001b[1;33m(\u001b[0m\u001b[1;33m)\u001b[0m\u001b[1;33m\u001b[0m\u001b[1;33m\u001b[0m\u001b[0m\n",
      "\u001b[1;32m~\\AppData\\Local\\Continuum\\anaconda3\\lib\\site-packages\\IPython\\core\\display.py\u001b[0m in \u001b[0;36mreload\u001b[1;34m(self)\u001b[0m\n\u001b[0;32m    650\u001b[0m         \u001b[1;34m\"\"\"Reload the raw data from file or URL.\"\"\"\u001b[0m\u001b[1;33m\u001b[0m\u001b[1;33m\u001b[0m\u001b[0m\n\u001b[0;32m    651\u001b[0m         \u001b[1;32mif\u001b[0m \u001b[0mself\u001b[0m\u001b[1;33m.\u001b[0m\u001b[0mfilename\u001b[0m \u001b[1;32mis\u001b[0m \u001b[1;32mnot\u001b[0m \u001b[1;32mNone\u001b[0m\u001b[1;33m:\u001b[0m\u001b[1;33m\u001b[0m\u001b[1;33m\u001b[0m\u001b[0m\n\u001b[1;32m--> 652\u001b[1;33m             \u001b[1;32mwith\u001b[0m \u001b[0mopen\u001b[0m\u001b[1;33m(\u001b[0m\u001b[0mself\u001b[0m\u001b[1;33m.\u001b[0m\u001b[0mfilename\u001b[0m\u001b[1;33m,\u001b[0m \u001b[0mself\u001b[0m\u001b[1;33m.\u001b[0m\u001b[0m_read_flags\u001b[0m\u001b[1;33m)\u001b[0m \u001b[1;32mas\u001b[0m \u001b[0mf\u001b[0m\u001b[1;33m:\u001b[0m\u001b[1;33m\u001b[0m\u001b[1;33m\u001b[0m\u001b[0m\n\u001b[0m\u001b[0;32m    653\u001b[0m                 \u001b[0mself\u001b[0m\u001b[1;33m.\u001b[0m\u001b[0mdata\u001b[0m \u001b[1;33m=\u001b[0m \u001b[0mf\u001b[0m\u001b[1;33m.\u001b[0m\u001b[0mread\u001b[0m\u001b[1;33m(\u001b[0m\u001b[1;33m)\u001b[0m\u001b[1;33m\u001b[0m\u001b[1;33m\u001b[0m\u001b[0m\n\u001b[0;32m    654\u001b[0m         \u001b[1;32melif\u001b[0m \u001b[0mself\u001b[0m\u001b[1;33m.\u001b[0m\u001b[0murl\u001b[0m \u001b[1;32mis\u001b[0m \u001b[1;32mnot\u001b[0m \u001b[1;32mNone\u001b[0m\u001b[1;33m:\u001b[0m\u001b[1;33m\u001b[0m\u001b[1;33m\u001b[0m\u001b[0m\n",
      "\u001b[1;31mFileNotFoundError\u001b[0m: [Errno 2] No such file or directory: 'C:/Users/mateus_silva1/Python_Jupyter_Studies/images/append and extend.PNG'"
     ]
    }
   ],
   "source": [
    "#loading image with code\n",
    "from IPython.display import Image\n",
    "Image(filename='C:/Users/mateus_silva1/Python_Jupyter_Studies/images/append and extend.PNG')"
   ]
  },
  {
   "cell_type": "code",
   "execution_count": 15,
   "metadata": {},
   "outputs": [
    {
     "name": "stdout",
     "output_type": "stream",
     "text": [
      "<class 'list'>\n",
      "[1, 2, 3, 'a', 'b', 'b', 1]\n",
      "printing after appending one element [1, 2, 3, 'a', 'b', 'b', 1, 'c']\n",
      "printing after summing  [1, 2, 3, 'a', 'b', 'b', 1, 'c', 5, 6, 7]\n",
      "printing after appending two lists [1, 2, 3, 'a', 'b', 'b', 1, 'c', 5, 6, 7, [5, 6, 7]]\n",
      "printing after appending with EXTEND method:  [1, 2, 3, 3, 2, 1]\n"
     ]
    }
   ],
   "source": [
    "#lists have order, are iterable, are indexable, and can be changed\n",
    "x = [1,2,3,\"a\",\"b\",\"b\",1]\n",
    "print(type(x))\n",
    "print(x)\n",
    "#append\n",
    "x.append(\"c\")\n",
    "print(\"printing after appending one element\", x)\n",
    "y = [5,6,7]\n",
    "x = x+y\n",
    "print(\"printing after summing \",x)\n",
    "#if append x to y, result will be different then summing (concatenating)\n",
    "x.append(y)\n",
    "print(\"printing after appending two lists\", x)\n",
    "#concatenate with EXTEND method: you can use + signal or concat method\n",
    "x1 = [1,2,3]\n",
    "x2 = [3,2,1]\n",
    "#can't pass to a third list\n",
    "x1.extend(x2)\n",
    "print (\"printing after appending with EXTEND method: \",x1)"
   ]
  },
  {
   "cell_type": "markdown",
   "metadata": {},
   "source": [
    "## Join two lists with zip(list1,list2)"
   ]
  },
  {
   "cell_type": "code",
   "execution_count": 16,
   "metadata": {},
   "outputs": [
    {
     "name": "stdout",
     "output_type": "stream",
     "text": [
      "(1, 5)\n",
      "(2, 4)\n",
      "(3, 3)\n",
      "(4, 2)\n",
      "(5, 1)\n",
      "\n",
      "the type of my zippedlist is:  <class 'zip'>\n"
     ]
    }
   ],
   "source": [
    "list1 = [1,2,3,4,5]\n",
    "list2 = [5,4,3,2,1]\n",
    "zippedlist = zip(list1,list2)\n",
    "for item in zippedlist:\n",
    "    print(item)\n",
    "print(\"\\nthe type of my zippedlist is: \", type(zippedlist))"
   ]
  },
  {
   "cell_type": "markdown",
   "metadata": {},
   "source": [
    "## List Comprehension:"
   ]
  },
  {
   "cell_type": "code",
   "execution_count": 17,
   "metadata": {},
   "outputs": [
    {
     "ename": "NameError",
     "evalue": "name 'lowercase' is not defined",
     "output_type": "error",
     "traceback": [
      "\u001b[1;31m---------------------------------------------------------------------------\u001b[0m",
      "\u001b[1;31mNameError\u001b[0m                                 Traceback (most recent call last)",
      "\u001b[1;32m<ipython-input-17-2ca550130ce8>\u001b[0m in \u001b[0;36m<module>\u001b[1;34m\u001b[0m\n\u001b[0;32m     12\u001b[0m \u001b[1;31m#ex2 with for\u001b[0m\u001b[1;33m\u001b[0m\u001b[1;33m\u001b[0m\u001b[1;33m\u001b[0m\u001b[0m\n\u001b[0;32m     13\u001b[0m \u001b[0mtest\u001b[0m \u001b[1;33m=\u001b[0m \u001b[1;33m[\u001b[0m\u001b[1;33m]\u001b[0m\u001b[1;33m\u001b[0m\u001b[1;33m\u001b[0m\u001b[0m\n\u001b[1;32m---> 14\u001b[1;33m \u001b[1;32mfor\u001b[0m \u001b[0ma\u001b[0m \u001b[1;32min\u001b[0m \u001b[0mlowercase\u001b[0m\u001b[1;33m:\u001b[0m\u001b[1;33m\u001b[0m\u001b[1;33m\u001b[0m\u001b[0m\n\u001b[0m\u001b[0;32m     15\u001b[0m     \u001b[1;32mfor\u001b[0m \u001b[0mb\u001b[0m \u001b[1;32min\u001b[0m \u001b[0mlowercase\u001b[0m\u001b[1;33m:\u001b[0m\u001b[1;33m\u001b[0m\u001b[1;33m\u001b[0m\u001b[0m\n\u001b[0;32m     16\u001b[0m         \u001b[1;32mfor\u001b[0m \u001b[0mc\u001b[0m \u001b[1;32min\u001b[0m \u001b[0mdigits\u001b[0m\u001b[1;33m:\u001b[0m\u001b[1;33m\u001b[0m\u001b[1;33m\u001b[0m\u001b[0m\n",
      "\u001b[1;31mNameError\u001b[0m: name 'lowercase' is not defined"
     ]
    }
   ],
   "source": [
    "#ex1\n",
    "#WITHOUT LIST COMPREHENSION (FROM)\n",
    "my_list = []\n",
    "for number in range(0,1000):\n",
    "    if number %2 == 0:\n",
    "        my_list.append(number)\n",
    "#ex1\n",
    "#TO: WITH LIST COMPREHENSION\n",
    "my_list = [number for number in range(0,1000) if number % 2 == 0]\n",
    "\n",
    "\n",
    "#ex2 with for\n",
    "test = []\n",
    "for a in lowercase:\n",
    "    for b in lowercase:\n",
    "        for c in digits:\n",
    "            for d in digits:\n",
    "                test.append(a+b+c+d)\n",
    "number_of_combinations = len(test)\n",
    "print (\"number of combinations is {} \\n\".format(number_of_combinations))\n",
    "\n",
    "#ex2 with list comprehension #correct_answer is an array with all possible combinations ()\n",
    "#first 2 letters should be LETTER and LAST TWO numbers\n",
    "lowercase = 'abcdefghijklmnopqrstuvwxyz'\n",
    "digits = '0123456789'\n",
    "\n",
    "correct_answer = [a+b+c+d for a in lowercase for b in lowercase for c in digits for d in digits]\n",
    "print(\"showing 50 first combinations \\n{}\".format(correct_answer[:50]))\n",
    "\n",
    "\n",
    "\n"
   ]
  },
  {
   "cell_type": "code",
   "execution_count": 18,
   "metadata": {},
   "outputs": [
    {
     "ename": "TypeError",
     "evalue": "list indices must be integers or slices, not str",
     "output_type": "error",
     "traceback": [
      "\u001b[1;31m---------------------------------------------------------------------------\u001b[0m",
      "\u001b[1;31mTypeError\u001b[0m                                 Traceback (most recent call last)",
      "\u001b[1;32m<ipython-input-18-6c3a379c3600>\u001b[0m in \u001b[0;36m<module>\u001b[1;34m\u001b[0m\n\u001b[0;32m      3\u001b[0m     \u001b[1;32mreturn\u001b[0m \u001b[0mtext\u001b[0m\u001b[1;33m\u001b[0m\u001b[1;33m\u001b[0m\u001b[0m\n\u001b[0;32m      4\u001b[0m \u001b[1;33m\u001b[0m\u001b[0m\n\u001b[1;32m----> 5\u001b[1;33m \u001b[0mdata\u001b[0m\u001b[1;33m[\u001b[0m\u001b[1;34m'body_text_nostop'\u001b[0m\u001b[1;33m]\u001b[0m \u001b[1;33m=\u001b[0m \u001b[0mdata\u001b[0m\u001b[1;33m[\u001b[0m\u001b[1;34m'body_text_tokenized'\u001b[0m\u001b[1;33m]\u001b[0m\u001b[1;33m.\u001b[0m\u001b[0mapply\u001b[0m\u001b[1;33m(\u001b[0m\u001b[1;32mlambda\u001b[0m \u001b[0mx\u001b[0m\u001b[1;33m:\u001b[0m \u001b[0mremove_stopwords\u001b[0m\u001b[1;33m(\u001b[0m\u001b[0mx\u001b[0m\u001b[1;33m)\u001b[0m\u001b[1;33m)\u001b[0m\u001b[1;33m\u001b[0m\u001b[1;33m\u001b[0m\u001b[0m\n\u001b[0m",
      "\u001b[1;31mTypeError\u001b[0m: list indices must be integers or slices, not str"
     ]
    }
   ],
   "source": [
    "def remove_stopwords(tokenized_list):\n",
    "    text = [word for word in tokenized_list if word not in stopword]\n",
    "    return text\n",
    "\n",
    "data['body_text_nostop'] = data['body_text_tokenized'].apply(lambda x: remove_stopwords(x))"
   ]
  },
  {
   "cell_type": "markdown",
   "metadata": {},
   "source": [
    "## Tuples"
   ]
  },
  {
   "cell_type": "code",
   "execution_count": 19,
   "metadata": {},
   "outputs": [
    {
     "name": "stdout",
     "output_type": "stream",
     "text": [
      "(1, 2, 3, 3)\n"
     ]
    }
   ],
   "source": [
    "#tuples can't be changed (immutable), and don't have order\n",
    "my_tuple = (1,2,3,3)\n",
    "type(my_tuple)\n",
    "print(my_tuple)"
   ]
  },
  {
   "cell_type": "markdown",
   "metadata": {},
   "source": [
    "## Strings"
   ]
  },
  {
   "cell_type": "code",
   "execution_count": 20,
   "metadata": {},
   "outputs": [
    {
     "ename": "FileNotFoundError",
     "evalue": "[Errno 2] No such file or directory: 'C:/Users/mateus_silva1/Python_Jupyter_Studies/images/string_methods.PNG'",
     "output_type": "error",
     "traceback": [
      "\u001b[1;31m---------------------------------------------------------------------------\u001b[0m",
      "\u001b[1;31mFileNotFoundError\u001b[0m                         Traceback (most recent call last)",
      "\u001b[1;32m<ipython-input-20-bdc66e89d530>\u001b[0m in \u001b[0;36m<module>\u001b[1;34m\u001b[0m\n\u001b[0;32m      1\u001b[0m \u001b[1;31m#loading image with code\u001b[0m\u001b[1;33m\u001b[0m\u001b[1;33m\u001b[0m\u001b[1;33m\u001b[0m\u001b[0m\n\u001b[0;32m      2\u001b[0m \u001b[1;32mfrom\u001b[0m \u001b[0mIPython\u001b[0m\u001b[1;33m.\u001b[0m\u001b[0mdisplay\u001b[0m \u001b[1;32mimport\u001b[0m \u001b[0mImage\u001b[0m\u001b[1;33m\u001b[0m\u001b[1;33m\u001b[0m\u001b[0m\n\u001b[1;32m----> 3\u001b[1;33m \u001b[0mImage\u001b[0m\u001b[1;33m(\u001b[0m\u001b[0mfilename\u001b[0m\u001b[1;33m=\u001b[0m\u001b[1;34m'C:/Users/mateus_silva1/Python_Jupyter_Studies/images/string_methods.PNG'\u001b[0m\u001b[1;33m)\u001b[0m\u001b[1;33m\u001b[0m\u001b[1;33m\u001b[0m\u001b[0m\n\u001b[0m",
      "\u001b[1;32m~\\AppData\\Local\\Continuum\\anaconda3\\lib\\site-packages\\IPython\\core\\display.py\u001b[0m in \u001b[0;36m__init__\u001b[1;34m(self, data, url, filename, format, embed, width, height, retina, unconfined, metadata)\u001b[0m\n\u001b[0;32m   1202\u001b[0m         \u001b[0mself\u001b[0m\u001b[1;33m.\u001b[0m\u001b[0munconfined\u001b[0m \u001b[1;33m=\u001b[0m \u001b[0munconfined\u001b[0m\u001b[1;33m\u001b[0m\u001b[1;33m\u001b[0m\u001b[0m\n\u001b[0;32m   1203\u001b[0m         super(Image, self).__init__(data=data, url=url, filename=filename, \n\u001b[1;32m-> 1204\u001b[1;33m                 metadata=metadata)\n\u001b[0m\u001b[0;32m   1205\u001b[0m \u001b[1;33m\u001b[0m\u001b[0m\n\u001b[0;32m   1206\u001b[0m         \u001b[1;32mif\u001b[0m \u001b[0mself\u001b[0m\u001b[1;33m.\u001b[0m\u001b[0mwidth\u001b[0m \u001b[1;32mis\u001b[0m \u001b[1;32mNone\u001b[0m \u001b[1;32mand\u001b[0m \u001b[0mself\u001b[0m\u001b[1;33m.\u001b[0m\u001b[0mmetadata\u001b[0m\u001b[1;33m.\u001b[0m\u001b[0mget\u001b[0m\u001b[1;33m(\u001b[0m\u001b[1;34m'width'\u001b[0m\u001b[1;33m,\u001b[0m \u001b[1;33m{\u001b[0m\u001b[1;33m}\u001b[0m\u001b[1;33m)\u001b[0m\u001b[1;33m:\u001b[0m\u001b[1;33m\u001b[0m\u001b[1;33m\u001b[0m\u001b[0m\n",
      "\u001b[1;32m~\\AppData\\Local\\Continuum\\anaconda3\\lib\\site-packages\\IPython\\core\\display.py\u001b[0m in \u001b[0;36m__init__\u001b[1;34m(self, data, url, filename, metadata)\u001b[0m\n\u001b[0;32m    625\u001b[0m             \u001b[0mself\u001b[0m\u001b[1;33m.\u001b[0m\u001b[0mmetadata\u001b[0m \u001b[1;33m=\u001b[0m \u001b[1;33m{\u001b[0m\u001b[1;33m}\u001b[0m\u001b[1;33m\u001b[0m\u001b[1;33m\u001b[0m\u001b[0m\n\u001b[0;32m    626\u001b[0m \u001b[1;33m\u001b[0m\u001b[0m\n\u001b[1;32m--> 627\u001b[1;33m         \u001b[0mself\u001b[0m\u001b[1;33m.\u001b[0m\u001b[0mreload\u001b[0m\u001b[1;33m(\u001b[0m\u001b[1;33m)\u001b[0m\u001b[1;33m\u001b[0m\u001b[1;33m\u001b[0m\u001b[0m\n\u001b[0m\u001b[0;32m    628\u001b[0m         \u001b[0mself\u001b[0m\u001b[1;33m.\u001b[0m\u001b[0m_check_data\u001b[0m\u001b[1;33m(\u001b[0m\u001b[1;33m)\u001b[0m\u001b[1;33m\u001b[0m\u001b[1;33m\u001b[0m\u001b[0m\n\u001b[0;32m    629\u001b[0m \u001b[1;33m\u001b[0m\u001b[0m\n",
      "\u001b[1;32m~\\AppData\\Local\\Continuum\\anaconda3\\lib\\site-packages\\IPython\\core\\display.py\u001b[0m in \u001b[0;36mreload\u001b[1;34m(self)\u001b[0m\n\u001b[0;32m   1233\u001b[0m         \u001b[1;34m\"\"\"Reload the raw data from file or URL.\"\"\"\u001b[0m\u001b[1;33m\u001b[0m\u001b[1;33m\u001b[0m\u001b[0m\n\u001b[0;32m   1234\u001b[0m         \u001b[1;32mif\u001b[0m \u001b[0mself\u001b[0m\u001b[1;33m.\u001b[0m\u001b[0membed\u001b[0m\u001b[1;33m:\u001b[0m\u001b[1;33m\u001b[0m\u001b[1;33m\u001b[0m\u001b[0m\n\u001b[1;32m-> 1235\u001b[1;33m             \u001b[0msuper\u001b[0m\u001b[1;33m(\u001b[0m\u001b[0mImage\u001b[0m\u001b[1;33m,\u001b[0m\u001b[0mself\u001b[0m\u001b[1;33m)\u001b[0m\u001b[1;33m.\u001b[0m\u001b[0mreload\u001b[0m\u001b[1;33m(\u001b[0m\u001b[1;33m)\u001b[0m\u001b[1;33m\u001b[0m\u001b[1;33m\u001b[0m\u001b[0m\n\u001b[0m\u001b[0;32m   1236\u001b[0m             \u001b[1;32mif\u001b[0m \u001b[0mself\u001b[0m\u001b[1;33m.\u001b[0m\u001b[0mretina\u001b[0m\u001b[1;33m:\u001b[0m\u001b[1;33m\u001b[0m\u001b[1;33m\u001b[0m\u001b[0m\n\u001b[0;32m   1237\u001b[0m                 \u001b[0mself\u001b[0m\u001b[1;33m.\u001b[0m\u001b[0m_retina_shape\u001b[0m\u001b[1;33m(\u001b[0m\u001b[1;33m)\u001b[0m\u001b[1;33m\u001b[0m\u001b[1;33m\u001b[0m\u001b[0m\n",
      "\u001b[1;32m~\\AppData\\Local\\Continuum\\anaconda3\\lib\\site-packages\\IPython\\core\\display.py\u001b[0m in \u001b[0;36mreload\u001b[1;34m(self)\u001b[0m\n\u001b[0;32m    650\u001b[0m         \u001b[1;34m\"\"\"Reload the raw data from file or URL.\"\"\"\u001b[0m\u001b[1;33m\u001b[0m\u001b[1;33m\u001b[0m\u001b[0m\n\u001b[0;32m    651\u001b[0m         \u001b[1;32mif\u001b[0m \u001b[0mself\u001b[0m\u001b[1;33m.\u001b[0m\u001b[0mfilename\u001b[0m \u001b[1;32mis\u001b[0m \u001b[1;32mnot\u001b[0m \u001b[1;32mNone\u001b[0m\u001b[1;33m:\u001b[0m\u001b[1;33m\u001b[0m\u001b[1;33m\u001b[0m\u001b[0m\n\u001b[1;32m--> 652\u001b[1;33m             \u001b[1;32mwith\u001b[0m \u001b[0mopen\u001b[0m\u001b[1;33m(\u001b[0m\u001b[0mself\u001b[0m\u001b[1;33m.\u001b[0m\u001b[0mfilename\u001b[0m\u001b[1;33m,\u001b[0m \u001b[0mself\u001b[0m\u001b[1;33m.\u001b[0m\u001b[0m_read_flags\u001b[0m\u001b[1;33m)\u001b[0m \u001b[1;32mas\u001b[0m \u001b[0mf\u001b[0m\u001b[1;33m:\u001b[0m\u001b[1;33m\u001b[0m\u001b[1;33m\u001b[0m\u001b[0m\n\u001b[0m\u001b[0;32m    653\u001b[0m                 \u001b[0mself\u001b[0m\u001b[1;33m.\u001b[0m\u001b[0mdata\u001b[0m \u001b[1;33m=\u001b[0m \u001b[0mf\u001b[0m\u001b[1;33m.\u001b[0m\u001b[0mread\u001b[0m\u001b[1;33m(\u001b[0m\u001b[1;33m)\u001b[0m\u001b[1;33m\u001b[0m\u001b[1;33m\u001b[0m\u001b[0m\n\u001b[0;32m    654\u001b[0m         \u001b[1;32melif\u001b[0m \u001b[0mself\u001b[0m\u001b[1;33m.\u001b[0m\u001b[0murl\u001b[0m \u001b[1;32mis\u001b[0m \u001b[1;32mnot\u001b[0m \u001b[1;32mNone\u001b[0m\u001b[1;33m:\u001b[0m\u001b[1;33m\u001b[0m\u001b[1;33m\u001b[0m\u001b[0m\n",
      "\u001b[1;31mFileNotFoundError\u001b[0m: [Errno 2] No such file or directory: 'C:/Users/mateus_silva1/Python_Jupyter_Studies/images/string_methods.PNG'"
     ]
    }
   ],
   "source": [
    "#loading image with code\n",
    "from IPython.display import Image\n",
    "Image(filename='C:/Users/mateus_silva1/Python_Jupyter_Studies/images/string_methods.PNG')"
   ]
  },
  {
   "cell_type": "code",
   "execution_count": 21,
   "metadata": {},
   "outputs": [
    {
     "name": "stdout",
     "output_type": "stream",
     "text": [
      "my name is mateusand I am 20\n",
      "my name is mateusand I am 20\n"
     ]
    }
   ],
   "source": [
    "string = \"my name is \"\n",
    "name = \"mateus\"\n",
    "age = 20\n",
    "print (string + name + \"and I am\", age)\n",
    "#other way to put strings and numbers, with format method\n",
    "string_to_print = string + name + \"and I am {}\"\n",
    "print (string_to_print.format(age))"
   ]
  },
  {
   "cell_type": "markdown",
   "metadata": {},
   "source": [
    "### more on formatting strings"
   ]
  },
  {
   "cell_type": "code",
   "execution_count": 22,
   "metadata": {},
   "outputs": [
    {
     "name": "stdout",
     "output_type": "stream",
     "text": [
      "His name is John and he spent 10.23 dollars with food\n",
      "His name is John and John he spent 10.23 dollars with food\n"
     ]
    }
   ],
   "source": [
    "name = \"John\"\n",
    "price = 10.23241\n",
    "txt = \"His name is {} and he spent {:.2f} dollars with food\"\n",
    "print(txt.format(name, price))\n",
    "#another way of doing it\n",
    "txt = \"His name is {0} and {0} he spent {1:.2f} dollars with food\"\n",
    "print (txt.format(name,price))"
   ]
  },
  {
   "cell_type": "markdown",
   "metadata": {},
   "source": [
    "### check if text is in string, and where it is?"
   ]
  },
  {
   "cell_type": "code",
   "execution_count": 23,
   "metadata": {},
   "outputs": [
    {
     "name": "stdout",
     "output_type": "stream",
     "text": [
      "True\n",
      "21\n"
     ]
    }
   ],
   "source": [
    "#find piece of string in string with IN\n",
    "text = \"I have nothing to do at this moment but studying python\"\n",
    "x = \"at this moment\" in text\n",
    "print(x)\n",
    "y = text.find(\"at this moment\")\n",
    "print (y)"
   ]
  },
  {
   "cell_type": "markdown",
   "metadata": {},
   "source": [
    "### Strip (take white spaces out) and Split (separate by a value) strings "
   ]
  },
  {
   "cell_type": "code",
   "execution_count": 24,
   "metadata": {
    "scrolled": false
   },
   "outputs": [
    {
     "name": "stdout",
     "output_type": "stream",
     "text": [
      "this is the string that I want to separate by spaces and also strip it from white spaces\n",
      "this\n",
      "is\n",
      "the\n",
      "string\n",
      "that\n",
      "I\n",
      "want\n",
      "to\n",
      "separate\n",
      "by\n",
      "spaces\n",
      "and\n",
      "also\n",
      "strip\n",
      "it\n",
      "from\n",
      "white\n",
      "spaces\n",
      "\n",
      "the number of words in the string is:  18\n",
      "the number of letters in the 2nd word is:  2\n",
      "count of letters with for is:  4\n"
     ]
    }
   ],
   "source": [
    "text = \"  this is the string that I want to separate by spaces and also strip it from white spaces  \"\n",
    "strip_text = text.strip()\n",
    "print (strip_text)\n",
    "split_text = strip_text.split(\" \")\n",
    "for item in split_text:\n",
    "    print (item)\n",
    "print(\"\\nthe number of words in the string is: \", len(split_text)) \n",
    "# of letters in the first word\n",
    "number_letters = len(split_text[1])\n",
    "print (\"the number of letters in the 2nd word is: \", number_letters)\n",
    "#now iterating\n",
    "count = 0\n",
    "for count in range(len(split_text[0])):\n",
    "    count += 1\n",
    "print (\"count of letters with for is: \", count)"
   ]
  },
  {
   "cell_type": "markdown",
   "metadata": {},
   "source": [
    "## Sets: non-ordered, not repeatable elements (good for categories)"
   ]
  },
  {
   "cell_type": "code",
   "execution_count": 25,
   "metadata": {},
   "outputs": [
    {
     "name": "stdout",
     "output_type": "stream",
     "text": [
      "{1, 2, 3, 'bike', 'car'}\n"
     ]
    }
   ],
   "source": [
    "array_to_set = [1,2,3,3, \"car\", \"car\", \"bike\"]\n",
    "set_from_array = set(array_to_set)\n",
    "print(set_from_array)"
   ]
  },
  {
   "cell_type": "markdown",
   "metadata": {},
   "source": [
    "# Dictionaries"
   ]
  },
  {
   "cell_type": "markdown",
   "metadata": {},
   "source": [
    "bOOKMARK 2 <a name='bookmark2' />  <br>\n",
    "Get back to home <a href=#home>home</a><br>"
   ]
  },
  {
   "cell_type": "code",
   "execution_count": 26,
   "metadata": {},
   "outputs": [
    {
     "name": "stdout",
     "output_type": "stream",
     "text": [
      "{'names': ['john', 'eden', 'health'], 'prices': [10, 20, 30], 'time_used': [5, 6, 8]}\n"
     ]
    }
   ],
   "source": [
    "first_dic = {\n",
    "            \"names\": [\"john\", \"eden\", \"health\"],\n",
    "            \"prices\": [10, 20, 30],\n",
    "            \"time_used\": [5,6,8]\n",
    "            }\n",
    "print(first_dic)"
   ]
  },
  {
   "cell_type": "markdown",
   "metadata": {},
   "source": [
    "#### Exercise with Dictionaries: Iterate through them and do averages with for loop"
   ]
  },
  {
   "cell_type": "code",
   "execution_count": 27,
   "metadata": {},
   "outputs": [
    {
     "ename": "FileNotFoundError",
     "evalue": "[Errno 2] No such file or directory: 'C:/Users/mateus_silva1/Documents/Data Science/Python Scripts/mtcars.csv'",
     "output_type": "error",
     "traceback": [
      "\u001b[1;31m---------------------------------------------------------------------------\u001b[0m",
      "\u001b[1;31mFileNotFoundError\u001b[0m                         Traceback (most recent call last)",
      "\u001b[1;32m<ipython-input-27-837e88fb834d>\u001b[0m in \u001b[0;36m<module>\u001b[1;34m\u001b[0m\n\u001b[0;32m      4\u001b[0m \u001b[1;33m\u001b[0m\u001b[0m\n\u001b[0;32m      5\u001b[0m \u001b[0murl\u001b[0m \u001b[1;33m=\u001b[0m \u001b[1;34m'C:/Users/mateus_silva1/Documents/Data Science/Python Scripts/mtcars.csv'\u001b[0m\u001b[1;33m\u001b[0m\u001b[1;33m\u001b[0m\u001b[0m\n\u001b[1;32m----> 6\u001b[1;33m \u001b[1;32mwith\u001b[0m \u001b[0mopen\u001b[0m\u001b[1;33m(\u001b[0m\u001b[0murl\u001b[0m\u001b[1;33m)\u001b[0m \u001b[1;32mas\u001b[0m \u001b[0mcsvfile\u001b[0m\u001b[1;33m:\u001b[0m\u001b[1;33m\u001b[0m\u001b[1;33m\u001b[0m\u001b[0m\n\u001b[0m\u001b[0;32m      7\u001b[0m     \u001b[0mcars\u001b[0m \u001b[1;33m=\u001b[0m \u001b[0mlist\u001b[0m\u001b[1;33m(\u001b[0m\u001b[0mcsv\u001b[0m\u001b[1;33m.\u001b[0m\u001b[0mDictReader\u001b[0m\u001b[1;33m(\u001b[0m\u001b[0mcsvfile\u001b[0m\u001b[1;33m)\u001b[0m\u001b[1;33m)\u001b[0m \u001b[1;31m#OBJECT IS LIST OF DICTIONARIES\u001b[0m\u001b[1;33m\u001b[0m\u001b[1;33m\u001b[0m\u001b[0m\n\u001b[0;32m      8\u001b[0m \u001b[0mlen\u001b[0m\u001b[1;33m(\u001b[0m\u001b[0mcars\u001b[0m\u001b[1;33m)\u001b[0m\u001b[1;33m\u001b[0m\u001b[1;33m\u001b[0m\u001b[0m\n",
      "\u001b[1;31mFileNotFoundError\u001b[0m: [Errno 2] No such file or directory: 'C:/Users/mateus_silva1/Documents/Data Science/Python Scripts/mtcars.csv'"
     ]
    }
   ],
   "source": [
    "import csv\n",
    "%precision 2\n",
    "\n",
    "\n",
    "url = 'C:/Users/mateus_silva1/Documents/Data Science/Python Scripts/mtcars.csv'\n",
    "with open(url) as csvfile:\n",
    "    cars = list(csv.DictReader(csvfile)) #OBJECT IS LIST OF DICTIONARIES\n",
    "len(cars)\n",
    "#GET SUM OF ONE OF THE COLUMNS OF DICT\n",
    "avg_mpg = sum(float(dict_i[\"mpg\"]) for dict_i in mpg) / len(cars)\n",
    "print ('avg of mpg is {:.2f}'.format(avg_mpg))\n",
    "\n",
    "\n",
    "#AVERAGE of Categorical field:\n",
    "#use set and for inside for\n",
    "set_cyl = set((dict_items[\"cyl\"]) for dict_items in cars)\n",
    "append_results = []\n",
    "#also: iterating thru dictionaries with simple types\n",
    "for cylz in set_cyl:\n",
    "    for dict_items in cars:\n",
    "        if (dict_items[\"cyl\"] == cylz):\n",
    "            sum_cyl += float(dict_items[\"cyl\"])\n",
    "            count_cyl += 1\n",
    "    append_results.append((cylz, sum_cyl/count_cyl))    \n",
    "append_results"
   ]
  },
  {
   "cell_type": "markdown",
   "metadata": {},
   "source": [
    "### Create a Dictionary with dict(zip(keys, values)"
   ]
  },
  {
   "cell_type": "code",
   "execution_count": 28,
   "metadata": {},
   "outputs": [
    {
     "name": "stdout",
     "output_type": "stream",
     "text": [
      "{'name': ['Adrian', 'Tom'], 'age': [20, 50], 'weight': [80, 70]}\n",
      "\n",
      "and the type of mydict variable is:  <class 'dict'>\n"
     ]
    }
   ],
   "source": [
    "keys = ['name','age','weight']\n",
    "values = [['Adrian','Tom'],[20,50],[80,70]]\n",
    "mydict = dict(zip(keys,values))\n",
    "print(mydict)\n",
    "mydict[\"name\"]\n",
    "print(\"\\nand the type of mydict variable is: \", type(mydict))"
   ]
  },
  {
   "cell_type": "markdown",
   "metadata": {},
   "source": [
    "# Classes and Objects"
   ]
  },
  {
   "cell_type": "markdown",
   "metadata": {},
   "source": [
    "## create class and function to define it's name"
   ]
  },
  {
   "cell_type": "code",
   "execution_count": 29,
   "metadata": {},
   "outputs": [
    {
     "data": {
      "text/plain": [
       "your dog is called bob and is of the color green"
      ]
     },
     "execution_count": 29,
     "metadata": {},
     "output_type": "execute_result"
    }
   ],
   "source": [
    "# Define a class\n",
    "class Dog:\n",
    "    # Constructor \n",
    "    def __init__(self,name,color):\n",
    "        self.name = name\n",
    "        self.color = color\n",
    "    def __repr__(self):\n",
    "        return f\"your dog is called {self.name} and is of the color {self.color}\"\n",
    "    \n",
    "dog1 = Dog(\"bob\", \"green\")\n",
    "dog1\n",
    "        "
   ]
  },
  {
   "cell_type": "code",
   "execution_count": 30,
   "metadata": {},
   "outputs": [],
   "source": [
    "####CLASS AND OBJECTS\n",
    "class Books:\n",
    "    name=[]\n",
    "    price=float\n",
    "    def name_func(self, written_name):\n",
    "        name = written_name\n",
    "        return name"
   ]
  },
  {
   "cell_type": "markdown",
   "metadata": {},
   "source": [
    "### create objects"
   ]
  },
  {
   "cell_type": "code",
   "execution_count": 31,
   "metadata": {},
   "outputs": [
    {
     "name": "stdout",
     "output_type": "stream",
     "text": [
      "Lord of the rings\n",
      "Harry Potter\n",
      "the name of this book is:  Laranja mecanica  and the price is:  100.25\n",
      "<class 'type'>\n"
     ]
    }
   ],
   "source": [
    "#setting name through defined function\n",
    "Lord_rings = Books()\n",
    "Harry = Books()\n",
    "Lord_rings.name = Lord_rings.name_func(\"Lord of the rings\")\n",
    "print (Lord_rings.name)\n",
    "Harry.name = Harry.name_func(\"Harry Potter\")\n",
    "print (Harry.name)\n",
    "type(Harry)\n",
    "#setting name here without function\n",
    "Laranja = Books()\n",
    "Laranja.name = \"Laranja mecanica\"\n",
    "Laranja.price = 100.25\n",
    "print (\"the name of this book is: \", Laranja.name, \" and the price is: \", Laranja.price)\n",
    "#looping through objects inside a class\n",
    "print(type(Books)) #class type"
   ]
  },
  {
   "cell_type": "markdown",
   "metadata": {},
   "source": [
    "### old and new method to initialize variables with a construct"
   ]
  },
  {
   "cell_type": "code",
   "execution_count": 32,
   "metadata": {},
   "outputs": [],
   "source": [
    "#old method in python2\n",
    "class Point:\n",
    "    #def __init__ is a construct to initializa variables in a class\n",
    "    def __init__(self, x, y, z=0.0):\n",
    "        self.x = x\n",
    "        self.y = y\n",
    "        self.z = z\n",
    "#using dataclass (available in python 3.7)\n",
    "#easier to initialize\n",
    "from dataclasses import dataclass\n",
    "@dataclass\n",
    "class Books1:\n",
    "    name=[]\n",
    "    price=float\n",
    "    def name_func(self, written_name):\n",
    "        name = written_name\n",
    "        return name\n"
   ]
  },
  {
   "cell_type": "code",
   "execution_count": 33,
   "metadata": {},
   "outputs": [
    {
     "name": "stdout",
     "output_type": "stream",
     "text": [
      "the name of this book is:  Laranja mecanica  and the price is:  100.25\n",
      "<class 'type'>\n"
     ]
    }
   ],
   "source": [
    "#setting name through defined function with @dataclass\n",
    "Laranja = Books1()\n",
    "Laranja.name = \"Laranja mecanica\"\n",
    "Laranja.price = 100.25\n",
    "print (\"the name of this book is: \", Laranja.name, \" and the price is: \", Laranja.price)\n",
    "#looping through objects inside a class\n",
    "print(type(Books)) #class type"
   ]
  },
  {
   "cell_type": "markdown",
   "metadata": {},
   "source": [
    "# NUMPY ARRAYS"
   ]
  },
  {
   "cell_type": "markdown",
   "metadata": {},
   "source": [
    "### NUMPY CHEATSHEET URL: https://s3.amazonaws.com/assets.datacamp.com/blog_assets/Numpy_Python_Cheat_Sheet.pdf"
   ]
  },
  {
   "cell_type": "markdown",
   "metadata": {},
   "source": [
    "### creating numpy arrays: var = np.array([ ]) "
   ]
  },
  {
   "cell_type": "markdown",
   "metadata": {},
   "source": [
    "### var = np.arange(fromx, toy, spacedby): ex var = np.arange(0,30,2) "
   ]
  },
  {
   "cell_type": "markdown",
   "metadata": {},
   "source": [
    "### np.reshape(nofrows,nofcolumns) ... np.linspace(fromx,toy,inznumbers)... np.ones... np.risize (similar to reshape but change the array), np.reshape (reshape without changing the variable), np.ones((x,y)), np.zeros, np.eye(3) - identity matrix) - AND COPY(if you change a subset of array the original array will change, so, copy avoids that)"
   ]
  },
  {
   "cell_type": "code",
   "execution_count": 34,
   "metadata": {},
   "outputs": [],
   "source": [
    "import numpy as np\n",
    "import pandas as pd"
   ]
  },
  {
   "cell_type": "markdown",
   "metadata": {},
   "source": [
    "### .Describe() - On a DataFrame"
   ]
  },
  {
   "cell_type": "code",
   "execution_count": 35,
   "metadata": {
    "scrolled": true
   },
   "outputs": [
    {
     "name": "stdout",
     "output_type": "stream",
     "text": [
      "i array print:  [1 3 5 7]\n",
      "item in array print:  1\n",
      "item in array print:  3\n",
      "item in array print:  5\n",
      "item in array print:  7\n",
      "i array print:  [2 4 6 8]\n",
      "item in array print:  2\n",
      "item in array print:  4\n",
      "item in array print:  6\n",
      "item in array print:  8\n",
      "\n",
      "\n",
      "printing array [[ 1  3  5  7]\n",
      " [ 2  4  6  8]\n",
      " [ 9 10 11 12]]\n",
      "shape of array is:  (3, 4)\n",
      "number of dimensions:  2\n",
      "# of elements (size):  12\n",
      "type is:  <class 'numpy.ndarray'>\n"
     ]
    }
   ],
   "source": [
    "twodimarray = np.array(\n",
    "    [\n",
    "        [1,3,5,7],\n",
    "        [2,4,6,8]\n",
    "    ]\n",
    ")\n",
    "#for with matrix, see result to understand it\n",
    "for array in twodimarray:\n",
    "    print(\"i array print: \", array)\n",
    "    for item in array:\n",
    "        print (\"item in array print: \",item)\n",
    "        \n",
    "threedimarray = np.array(\n",
    "    [\n",
    "        [1,3,5,7],\n",
    "        [2,4,6,8],\n",
    "        [9,10,11,12]\n",
    "    ]\n",
    ")\n",
    "print (\"\\n\\nprinting array\", threedimarray)\n",
    "print(\"shape of array is: \",threedimarray.shape)#3 lines and 4 columns\n",
    "print(\"number of dimensions: \", threedimarray.ndim)\n",
    "print(\"# of elements (size): \",threedimarray.size)\n",
    "print(\"type is: \", type(threedimarray))        \n",
    "    "
   ]
  },
  {
   "cell_type": "markdown",
   "metadata": {},
   "source": [
    "### Creating NP Arrays: (randon, reshape, arange, etc)"
   ]
  },
  {
   "cell_type": "code",
   "execution_count": 36,
   "metadata": {},
   "outputs": [
    {
     "name": "stdout",
     "output_type": "stream",
     "text": [
      "printing arrange:\n",
      "[0.  0.5 1.  1.5 2.  2.5 3.  3.5 4.  4.5]\n",
      "\n",
      "printing np_linspace_array is \n",
      "[ 1.    1.47  1.95  2.42  2.89  3.37  3.84  4.32  4.79  5.26  5.74  6.21\n",
      "  6.68  7.16  7.63  8.11  8.58  9.05  9.53 10.  ]\n",
      "printing randon 5x5 array \n",
      "[[0.62 0.88 0.47 0.17 0.93]\n",
      " [0.35 0.76 0.86 0.85 0.4 ]\n",
      " [0.58 0.08 0.02 0.56 0.3 ]\n",
      " [0.6  0.31 0.41 0.97 0.35]\n",
      " [0.05 0.1  0.3  0.44 0.77]]\n"
     ]
    }
   ],
   "source": [
    "array_arrange = np.arange(0,5,0.5) #create from x to y with spacing of z (x,y,z)\n",
    "print(\"printing arrange:\\n{}\\n\".format(array_arrange))\n",
    "np_linspace_array = np.linspace(1,10,20) #create from x to y with Z # of elements\n",
    "print(\"printing np_linspace_array is \\n{}\".format(np_linspace_array))\n",
    "random_array = np.random.random((5,5))\n",
    "print(\"printing randon 5x5 array \\n{}\".format(random_array))"
   ]
  },
  {
   "cell_type": "markdown",
   "metadata": {},
   "source": [
    "#### np.arange"
   ]
  },
  {
   "cell_type": "code",
   "execution_count": 37,
   "metadata": {},
   "outputs": [
    {
     "data": {
      "text/plain": [
       "array([0, 2, 4, 6, 8])"
      ]
     },
     "execution_count": 37,
     "metadata": {},
     "output_type": "execute_result"
    }
   ],
   "source": [
    "array = np.arange(0,10,2)\n",
    "array"
   ]
  },
  {
   "cell_type": "code",
   "execution_count": 38,
   "metadata": {},
   "outputs": [],
   "source": [
    "#from list to array\n",
    "list =[1,2,3]\n",
    "array_np = np.array(list)"
   ]
  },
  {
   "cell_type": "markdown",
   "metadata": {},
   "source": [
    "#### Copy array to another array + randon and reshape"
   ]
  },
  {
   "cell_type": "code",
   "execution_count": 39,
   "metadata": {},
   "outputs": [
    {
     "name": "stdout",
     "output_type": "stream",
     "text": [
      "[[8 1 8]\n",
      " [6 1 1]\n",
      " [3 1 1]\n",
      " [8 1 4]]\n",
      "\n",
      "r_copied is \n",
      "[0 1 2 3 4 5 6 7 8 9]\n"
     ]
    }
   ],
   "source": [
    "#not correct, changing root array\n",
    "z = np.random.randint(0,10,(4,3))\n",
    "z1 = z\n",
    "z1[:,1] = 1\n",
    "print(z) #it change the 2nd columns values to 1 even for z, and I just changed z1\n",
    "\n",
    "#correct way, not changing root array\n",
    "r = np.arange(0,10,1)\n",
    "r_copied = r.copy()\n",
    "print(\"\\nr_copied is \\n{}\".format(r_copied))"
   ]
  },
  {
   "cell_type": "markdown",
   "metadata": {},
   "source": [
    "#### Same Happens to DATAFRAMES, when you change a new dataframe you change the old one, should use COPY then"
   ]
  },
  {
   "cell_type": "code",
   "execution_count": 40,
   "metadata": {},
   "outputs": [
    {
     "name": "stdout",
     "output_type": "stream",
     "text": [
      "printing df \n",
      "    a  b  c  d  e\n",
      "0  0  1  2  3  4\n",
      "1  5  1  7  8  9 \n",
      " printing df_1 \n",
      "    a  b  c  d  e\n",
      "0  0  1  2  3  4\n",
      "1  5  1  7  8  9\n"
     ]
    }
   ],
   "source": [
    "z = np.arange(0,10,1).reshape(2,5)\n",
    "df = pd.DataFrame(z, columns=[\"a\",\"b\",\"c\",\"d\",\"e\"], index=[0,1])\n",
    "df_1 = df\n",
    "df_1[\"b\"] = 1\n",
    "df_1\n",
    "print(\"printing df \\n {} \\n printing df_1 \\n {}\".format(df,df_1))"
   ]
  },
  {
   "cell_type": "code",
   "execution_count": null,
   "metadata": {},
   "outputs": [],
   "source": []
  },
  {
   "cell_type": "code",
   "execution_count": null,
   "metadata": {},
   "outputs": [],
   "source": []
  },
  {
   "cell_type": "code",
   "execution_count": 41,
   "metadata": {},
   "outputs": [
    {
     "name": "stdout",
     "output_type": "stream",
     "text": [
      "first nparray is:  [0 1 2 3 4 5 6 7 8 9] \n",
      "randon array is:  [[0.87 0.58 0.28]\n",
      " [0.19 0.41 0.12]\n",
      " [0.68 0.44 0.56]]\n",
      "randon array is:  [0.37 0.4  0.11]\n"
     ]
    }
   ],
   "source": [
    "#create array from 0 to x, create random array, and create random matrix\n",
    "\n",
    "array_1 = np.arange(10) #creating np array from 0 to 9\n",
    "np.random.seed(25) #setting 25 the number until the randon change\n",
    "randomnpmtx1 = np.random.random((3,3)) #creating randon matrix np with random values\n",
    "print (\"first nparray is: \", array_1, \"\\nrandon array is: \", np.round(randomnpmtx1,2)) #\\n do break line\n",
    "randomarray = np.random.random(3)\n",
    "print (\"randon array is: \", randomarray)"
   ]
  },
  {
   "cell_type": "code",
   "execution_count": null,
   "metadata": {},
   "outputs": [],
   "source": []
  },
  {
   "cell_type": "markdown",
   "metadata": {},
   "source": [
    "# PANDAS DATAFRAMES"
   ]
  },
  {
   "cell_type": "markdown",
   "metadata": {},
   "source": [
    "## Pandas CheatSheet: \n",
    "1) http://datacamp-community-prod.s3.amazonaws.com/dbed353d-2757-4617-8206-8767ab379ab3<br></br>\n",
    "2.a) https://miro.medium.com/max/3820/1*YhTbz8b8Svi22wNVvqzneg.jpeg <br></br>\n",
    "2.b) https://miro.medium.com/max/3820/1*3-mTHM3ejorJwLnjuIpVNQ.jpeg<br></br>\n"
   ]
  },
  {
   "cell_type": "code",
   "execution_count": 42,
   "metadata": {},
   "outputs": [],
   "source": [
    "import pandas as pd\n",
    "import numpy as np"
   ]
  },
  {
   "cell_type": "markdown",
   "metadata": {},
   "source": [
    "#### Creating Series (1 dim pandas object)"
   ]
  },
  {
   "cell_type": "code",
   "execution_count": 43,
   "metadata": {},
   "outputs": [
    {
     "data": {
      "text/plain": [
       "1    1\n",
       "2    2\n",
       "3    3\n",
       "5    a\n",
       "dtype: object"
      ]
     },
     "execution_count": 43,
     "metadata": {},
     "output_type": "execute_result"
    }
   ],
   "source": [
    "a = [1,2,3,\"a\"]\n",
    "series_obj = pd.Series(a, index=[1,2,3,5])\n",
    "series_obj"
   ]
  },
  {
   "cell_type": "markdown",
   "metadata": {},
   "source": [
    "# Creating DataFrames with Pandas"
   ]
  },
  {
   "cell_type": "markdown",
   "metadata": {},
   "source": [
    "##### creating dataframe from a csv file, put columns (cars.columns = ['col1','col2','etc'] and index(easy way)  in two ways : index_col = 0 on load or cars.set_index (more complicated)"
   ]
  },
  {
   "cell_type": "code",
   "execution_count": 59,
   "metadata": {},
   "outputs": [
    {
     "data": {
      "text/html": [
       "<div>\n",
       "<style scoped>\n",
       "    .dataframe tbody tr th:only-of-type {\n",
       "        vertical-align: middle;\n",
       "    }\n",
       "\n",
       "    .dataframe tbody tr th {\n",
       "        vertical-align: top;\n",
       "    }\n",
       "\n",
       "    .dataframe thead th {\n",
       "        text-align: right;\n",
       "    }\n",
       "</style>\n",
       "<table border=\"1\" class=\"dataframe\">\n",
       "  <thead>\n",
       "    <tr style=\"text-align: right;\">\n",
       "      <th></th>\n",
       "      <th>mpg</th>\n",
       "      <th>cyl</th>\n",
       "      <th>disp</th>\n",
       "      <th>hp</th>\n",
       "      <th>drat</th>\n",
       "      <th>wt</th>\n",
       "      <th>qsec</th>\n",
       "      <th>vs</th>\n",
       "      <th>am</th>\n",
       "      <th>gear</th>\n",
       "      <th>carb</th>\n",
       "    </tr>\n",
       "    <tr>\n",
       "      <th>car_index</th>\n",
       "      <th></th>\n",
       "      <th></th>\n",
       "      <th></th>\n",
       "      <th></th>\n",
       "      <th></th>\n",
       "      <th></th>\n",
       "      <th></th>\n",
       "      <th></th>\n",
       "      <th></th>\n",
       "      <th></th>\n",
       "      <th></th>\n",
       "    </tr>\n",
       "  </thead>\n",
       "  <tbody>\n",
       "    <tr>\n",
       "      <th>Mazda RX4</th>\n",
       "      <td>21.0</td>\n",
       "      <td>6</td>\n",
       "      <td>160.0</td>\n",
       "      <td>110</td>\n",
       "      <td>3.90</td>\n",
       "      <td>2.620</td>\n",
       "      <td>16.46</td>\n",
       "      <td>0</td>\n",
       "      <td>1</td>\n",
       "      <td>4</td>\n",
       "      <td>4</td>\n",
       "    </tr>\n",
       "    <tr>\n",
       "      <th>Mazda RX4 Wag</th>\n",
       "      <td>21.0</td>\n",
       "      <td>6</td>\n",
       "      <td>160.0</td>\n",
       "      <td>110</td>\n",
       "      <td>3.90</td>\n",
       "      <td>2.875</td>\n",
       "      <td>17.02</td>\n",
       "      <td>0</td>\n",
       "      <td>1</td>\n",
       "      <td>4</td>\n",
       "      <td>4</td>\n",
       "    </tr>\n",
       "    <tr>\n",
       "      <th>Datsun 710</th>\n",
       "      <td>22.8</td>\n",
       "      <td>4</td>\n",
       "      <td>108.0</td>\n",
       "      <td>93</td>\n",
       "      <td>3.85</td>\n",
       "      <td>2.320</td>\n",
       "      <td>18.61</td>\n",
       "      <td>1</td>\n",
       "      <td>1</td>\n",
       "      <td>4</td>\n",
       "      <td>1</td>\n",
       "    </tr>\n",
       "    <tr>\n",
       "      <th>Hornet 4 Drive</th>\n",
       "      <td>21.4</td>\n",
       "      <td>6</td>\n",
       "      <td>258.0</td>\n",
       "      <td>110</td>\n",
       "      <td>3.08</td>\n",
       "      <td>3.215</td>\n",
       "      <td>19.44</td>\n",
       "      <td>1</td>\n",
       "      <td>0</td>\n",
       "      <td>3</td>\n",
       "      <td>1</td>\n",
       "    </tr>\n",
       "    <tr>\n",
       "      <th>Hornet Sportabout</th>\n",
       "      <td>18.7</td>\n",
       "      <td>8</td>\n",
       "      <td>360.0</td>\n",
       "      <td>175</td>\n",
       "      <td>3.15</td>\n",
       "      <td>3.440</td>\n",
       "      <td>17.02</td>\n",
       "      <td>0</td>\n",
       "      <td>0</td>\n",
       "      <td>3</td>\n",
       "      <td>2</td>\n",
       "    </tr>\n",
       "  </tbody>\n",
       "</table>\n",
       "</div>"
      ],
      "text/plain": [
       "                    mpg  cyl   disp   hp  drat     wt   qsec  vs  am  gear  \\\n",
       "car_index                                                                    \n",
       "Mazda RX4          21.0    6  160.0  110  3.90  2.620  16.46   0   1     4   \n",
       "Mazda RX4 Wag      21.0    6  160.0  110  3.90  2.875  17.02   0   1     4   \n",
       "Datsun 710         22.8    4  108.0   93  3.85  2.320  18.61   1   1     4   \n",
       "Hornet 4 Drive     21.4    6  258.0  110  3.08  3.215  19.44   1   0     3   \n",
       "Hornet Sportabout  18.7    8  360.0  175  3.15  3.440  17.02   0   0     3   \n",
       "\n",
       "                   carb  \n",
       "car_index                \n",
       "Mazda RX4             4  \n",
       "Mazda RX4 Wag         4  \n",
       "Datsun 710            1  \n",
       "Hornet 4 Drive        1  \n",
       "Hornet Sportabout     2  "
      ]
     },
     "execution_count": 59,
     "metadata": {},
     "output_type": "execute_result"
    }
   ],
   "source": [
    "#LOADING CARs DATA with index_col = [column]\n",
    "address = 'resources/mtcars.csv'\n",
    "cars = pd.read_csv(address, index_col = 0)\n",
    "cars.columns = ['mpg', 'cyl', 'disp', 'hp', 'drat', 'wt', 'qsec', 'vs', 'am', 'gear', 'carb']\n",
    "cars.head()\n",
    "\n",
    "\n",
    "#LOADING CARs DATA with cars.set_index\n",
    "address = 'resources/mtcars.csv'\n",
    "cars = pd.read_csv(address)\n",
    "cars.columns = ['car_index', 'mpg', 'cyl', 'disp', 'hp', 'drat', 'wt', 'qsec', 'vs', 'am', 'gear', 'carb']\n",
    "cars.set_index(['car_index'], drop=True, append=False, inplace=True, verify_integrity=False) #making car\n",
    "cars.head()"
   ]
  },
  {
   "cell_type": "code",
   "execution_count": 62,
   "metadata": {},
   "outputs": [
    {
     "name": "stdout",
     "output_type": "stream",
     "text": [
      "current directory is:  C:\\Users\\mateus_s_leao\\Documents\\git\\Data Science\\Python\\Python_Notebooks\n"
     ]
    },
    {
     "data": {
      "text/html": [
       "<div>\n",
       "<style scoped>\n",
       "    .dataframe tbody tr th:only-of-type {\n",
       "        vertical-align: middle;\n",
       "    }\n",
       "\n",
       "    .dataframe tbody tr th {\n",
       "        vertical-align: top;\n",
       "    }\n",
       "\n",
       "    .dataframe thead th {\n",
       "        text-align: right;\n",
       "    }\n",
       "</style>\n",
       "<table border=\"1\" class=\"dataframe\">\n",
       "  <thead>\n",
       "    <tr style=\"text-align: right;\">\n",
       "      <th></th>\n",
       "      <th>mpg</th>\n",
       "      <th>cyl</th>\n",
       "      <th>disp</th>\n",
       "    </tr>\n",
       "  </thead>\n",
       "  <tbody>\n",
       "    <tr>\n",
       "      <th>Mazda RX4</th>\n",
       "      <td>21.0</td>\n",
       "      <td>6</td>\n",
       "      <td>160.0</td>\n",
       "    </tr>\n",
       "    <tr>\n",
       "      <th>Mazda RX4 Wag</th>\n",
       "      <td>21.0</td>\n",
       "      <td>6</td>\n",
       "      <td>160.0</td>\n",
       "    </tr>\n",
       "    <tr>\n",
       "      <th>Datsun 710</th>\n",
       "      <td>22.8</td>\n",
       "      <td>4</td>\n",
       "      <td>108.0</td>\n",
       "    </tr>\n",
       "    <tr>\n",
       "      <th>Hornet 4 Drive</th>\n",
       "      <td>21.4</td>\n",
       "      <td>6</td>\n",
       "      <td>258.0</td>\n",
       "    </tr>\n",
       "    <tr>\n",
       "      <th>Hornet Sportabout</th>\n",
       "      <td>18.7</td>\n",
       "      <td>8</td>\n",
       "      <td>360.0</td>\n",
       "    </tr>\n",
       "  </tbody>\n",
       "</table>\n",
       "</div>"
      ],
      "text/plain": [
       "                    mpg  cyl   disp\n",
       "Mazda RX4          21.0    6  160.0\n",
       "Mazda RX4 Wag      21.0    6  160.0\n",
       "Datsun 710         22.8    4  108.0\n",
       "Hornet 4 Drive     21.4    6  258.0\n",
       "Hornet Sportabout  18.7    8  360.0"
      ]
     },
     "execution_count": 62,
     "metadata": {},
     "output_type": "execute_result"
    }
   ],
   "source": [
    "import os\n",
    "import pandas as pd\n",
    "current_dir = os.getcwd()\n",
    "print (\"current directory is: \", current_dir)\n",
    "dir_to_list = r\"C:\\Users\\mateus_s_leao\\Documents\\git\\Data Science\\Python\\Python_Notebooks\\resources\"\n",
    "os.listdir(dir_to_list)\n",
    "os.chdir(r\"C:\\Users\\mateus_s_leao\\Documents\\git\\Data Science\\Python\\Python_Notebooks\\resources\") #changing work directory\n",
    "df = pd.read_csv('mtcars.csv', index_col=0)\n",
    "df.iloc[0:5,0:3]\n",
    "#READ EXCEL FILE df = pd.read_excel('File.xlsx', sheetname='Sheet1')"
   ]
  },
  {
   "cell_type": "markdown",
   "metadata": {},
   "source": [
    "## Creating DataFrames with Different Modes:"
   ]
  },
  {
   "cell_type": "code",
   "execution_count": 66,
   "metadata": {},
   "outputs": [
    {
     "ename": "TypeError",
     "evalue": "'list' object is not callable",
     "output_type": "error",
     "traceback": [
      "\u001b[1;31m---------------------------------------------------------------------------\u001b[0m",
      "\u001b[1;31mTypeError\u001b[0m                                 Traceback (most recent call last)",
      "\u001b[1;32m<ipython-input-66-520bec25e411>\u001b[0m in \u001b[0;36m<module>\u001b[1;34m\u001b[0m\n\u001b[0;32m     39\u001b[0m         \u001b[1;34m'float'\u001b[0m\u001b[1;33m:\u001b[0m\u001b[1;36m1.\u001b[0m\u001b[1;33m,\u001b[0m\u001b[1;33m\u001b[0m\u001b[1;33m\u001b[0m\u001b[0m\n\u001b[0;32m     40\u001b[0m         \u001b[1;34m'time'\u001b[0m\u001b[1;33m:\u001b[0m\u001b[0mpd\u001b[0m\u001b[1;33m.\u001b[0m\u001b[0mTimestamp\u001b[0m\u001b[1;33m(\u001b[0m\u001b[1;34m'20160825'\u001b[0m\u001b[1;33m)\u001b[0m\u001b[1;33m,\u001b[0m\u001b[1;33m\u001b[0m\u001b[1;33m\u001b[0m\u001b[0m\n\u001b[1;32m---> 41\u001b[1;33m         \u001b[1;34m'series'\u001b[0m\u001b[1;33m:\u001b[0m\u001b[0mpd\u001b[0m\u001b[1;33m.\u001b[0m\u001b[0mSeries\u001b[0m\u001b[1;33m(\u001b[0m\u001b[1;36m1\u001b[0m\u001b[1;33m,\u001b[0m\u001b[0mindex\u001b[0m\u001b[1;33m=\u001b[0m\u001b[0mlist\u001b[0m\u001b[1;33m(\u001b[0m\u001b[0mrange\u001b[0m\u001b[1;33m(\u001b[0m\u001b[1;36m4\u001b[0m\u001b[1;33m)\u001b[0m\u001b[1;33m)\u001b[0m\u001b[1;33m,\u001b[0m\u001b[0mdtype\u001b[0m\u001b[1;33m=\u001b[0m\u001b[1;34m'float32'\u001b[0m\u001b[1;33m)\u001b[0m\u001b[1;33m,\u001b[0m\u001b[1;33m\u001b[0m\u001b[1;33m\u001b[0m\u001b[0m\n\u001b[0m\u001b[0;32m     42\u001b[0m         \u001b[1;34m'array'\u001b[0m\u001b[1;33m:\u001b[0m\u001b[0mnp\u001b[0m\u001b[1;33m.\u001b[0m\u001b[0marray\u001b[0m\u001b[1;33m(\u001b[0m\u001b[1;33m[\u001b[0m\u001b[1;36m3\u001b[0m\u001b[1;33m]\u001b[0m\u001b[1;33m*\u001b[0m\u001b[1;36m4\u001b[0m\u001b[1;33m,\u001b[0m\u001b[0mdtype\u001b[0m\u001b[1;33m=\u001b[0m\u001b[1;34m'int32'\u001b[0m\u001b[1;33m)\u001b[0m\u001b[1;33m,\u001b[0m\u001b[1;33m\u001b[0m\u001b[1;33m\u001b[0m\u001b[0m\n\u001b[0;32m     43\u001b[0m         \u001b[1;34m'categories'\u001b[0m\u001b[1;33m:\u001b[0m \u001b[0mpd\u001b[0m\u001b[1;33m.\u001b[0m\u001b[0mCategorical\u001b[0m\u001b[1;33m(\u001b[0m\u001b[1;33m[\u001b[0m\u001b[1;34m'test'\u001b[0m\u001b[1;33m,\u001b[0m\u001b[1;34m'train'\u001b[0m\u001b[1;33m,\u001b[0m\u001b[1;34m'taxes'\u001b[0m\u001b[1;33m,\u001b[0m\u001b[1;34m'tools'\u001b[0m\u001b[1;33m]\u001b[0m\u001b[1;33m)\u001b[0m\u001b[1;33m,\u001b[0m\u001b[1;33m\u001b[0m\u001b[1;33m\u001b[0m\u001b[0m\n",
      "\u001b[1;31mTypeError\u001b[0m: 'list' object is not callable"
     ]
    }
   ],
   "source": [
    "#WITH LISTS OF LISTS\n",
    "# initialize list of lists \n",
    "data = [\n",
    "    ['tom', 10], \n",
    "    ['nick', 15], \n",
    "    ['juli', 14]\n",
    "       ]       \n",
    "# Create the pandas DataFrame \n",
    "df = pd.DataFrame(data, columns = ['Name', 'Age'], index = [2,1,0]) \n",
    "\n",
    "\n",
    "\n",
    "\n",
    "#WITH LIST OF LISTS\n",
    "# initialize list of lists \n",
    "data = [\n",
    "    ['tom', 10], \n",
    "    ['nick', 15], \n",
    "    ['juli', 14]\n",
    "       ]   \n",
    "# Create the pandas DataFrame \n",
    "df = pd.DataFrame(data, columns = ['Name', 'Age'], index = [2,1,0]) \n",
    "\n",
    "\n",
    "\n",
    "\n",
    "#WITH DATES AS INDEX AND NP ARRAYS\n",
    "my_dates_index = pd.date_range('20190101', periods=8)\n",
    "my_dates_index\n",
    "sample_numpy_data = np.array(np.arange(40)).reshape(8,5)\n",
    "sample_numpy_data\n",
    "sample_df = pd.DataFrame(sample_numpy_data, index=my_dates_index, columns=[\"A\",\"B\",\"C\",\"D\",\"E\"])\n",
    "\n",
    "\n",
    "\n",
    "\n",
    "#WITH DICTIONARY\n",
    "df_from_dictionary = pd.DataFrame({\n",
    "        'float':1.,\n",
    "        'time':pd.Timestamp('20160825'),\n",
    "        'series':pd.Series(1,index=list(range(4)),dtype='float32'),\n",
    "        'array':np.array([3]*4,dtype='int32'),\n",
    "        'categories': pd.Categorical(['test','train','taxes','tools']),\n",
    "        'dull' : 'boring data'\n",
    "        })\n",
    "\n",
    "\n",
    "\n",
    "#FROM DICTIONARY WITH INDEX\n",
    "# Python code demonstrate creating  \n",
    "# DataFrame from dict narray / lists  \n",
    "# By default addresses.    \n",
    "import pandas as pd \n",
    "# intialise data with dict. and lists. \n",
    "#it takes the keys from dict to be columns\n",
    "data = {\n",
    "        'Name':['Tom', 'nick', 'krish', 'jack'], \n",
    "        'Age':[20, 21, 19, 18]\n",
    "       }\n",
    "# Create DataFrame \n",
    "df = pd.DataFrame(data, index = ('top 1','top 2','top 3', 'top 4'))\n",
    "\n",
    "\n",
    "\n",
    "\n",
    "#WITH LIST OF DICTIONARIES  \n",
    "# Intitialise lists data. \n",
    "data = [\n",
    "    {'a': 1, 'b': 2}, \n",
    "    {'a': 5, 'b': 10, 'c': 20},\n",
    "    {'f': 1, 'b': 2}\n",
    "        ] \n",
    "# With two column indices, values same  \n",
    "# as dictionary keys \n",
    "df1 = pd.DataFrame(data, index =['first', 'second','third'], columns =['a', 'b','c','b1'])\n",
    "#if I add the F column at the dataframe, the value 1 would appear in the third row\n",
    "#b1 doesn't exist at the dict, that's why the null\n",
    "\n",
    "\n",
    "\n",
    "\n",
    "\n",
    "#FROM DICT OF PD.SERIES\n",
    "# Python code demonstrate creating \n",
    "# Pandas Dataframe from Dicts of series.\n",
    "# Intialise data to Dicts of series. \n",
    "d = { 'one' : pd.Series([10, 20, 30, 40], index =['a', 'b', 'c', 'd']), \n",
    "      'two' : pd.Series([10, 20, 30, 40], index =['a', 'b', 'c', 'd'])}  \n",
    "# creates Dataframe. \n",
    "df = pd.DataFrame(d) \n",
    "\n",
    "\n",
    "\n",
    "\n",
    "\n",
    "#WITH LISTS USING ZIP\n",
    "# Python program to demonstrate creating  \n",
    "# pandas Datadaframe from lists using zip.      \n",
    "import pandas as pd  \n",
    "# List1  \n",
    "Name = ['tom', 'krish', 'nick', 'juli']  \n",
    "# List2  \n",
    "Age = [25, 30, 26, 22]  \n",
    "# get the list of tuples from two lists.  \n",
    "# and merge them by using zip().  \n",
    "list_of_tuples = list(zip(Name, Age))     \n",
    "# Assign data to tuples.  \n",
    "list_of_tuples   \n",
    "# Converting lists of tuples into  \n",
    "# pandas Dataframe.  \n",
    "df = pd.DataFrame(list_of_tuples, columns = ['Name', 'Age'])  "
   ]
  },
  {
   "cell_type": "markdown",
   "metadata": {},
   "source": [
    "### PANDAS METHODS "
   ]
  },
  {
   "cell_type": "code",
   "execution_count": 67,
   "metadata": {
    "scrolled": true
   },
   "outputs": [
    {
     "ename": "FileNotFoundError",
     "evalue": "[Errno 2] No such file or directory: 'C:/Users/mateus_silva1/Python_Jupyter_Studies/images/pandas_methods.PNG'",
     "output_type": "error",
     "traceback": [
      "\u001b[1;31m---------------------------------------------------------------------------\u001b[0m",
      "\u001b[1;31mFileNotFoundError\u001b[0m                         Traceback (most recent call last)",
      "\u001b[1;32m<ipython-input-67-1fdc0d36f3b2>\u001b[0m in \u001b[0;36m<module>\u001b[1;34m\u001b[0m\n\u001b[0;32m      1\u001b[0m \u001b[1;31m#loading image with code\u001b[0m\u001b[1;33m\u001b[0m\u001b[1;33m\u001b[0m\u001b[1;33m\u001b[0m\u001b[0m\n\u001b[0;32m      2\u001b[0m \u001b[1;32mfrom\u001b[0m \u001b[0mIPython\u001b[0m\u001b[1;33m.\u001b[0m\u001b[0mdisplay\u001b[0m \u001b[1;32mimport\u001b[0m \u001b[0mImage\u001b[0m\u001b[1;33m\u001b[0m\u001b[1;33m\u001b[0m\u001b[0m\n\u001b[1;32m----> 3\u001b[1;33m \u001b[0mImage\u001b[0m\u001b[1;33m(\u001b[0m\u001b[0mfilename\u001b[0m\u001b[1;33m=\u001b[0m\u001b[1;34m'C:/Users/mateus_silva1/Python_Jupyter_Studies/images/pandas_methods.PNG'\u001b[0m\u001b[1;33m)\u001b[0m\u001b[1;33m\u001b[0m\u001b[1;33m\u001b[0m\u001b[0m\n\u001b[0m\u001b[0;32m      4\u001b[0m \u001b[1;31m#LINK TO PAGE: https://www.geeksforgeeks.org/python-pandas-dataframe/#Basics4\u001b[0m\u001b[1;33m\u001b[0m\u001b[1;33m\u001b[0m\u001b[1;33m\u001b[0m\u001b[0m\n",
      "\u001b[1;32m~\\AppData\\Local\\Continuum\\anaconda3\\lib\\site-packages\\IPython\\core\\display.py\u001b[0m in \u001b[0;36m__init__\u001b[1;34m(self, data, url, filename, format, embed, width, height, retina, unconfined, metadata)\u001b[0m\n\u001b[0;32m   1202\u001b[0m         \u001b[0mself\u001b[0m\u001b[1;33m.\u001b[0m\u001b[0munconfined\u001b[0m \u001b[1;33m=\u001b[0m \u001b[0munconfined\u001b[0m\u001b[1;33m\u001b[0m\u001b[1;33m\u001b[0m\u001b[0m\n\u001b[0;32m   1203\u001b[0m         super(Image, self).__init__(data=data, url=url, filename=filename, \n\u001b[1;32m-> 1204\u001b[1;33m                 metadata=metadata)\n\u001b[0m\u001b[0;32m   1205\u001b[0m \u001b[1;33m\u001b[0m\u001b[0m\n\u001b[0;32m   1206\u001b[0m         \u001b[1;32mif\u001b[0m \u001b[0mself\u001b[0m\u001b[1;33m.\u001b[0m\u001b[0mwidth\u001b[0m \u001b[1;32mis\u001b[0m \u001b[1;32mNone\u001b[0m \u001b[1;32mand\u001b[0m \u001b[0mself\u001b[0m\u001b[1;33m.\u001b[0m\u001b[0mmetadata\u001b[0m\u001b[1;33m.\u001b[0m\u001b[0mget\u001b[0m\u001b[1;33m(\u001b[0m\u001b[1;34m'width'\u001b[0m\u001b[1;33m,\u001b[0m \u001b[1;33m{\u001b[0m\u001b[1;33m}\u001b[0m\u001b[1;33m)\u001b[0m\u001b[1;33m:\u001b[0m\u001b[1;33m\u001b[0m\u001b[1;33m\u001b[0m\u001b[0m\n",
      "\u001b[1;32m~\\AppData\\Local\\Continuum\\anaconda3\\lib\\site-packages\\IPython\\core\\display.py\u001b[0m in \u001b[0;36m__init__\u001b[1;34m(self, data, url, filename, metadata)\u001b[0m\n\u001b[0;32m    625\u001b[0m             \u001b[0mself\u001b[0m\u001b[1;33m.\u001b[0m\u001b[0mmetadata\u001b[0m \u001b[1;33m=\u001b[0m \u001b[1;33m{\u001b[0m\u001b[1;33m}\u001b[0m\u001b[1;33m\u001b[0m\u001b[1;33m\u001b[0m\u001b[0m\n\u001b[0;32m    626\u001b[0m \u001b[1;33m\u001b[0m\u001b[0m\n\u001b[1;32m--> 627\u001b[1;33m         \u001b[0mself\u001b[0m\u001b[1;33m.\u001b[0m\u001b[0mreload\u001b[0m\u001b[1;33m(\u001b[0m\u001b[1;33m)\u001b[0m\u001b[1;33m\u001b[0m\u001b[1;33m\u001b[0m\u001b[0m\n\u001b[0m\u001b[0;32m    628\u001b[0m         \u001b[0mself\u001b[0m\u001b[1;33m.\u001b[0m\u001b[0m_check_data\u001b[0m\u001b[1;33m(\u001b[0m\u001b[1;33m)\u001b[0m\u001b[1;33m\u001b[0m\u001b[1;33m\u001b[0m\u001b[0m\n\u001b[0;32m    629\u001b[0m \u001b[1;33m\u001b[0m\u001b[0m\n",
      "\u001b[1;32m~\\AppData\\Local\\Continuum\\anaconda3\\lib\\site-packages\\IPython\\core\\display.py\u001b[0m in \u001b[0;36mreload\u001b[1;34m(self)\u001b[0m\n\u001b[0;32m   1233\u001b[0m         \u001b[1;34m\"\"\"Reload the raw data from file or URL.\"\"\"\u001b[0m\u001b[1;33m\u001b[0m\u001b[1;33m\u001b[0m\u001b[0m\n\u001b[0;32m   1234\u001b[0m         \u001b[1;32mif\u001b[0m \u001b[0mself\u001b[0m\u001b[1;33m.\u001b[0m\u001b[0membed\u001b[0m\u001b[1;33m:\u001b[0m\u001b[1;33m\u001b[0m\u001b[1;33m\u001b[0m\u001b[0m\n\u001b[1;32m-> 1235\u001b[1;33m             \u001b[0msuper\u001b[0m\u001b[1;33m(\u001b[0m\u001b[0mImage\u001b[0m\u001b[1;33m,\u001b[0m\u001b[0mself\u001b[0m\u001b[1;33m)\u001b[0m\u001b[1;33m.\u001b[0m\u001b[0mreload\u001b[0m\u001b[1;33m(\u001b[0m\u001b[1;33m)\u001b[0m\u001b[1;33m\u001b[0m\u001b[1;33m\u001b[0m\u001b[0m\n\u001b[0m\u001b[0;32m   1236\u001b[0m             \u001b[1;32mif\u001b[0m \u001b[0mself\u001b[0m\u001b[1;33m.\u001b[0m\u001b[0mretina\u001b[0m\u001b[1;33m:\u001b[0m\u001b[1;33m\u001b[0m\u001b[1;33m\u001b[0m\u001b[0m\n\u001b[0;32m   1237\u001b[0m                 \u001b[0mself\u001b[0m\u001b[1;33m.\u001b[0m\u001b[0m_retina_shape\u001b[0m\u001b[1;33m(\u001b[0m\u001b[1;33m)\u001b[0m\u001b[1;33m\u001b[0m\u001b[1;33m\u001b[0m\u001b[0m\n",
      "\u001b[1;32m~\\AppData\\Local\\Continuum\\anaconda3\\lib\\site-packages\\IPython\\core\\display.py\u001b[0m in \u001b[0;36mreload\u001b[1;34m(self)\u001b[0m\n\u001b[0;32m    650\u001b[0m         \u001b[1;34m\"\"\"Reload the raw data from file or URL.\"\"\"\u001b[0m\u001b[1;33m\u001b[0m\u001b[1;33m\u001b[0m\u001b[0m\n\u001b[0;32m    651\u001b[0m         \u001b[1;32mif\u001b[0m \u001b[0mself\u001b[0m\u001b[1;33m.\u001b[0m\u001b[0mfilename\u001b[0m \u001b[1;32mis\u001b[0m \u001b[1;32mnot\u001b[0m \u001b[1;32mNone\u001b[0m\u001b[1;33m:\u001b[0m\u001b[1;33m\u001b[0m\u001b[1;33m\u001b[0m\u001b[0m\n\u001b[1;32m--> 652\u001b[1;33m             \u001b[1;32mwith\u001b[0m \u001b[0mopen\u001b[0m\u001b[1;33m(\u001b[0m\u001b[0mself\u001b[0m\u001b[1;33m.\u001b[0m\u001b[0mfilename\u001b[0m\u001b[1;33m,\u001b[0m \u001b[0mself\u001b[0m\u001b[1;33m.\u001b[0m\u001b[0m_read_flags\u001b[0m\u001b[1;33m)\u001b[0m \u001b[1;32mas\u001b[0m \u001b[0mf\u001b[0m\u001b[1;33m:\u001b[0m\u001b[1;33m\u001b[0m\u001b[1;33m\u001b[0m\u001b[0m\n\u001b[0m\u001b[0;32m    653\u001b[0m                 \u001b[0mself\u001b[0m\u001b[1;33m.\u001b[0m\u001b[0mdata\u001b[0m \u001b[1;33m=\u001b[0m \u001b[0mf\u001b[0m\u001b[1;33m.\u001b[0m\u001b[0mread\u001b[0m\u001b[1;33m(\u001b[0m\u001b[1;33m)\u001b[0m\u001b[1;33m\u001b[0m\u001b[1;33m\u001b[0m\u001b[0m\n\u001b[0;32m    654\u001b[0m         \u001b[1;32melif\u001b[0m \u001b[0mself\u001b[0m\u001b[1;33m.\u001b[0m\u001b[0murl\u001b[0m \u001b[1;32mis\u001b[0m \u001b[1;32mnot\u001b[0m \u001b[1;32mNone\u001b[0m\u001b[1;33m:\u001b[0m\u001b[1;33m\u001b[0m\u001b[1;33m\u001b[0m\u001b[0m\n",
      "\u001b[1;31mFileNotFoundError\u001b[0m: [Errno 2] No such file or directory: 'C:/Users/mateus_silva1/Python_Jupyter_Studies/images/pandas_methods.PNG'"
     ]
    }
   ],
   "source": [
    "#loading image with code\n",
    "from IPython.display import Image\n",
    "Image(filename='C:/Users/mateus_silva1/Python_Jupyter_Studies/images/pandas_methods.PNG')\n",
    "#LINK TO PAGE: https://www.geeksforgeeks.org/python-pandas-dataframe/#Basics4 "
   ]
  },
  {
   "cell_type": "markdown",
   "metadata": {},
   "source": [
    "#### Unique( ) and value_counts( ) - to see how your 'categorical' value looks like:"
   ]
  },
  {
   "cell_type": "code",
   "execution_count": 82,
   "metadata": {},
   "outputs": [
    {
     "name": "stdout",
     "output_type": "stream",
     "text": [
      "the name of unique values in the column 'gear' is:  [4 3 5]\n",
      "\n",
      "and the # in each value is:\n",
      "3    15\n",
      "4    12\n",
      "5     5\n",
      "Name: gear, dtype: int64\n",
      "\n",
      "and last we'll see the percentage of each value:\n",
      "3    0.46875\n",
      "4    0.37500\n",
      "5    0.15625\n",
      "Name: gear, dtype: float64\n"
     ]
    }
   ],
   "source": [
    "print(\"the name of unique values in the column 'gear' is: \", cars['gear'].unique()) # one way of concatenate string and var\n",
    "print(f\"\\nand the # in each value is:\\n{cars['gear'].value_counts()}\\n\")\n",
    "print(f\"and last we'll see the percentage of each value:\\n{cars['gear'].value_counts(normalize=True)}\")"
   ]
  },
  {
   "cell_type": "markdown",
   "metadata": {},
   "source": [
    "#### RESET AND CHANGE NAMES OF INDEX n COLUMNS: reset_index, index.name, set_index; COLUMNS (df.columns)"
   ]
  },
  {
   "cell_type": "markdown",
   "metadata": {},
   "source": [
    "#### Can use multi index (hierarchical, state and city, ex) to set_index, but then to use .loc has to use 2 arguments for the index names"
   ]
  },
  {
   "cell_type": "code",
   "execution_count": 34,
   "metadata": {},
   "outputs": [
    {
     "name": "stdout",
     "output_type": "stream",
     "text": [
      "printing df \n",
      "\n",
      "                    aa         bb        cc\n",
      "index_column                              \n",
      "0                 tom        usa    austin\n",
      "1                john  australia    sidney\n",
      "2             patrick     canada  montreal\n",
      "df columns are \n",
      "\n",
      "Index(['aa', 'bb', 'cc'], dtype='object')\n",
      "printing df2 \n",
      "\n",
      "                   name    country      city\n",
      "changed index                              \n",
      "0                  tom        usa    austin\n",
      "1                 john  australia    sidney\n",
      "2              patrick     canada  montreal\n",
      "printing df3 \n",
      "\n",
      "            country      city\n",
      "name                        \n",
      "tom            usa    austin\n",
      "john     australia    sidney\n",
      "patrick     canada  montreal\n"
     ]
    }
   ],
   "source": [
    "import pandas as pd\n",
    "import numpy as np\n",
    "#creating dict\n",
    "dict_to_df = {\n",
    "                'name': [\"tom\", \"john\", \"patrick\"],\n",
    "                'country': [\"usa\",\"australia\",\"canada\"],\n",
    "                'city': [\"austin\",\"sidney\",\"montreal\"]                \n",
    "             }\n",
    "#creating df\n",
    "df = pd.DataFrame(dict_to_df, index = np.arange(1,4))\n",
    "#reseting index and changing index name\n",
    "df.reset_index(drop=True, inplace=True) #WITH INPLACE EQUALS TO TRUE THERE'S NO NEED OF CREATING OTHER DF\n",
    "df.index.name = \"index_column\" \n",
    "df.columns = [\"aa\",\"bb\",\"cc\"] #CHANGING COLUMN NAMES\n",
    "print(\"printing df \\n\\n {}\".format(df))\n",
    "print(\"df columns are \\n\\n{}\".format(df.columns))\n",
    "\n",
    "#creating df and reseting index and changing index name\n",
    "df1 = pd.DataFrame(dict_to_df, index = np.arange(1,4))\n",
    "df2 = df1.reset_index(drop=True) #no need for inplace since I'm putting on other DF\n",
    "df2.index.name=\"changed index\" #changing index name\n",
    "print(\"printing df2 \\n\\n {}\".format(df2))\n",
    "\n",
    "######set index\n",
    "df3 = pd.DataFrame(dict_to_df, index = np.arange(1,4))\n",
    "df3.set_index(\"name\", drop=True, inplace=True) #repeating index because drop is false.\n",
    "print(\"printing df3 \\n\\n {}\".format(df3))"
   ]
  },
  {
   "cell_type": "markdown",
   "metadata": {},
   "source": [
    "### DF.RENAME, and with AXIS - FOR INDEX AND COLUMNS"
   ]
  },
  {
   "cell_type": "code",
   "execution_count": 1,
   "metadata": {},
   "outputs": [
    {
     "ename": "NameError",
     "evalue": "name 'pd' is not defined",
     "output_type": "error",
     "traceback": [
      "\u001b[1;31m---------------------------------------------------------------------------\u001b[0m",
      "\u001b[1;31mNameError\u001b[0m                                 Traceback (most recent call last)",
      "\u001b[1;32m<ipython-input-1-391c1fd1b2ea>\u001b[0m in \u001b[0;36m<module>\u001b[1;34m\u001b[0m\n\u001b[0;32m      1\u001b[0m \u001b[1;31m#COLUMNS FIRST\u001b[0m\u001b[1;33m\u001b[0m\u001b[1;33m\u001b[0m\u001b[1;33m\u001b[0m\u001b[0m\n\u001b[1;32m----> 2\u001b[1;33m \u001b[0mdf\u001b[0m \u001b[1;33m=\u001b[0m \u001b[0mpd\u001b[0m\u001b[1;33m.\u001b[0m\u001b[0mDataFrame\u001b[0m\u001b[1;33m(\u001b[0m\u001b[1;33m{\u001b[0m\u001b[1;34m\"A\"\u001b[0m\u001b[1;33m:\u001b[0m \u001b[1;33m[\u001b[0m\u001b[1;36m1\u001b[0m\u001b[1;33m,\u001b[0m \u001b[1;36m2\u001b[0m\u001b[1;33m,\u001b[0m \u001b[1;36m3\u001b[0m\u001b[1;33m]\u001b[0m\u001b[1;33m,\u001b[0m \u001b[1;34m\"B\"\u001b[0m\u001b[1;33m:\u001b[0m \u001b[1;33m[\u001b[0m\u001b[1;36m4\u001b[0m\u001b[1;33m,\u001b[0m \u001b[1;36m5\u001b[0m\u001b[1;33m,\u001b[0m \u001b[1;36m6\u001b[0m\u001b[1;33m]\u001b[0m\u001b[1;33m}\u001b[0m\u001b[1;33m)\u001b[0m\u001b[1;33m\u001b[0m\u001b[1;33m\u001b[0m\u001b[0m\n\u001b[0m\u001b[0;32m      3\u001b[0m \u001b[0mdf\u001b[0m\u001b[1;33m.\u001b[0m\u001b[0mrename\u001b[0m\u001b[1;33m(\u001b[0m\u001b[0mcolumns\u001b[0m\u001b[1;33m=\u001b[0m\u001b[1;33m{\u001b[0m\u001b[1;34m\"A\"\u001b[0m\u001b[1;33m:\u001b[0m \u001b[1;34m\"a\"\u001b[0m\u001b[1;33m,\u001b[0m \u001b[1;34m\"B\"\u001b[0m\u001b[1;33m:\u001b[0m \u001b[1;34m\"c\"\u001b[0m\u001b[1;33m}\u001b[0m\u001b[1;33m)\u001b[0m\u001b[1;33m\u001b[0m\u001b[1;33m\u001b[0m\u001b[0m\n\u001b[0;32m      4\u001b[0m \u001b[1;31m#INDEX NOW\u001b[0m\u001b[1;33m\u001b[0m\u001b[1;33m\u001b[0m\u001b[1;33m\u001b[0m\u001b[0m\n\u001b[0;32m      5\u001b[0m \u001b[0mdf\u001b[0m\u001b[1;33m.\u001b[0m\u001b[0mrename\u001b[0m\u001b[1;33m(\u001b[0m\u001b[0mindex\u001b[0m\u001b[1;33m=\u001b[0m\u001b[1;33m{\u001b[0m\u001b[1;36m0\u001b[0m\u001b[1;33m:\u001b[0m \u001b[1;34m\"x\"\u001b[0m\u001b[1;33m,\u001b[0m \u001b[1;36m1\u001b[0m\u001b[1;33m:\u001b[0m \u001b[1;34m\"y\"\u001b[0m\u001b[1;33m,\u001b[0m \u001b[1;36m2\u001b[0m\u001b[1;33m:\u001b[0m \u001b[1;34m\"z\"\u001b[0m\u001b[1;33m}\u001b[0m\u001b[1;33m)\u001b[0m\u001b[1;33m\u001b[0m\u001b[1;33m\u001b[0m\u001b[0m\n",
      "\u001b[1;31mNameError\u001b[0m: name 'pd' is not defined"
     ]
    }
   ],
   "source": [
    "#COLUMNS FIRST\n",
    "df = pd.DataFrame({\"A\": [1, 2, 3], \"B\": [4, 5, 6]})\n",
    "df.rename(columns={\"A\": \"a\", \"B\": \"c\"})\n",
    "#INDEX NOW\n",
    "df.rename(index={0: \"x\", 1: \"y\", 2: \"z\"})\n",
    "\n",
    "#AXIS \n",
    "df.rename(str.lower, axis='columns')\n",
    "df.rename({1: 2, 2: 4}, axis='index')\n"
   ]
  },
  {
   "cell_type": "markdown",
   "metadata": {},
   "source": [
    "### pd.Cut to do binnings"
   ]
  },
  {
   "cell_type": "code",
   "execution_count": null,
   "metadata": {},
   "outputs": [],
   "source": [
    "mydf = pd.DataFrame = ({\"sdtnames\":[\"ted\",\"fred\",\"angela\",\"roy\",\"ferdinand\",\"deb\"],\"grades\": [50,80,20,88,90,100]})\n",
    "mydf[\"binnedcol\"] = pd.cut(mydf[\"grades\"], bins = [0,60,80,100], labels = [\"failed\",\"c\",\"b\",\"a\"])"
   ]
  },
  {
   "cell_type": "markdown",
   "metadata": {},
   "source": [
    "### Pandas Boolean Mask and WHERE Function"
   ]
  },
  {
   "cell_type": "code",
   "execution_count": 36,
   "metadata": {},
   "outputs": [
    {
     "name": "stdout",
     "output_type": "stream",
     "text": [
      "df only_gold head is: \n",
      "                          #Summer  Gold  Silver  Bronze  Total  #Winter  \\\n",
      "Afghanistan (AFG)            NaN   NaN     NaN     NaN    NaN      NaN   \n",
      "Algeria (ALG)               12.0   5.0     2.0     8.0   15.0      3.0   \n",
      "Argentina (ARG)             23.0  18.0    24.0    28.0   70.0     18.0   \n",
      "Armenia (ARM)                5.0   1.0     2.0     9.0   12.0      6.0   \n",
      "Australasia (ANZ) [ANZ]      2.0   3.0     4.0     5.0   12.0      0.0   \n",
      "\n",
      "                         Gold.1  Silver.1  Bronze.1  Total.1  #Games  Gold.2  \\\n",
      "Afghanistan (AFG)           NaN       NaN       NaN      NaN     NaN     NaN   \n",
      "Algeria (ALG)               0.0       0.0       0.0      0.0    15.0     5.0   \n",
      "Argentina (ARG)             0.0       0.0       0.0      0.0    41.0    18.0   \n",
      "Armenia (ARM)               0.0       0.0       0.0      0.0    11.0     1.0   \n",
      "Australasia (ANZ) [ANZ]     0.0       0.0       0.0      0.0     2.0     3.0   \n",
      "\n",
      "                         Silver.2  Bronze.2  Combined total  \n",
      "Afghanistan (AFG)             NaN       NaN             NaN  \n",
      "Algeria (ALG)                 2.0       8.0            15.0  \n",
      "Argentina (ARG)              24.0      28.0            70.0  \n",
      "Armenia (ARM)                 2.0       9.0            12.0  \n",
      "Australasia (ANZ) [ANZ]       4.0       5.0            12.0  \n",
      "\n",
      "\n",
      " number of gold medals is 100\n",
      "number of countries with golden in summer and winter olympic games is (using len) 37\n"
     ]
    }
   ],
   "source": [
    "import pandas as pd\n",
    "#LOADING 0lympics data with index_col = [column]\n",
    "address = 'C:/Users/mateus_silva1/Documents/Data Science/Python Scripts/olympics.csv'\n",
    "df = pd.read_csv(address, index_col = 0, skiprows=1)\n",
    "\n",
    "#cleanning (changing) column names\n",
    "for col in df.columns:\n",
    "    if col[:2] == '01':\n",
    "        df.rename(columns={col:'Gold'+col[4:]}, inplace = True)\n",
    "    if col[:2] == '02':\n",
    "        df.rename(columns={col:'Silver'+col[4:]}, inplace = True)\n",
    "    if col[:2] == '03':\n",
    "        df.rename(columns={col:'Bronze'+col[4:]}, inplace = True)  \n",
    "    if col[:1] == '№':\n",
    "        df.rename(columns={col:'#'+col[2:]}, inplace = True)\n",
    "        \n",
    "#BOOLEAN MASKS\n",
    "only_gold = df.where(df['Gold'] > 0) #with where explicitly\n",
    "print(\"df only_gold head is: \\n {}\".format(only_gold.head()))\n",
    "print(\"\\n\\n number of gold medals is {}\".format(only_gold['Gold'].count()))\n",
    "#without where: more concise\n",
    "only_gold = df[df['Gold'] > 0]\n",
    "only_gold.head()\n",
    "\n",
    "######\n",
    "##### & AND | are AND and OR operators\n",
    "# DF WITH COUNTRIES WHO GOT GOLDEN MEDAL INS SUMMER AND WINTER OLYMPICS\n",
    "df_gold_summer_winter = df[(df['Gold']>0) | (df['Gold.1']>0)]\n",
    "#print # of countries\n",
    "print(\"number of countries with golden in summer and winter olympic games is (using len) {}\"\n",
    "      .format(len(df[(df['Gold']>0) & (df['Gold.1']>0)])))"
   ]
  },
  {
   "cell_type": "markdown",
   "metadata": {},
   "source": [
    "#### Filtering DataFrames with PAndas"
   ]
  },
  {
   "cell_type": "markdown",
   "metadata": {},
   "source": [
    "###### First Quick Example"
   ]
  },
  {
   "cell_type": "code",
   "execution_count": 31,
   "metadata": {},
   "outputs": [
    {
     "name": "stdout",
     "output_type": "stream",
     "text": [
      "  class  value\n",
      "0     a     10\n",
      "1     b     20\n",
      "2     c     30\n",
      "\n",
      "your filtered df is coming below: \n",
      "  class  value\n",
      "1     b     20\n",
      "2     c     30\n"
     ]
    }
   ],
   "source": [
    "#creating dictionary to be used as input of df\n",
    "data = {\n",
    "        'class' : ['a','b','c'],\n",
    "        'value' : [10,20,30]\n",
    "        }\n",
    "#creating df\n",
    "my_df = pd.DataFrame(data=data, columns=data.keys())\n",
    "print(my_df)\n",
    "# doing the filter with df[cond1 | cond2 | cond3]\n",
    "my_filtered_df = my_df[(my_df['class'] == 'c') | (my_df['class'] == 'b')]\n",
    "print(f\"\\nyour filtered df is coming below: \\n{my_filtered_df}\")"
   ]
  },
  {
   "cell_type": "code",
   "execution_count": null,
   "metadata": {},
   "outputs": [],
   "source": []
  },
  {
   "cell_type": "markdown",
   "metadata": {},
   "source": []
  },
  {
   "cell_type": "code",
   "execution_count": null,
   "metadata": {},
   "outputs": [],
   "source": []
  },
  {
   "cell_type": "code",
   "execution_count": null,
   "metadata": {},
   "outputs": [],
   "source": []
  },
  {
   "cell_type": "code",
   "execution_count": 41,
   "metadata": {},
   "outputs": [
    {
     "name": "stdout",
     "output_type": "stream",
     "text": [
      "Print df_bigger: \n",
      "\n",
      "       name    country      city  price\n",
      "1      tom        usa    austin  500.0\n",
      "2     john  australia    sidney  100.0\n",
      "3  patrick     canada  montreal    NaN \n",
      "\n",
      " and df_tom_filter: \n",
      "\n",
      "   name country city  price\n",
      "1  tom     NaN  NaN    NaN\n",
      "2  NaN     NaN  NaN    NaN\n",
      "3  NaN     NaN  NaN    NaN\n",
      "Input data has 5568 rows and 2 columns\n",
      "out of 5568 rows, 746 rows are spam, and 4822 rows are ham\n"
     ]
    }
   ],
   "source": [
    "#creating dict\n",
    "dict_to_df = {\n",
    "                'name':    [\"tom\", \"john\", \"patrick\"],\n",
    "                'country': [\"usa\",\"australia\",\"canada\"],\n",
    "                'city':    [\"austin\",\"sidney\",\"montreal\"],\n",
    "                'price':   [500,100,3]\n",
    "             }\n",
    "#creating df\n",
    "df = pd.DataFrame(dict_to_df, index = np.arange(1,4))\n",
    "df_bigger_eq_100 = df[df>=100] #FILTERING\n",
    "df_tom = df[df==\"tom\"] #FILTERING\n",
    "print(\"Print df_bigger: \\n\\n {} \\n\\n and df_tom_filter: \\n\\n {}\".format(df_bigger_eq_100,df_tom))\n",
    "\n",
    "\n",
    "#OTHER\n",
    "#EXAMPLE OF FILTERING\n",
    "url =  \"C:/Users/mateus_silva1/Documents/Data Science/Python Scripts/SMSSpamCollection.tsv\"\n",
    "fullCorpus = pd.read_csv(url, sep=\"\\t\", header=None, names=['label','body_text']) #names are to set columns\n",
    "# another way of putting column names\n",
    "#fullCorpus.columns = ['label', 'body_text']\n",
    "fullCorpus.head()\n",
    "#EXPLORE THE DATASET\n",
    "#what is the shape of the dataset?\n",
    "fullCorpus.shape\n",
    "#or\n",
    "print (\"Input data has {} rows and {} columns\".format(len(fullCorpus),len(fullCorpus.columns)))\n",
    "#how many spam/ham are there?\n",
    "print (\"out of {} rows, {} rows are spam, and {} rows are ham\".format(len(fullCorpus),\n",
    "        len(fullCorpus[fullCorpus.label=='spam']), #2 WAYS OF FILTERING WITH PANDAS\n",
    "        len(fullCorpus[fullCorpus['label']=='ham']))) #2 WAYS OF FILTERING WITH PANDAS"
   ]
  },
  {
   "cell_type": "markdown",
   "metadata": {},
   "source": [
    "### GroupBY with Pandas"
   ]
  },
  {
   "cell_type": "code",
   "execution_count": 42,
   "metadata": {},
   "outputs": [
    {
     "ename": "KeyError",
     "evalue": "'Column not found: amount'",
     "output_type": "error",
     "traceback": [
      "\u001b[1;31m---------------------------------------------------------------------------\u001b[0m",
      "\u001b[1;31mKeyError\u001b[0m                                  Traceback (most recent call last)",
      "\u001b[1;32m<ipython-input-42-eb3c6b6b02a0>\u001b[0m in \u001b[0;36m<module>\u001b[1;34m\u001b[0m\n\u001b[1;32m----> 1\u001b[1;33m \u001b[0mgrouped_df\u001b[0m \u001b[1;33m=\u001b[0m \u001b[0mpd\u001b[0m\u001b[1;33m.\u001b[0m\u001b[0mDataFrame\u001b[0m\u001b[1;33m(\u001b[0m\u001b[0mdf\u001b[0m\u001b[1;33m.\u001b[0m\u001b[0mgroupby\u001b[0m\u001b[1;33m(\u001b[0m\u001b[1;34m'name'\u001b[0m\u001b[1;33m)\u001b[0m\u001b[1;33m[\u001b[0m\u001b[1;34m'amount'\u001b[0m\u001b[1;33m]\u001b[0m\u001b[1;33m.\u001b[0m\u001b[0msum\u001b[0m\u001b[1;33m(\u001b[0m\u001b[1;33m)\u001b[0m\u001b[1;33m.\u001b[0m\u001b[0msort_values\u001b[0m\u001b[1;33m(\u001b[0m\u001b[0mascending\u001b[0m \u001b[1;33m=\u001b[0m \u001b[1;32mFalse\u001b[0m\u001b[1;33m)\u001b[0m\u001b[1;33m)\u001b[0m\u001b[1;33m\u001b[0m\u001b[1;33m\u001b[0m\u001b[0m\n\u001b[0m",
      "\u001b[1;32m~\\AppData\\Local\\Continuum\\anaconda3\\lib\\site-packages\\pandas\\core\\base.py\u001b[0m in \u001b[0;36m__getitem__\u001b[1;34m(self, key)\u001b[0m\n\u001b[0;32m    265\u001b[0m         \u001b[1;32melse\u001b[0m\u001b[1;33m:\u001b[0m\u001b[1;33m\u001b[0m\u001b[1;33m\u001b[0m\u001b[0m\n\u001b[0;32m    266\u001b[0m             \u001b[1;32mif\u001b[0m \u001b[0mkey\u001b[0m \u001b[1;32mnot\u001b[0m \u001b[1;32min\u001b[0m \u001b[0mself\u001b[0m\u001b[1;33m.\u001b[0m\u001b[0mobj\u001b[0m\u001b[1;33m:\u001b[0m\u001b[1;33m\u001b[0m\u001b[1;33m\u001b[0m\u001b[0m\n\u001b[1;32m--> 267\u001b[1;33m                 \u001b[1;32mraise\u001b[0m \u001b[0mKeyError\u001b[0m\u001b[1;33m(\u001b[0m\u001b[1;34m\"Column not found: {key}\"\u001b[0m\u001b[1;33m.\u001b[0m\u001b[0mformat\u001b[0m\u001b[1;33m(\u001b[0m\u001b[0mkey\u001b[0m\u001b[1;33m=\u001b[0m\u001b[0mkey\u001b[0m\u001b[1;33m)\u001b[0m\u001b[1;33m)\u001b[0m\u001b[1;33m\u001b[0m\u001b[1;33m\u001b[0m\u001b[0m\n\u001b[0m\u001b[0;32m    268\u001b[0m             \u001b[1;32mreturn\u001b[0m \u001b[0mself\u001b[0m\u001b[1;33m.\u001b[0m\u001b[0m_gotitem\u001b[0m\u001b[1;33m(\u001b[0m\u001b[0mkey\u001b[0m\u001b[1;33m,\u001b[0m \u001b[0mndim\u001b[0m\u001b[1;33m=\u001b[0m\u001b[1;36m1\u001b[0m\u001b[1;33m)\u001b[0m\u001b[1;33m\u001b[0m\u001b[1;33m\u001b[0m\u001b[0m\n\u001b[0;32m    269\u001b[0m \u001b[1;33m\u001b[0m\u001b[0m\n",
      "\u001b[1;31mKeyError\u001b[0m: 'Column not found: amount'"
     ]
    }
   ],
   "source": [
    "grouped_df = pd.DataFrame(df.groupby('name')['amount'].sum().sort_values(ascending = False))"
   ]
  },
  {
   "cell_type": "code",
   "execution_count": 45,
   "metadata": {},
   "outputs": [
    {
     "name": "stderr",
     "output_type": "stream",
     "text": [
      "C:\\Users\\mateus_silva1\\AppData\\Local\\Continuum\\anaconda3\\lib\\site-packages\\ipykernel_launcher.py:7: FutureWarning: using a dict on a Series for aggregation\n",
      "is deprecated and will be removed in a future version\n",
      "  import sys\n"
     ]
    },
    {
     "data": {
      "text/html": [
       "<div>\n",
       "<style scoped>\n",
       "    .dataframe tbody tr th:only-of-type {\n",
       "        vertical-align: middle;\n",
       "    }\n",
       "\n",
       "    .dataframe tbody tr th {\n",
       "        vertical-align: top;\n",
       "    }\n",
       "\n",
       "    .dataframe thead th {\n",
       "        text-align: right;\n",
       "    }\n",
       "</style>\n",
       "<table border=\"1\" class=\"dataframe\">\n",
       "  <thead>\n",
       "    <tr style=\"text-align: right;\">\n",
       "      <th></th>\n",
       "      <th>POPESTIMATE2010</th>\n",
       "      <th>POPESTIMATE2011</th>\n",
       "    </tr>\n",
       "    <tr>\n",
       "      <th>STNAME</th>\n",
       "      <th></th>\n",
       "      <th></th>\n",
       "    </tr>\n",
       "  </thead>\n",
       "  <tbody>\n",
       "    <tr>\n",
       "      <th>Alabama</th>\n",
       "      <td>1.407400e+05</td>\n",
       "      <td>9602216</td>\n",
       "    </tr>\n",
       "    <tr>\n",
       "      <th>Alaska</th>\n",
       "      <td>4.760140e+04</td>\n",
       "      <td>1445440</td>\n",
       "    </tr>\n",
       "    <tr>\n",
       "      <th>Arizona</th>\n",
       "      <td>8.010260e+05</td>\n",
       "      <td>12937464</td>\n",
       "    </tr>\n",
       "    <tr>\n",
       "      <th>Arkansas</th>\n",
       "      <td>7.690511e+04</td>\n",
       "      <td>5877076</td>\n",
       "    </tr>\n",
       "    <tr>\n",
       "      <th>California</th>\n",
       "      <td>1.265562e+06</td>\n",
       "      <td>75400068</td>\n",
       "    </tr>\n",
       "    <tr>\n",
       "      <th>Colorado</th>\n",
       "      <td>1.553309e+05</td>\n",
       "      <td>10238960</td>\n",
       "    </tr>\n",
       "    <tr>\n",
       "      <th>Connecticut</th>\n",
       "      <td>7.954927e+05</td>\n",
       "      <td>7179518</td>\n",
       "    </tr>\n",
       "    <tr>\n",
       "      <th>Delaware</th>\n",
       "      <td>4.498955e+05</td>\n",
       "      <td>1815832</td>\n",
       "    </tr>\n",
       "    <tr>\n",
       "      <th>District of Columbia</th>\n",
       "      <td>6.051260e+05</td>\n",
       "      <td>1240944</td>\n",
       "    </tr>\n",
       "    <tr>\n",
       "      <th>Florida</th>\n",
       "      <td>5.544085e+05</td>\n",
       "      <td>38211066</td>\n",
       "    </tr>\n",
       "    <tr>\n",
       "      <th>Georgia</th>\n",
       "      <td>1.214182e+05</td>\n",
       "      <td>19624560</td>\n",
       "    </tr>\n",
       "    <tr>\n",
       "      <th>Hawaii</th>\n",
       "      <td>4.546600e+05</td>\n",
       "      <td>2756454</td>\n",
       "    </tr>\n",
       "    <tr>\n",
       "      <th>Idaho</th>\n",
       "      <td>6.982160e+04</td>\n",
       "      <td>3168268</td>\n",
       "    </tr>\n",
       "    <tr>\n",
       "      <th>Illinois</th>\n",
       "      <td>2.493446e+05</td>\n",
       "      <td>25723764</td>\n",
       "    </tr>\n",
       "    <tr>\n",
       "      <th>Indiana</th>\n",
       "      <td>1.395826e+05</td>\n",
       "      <td>13033690</td>\n",
       "    </tr>\n",
       "    <tr>\n",
       "      <th>Iowa</th>\n",
       "      <td>6.101388e+04</td>\n",
       "      <td>6130778</td>\n",
       "    </tr>\n",
       "    <tr>\n",
       "      <th>Kansas</th>\n",
       "      <td>5.394008e+04</td>\n",
       "      <td>5739834</td>\n",
       "    </tr>\n",
       "    <tr>\n",
       "      <th>Kentucky</th>\n",
       "      <td>7.186673e+04</td>\n",
       "      <td>8735764</td>\n",
       "    </tr>\n",
       "    <tr>\n",
       "      <th>Louisiana</th>\n",
       "      <td>1.398446e+05</td>\n",
       "      <td>9150762</td>\n",
       "    </tr>\n",
       "    <tr>\n",
       "      <th>Maine</th>\n",
       "      <td>1.561994e+05</td>\n",
       "      <td>2656514</td>\n",
       "    </tr>\n",
       "    <tr>\n",
       "      <th>Maryland</th>\n",
       "      <td>4.630727e+05</td>\n",
       "      <td>11688342</td>\n",
       "    </tr>\n",
       "    <tr>\n",
       "      <th>Massachusetts</th>\n",
       "      <td>8.753381e+05</td>\n",
       "      <td>13223594</td>\n",
       "    </tr>\n",
       "    <tr>\n",
       "      <th>Michigan</th>\n",
       "      <td>2.351755e+05</td>\n",
       "      <td>19753178</td>\n",
       "    </tr>\n",
       "    <tr>\n",
       "      <th>Minnesota</th>\n",
       "      <td>1.207023e+05</td>\n",
       "      <td>10696238</td>\n",
       "    </tr>\n",
       "    <tr>\n",
       "      <th>Mississippi</th>\n",
       "      <td>7.157388e+04</td>\n",
       "      <td>5955998</td>\n",
       "    </tr>\n",
       "    <tr>\n",
       "      <th>Missouri</th>\n",
       "      <td>1.033802e+05</td>\n",
       "      <td>12021174</td>\n",
       "    </tr>\n",
       "    <tr>\n",
       "      <th>Montana</th>\n",
       "      <td>3.475940e+04</td>\n",
       "      <td>1995492</td>\n",
       "    </tr>\n",
       "    <tr>\n",
       "      <th>Nebraska</th>\n",
       "      <td>3.893670e+04</td>\n",
       "      <td>3684766</td>\n",
       "    </tr>\n",
       "    <tr>\n",
       "      <th>Nevada</th>\n",
       "      <td>3.003822e+05</td>\n",
       "      <td>5437638</td>\n",
       "    </tr>\n",
       "    <tr>\n",
       "      <th>New Hampshire</th>\n",
       "      <td>2.394015e+05</td>\n",
       "      <td>2636688</td>\n",
       "    </tr>\n",
       "    <tr>\n",
       "      <th>New Jersey</th>\n",
       "      <td>8.003528e+05</td>\n",
       "      <td>17685868</td>\n",
       "    </tr>\n",
       "    <tr>\n",
       "      <th>New Mexico</th>\n",
       "      <td>1.214554e+05</td>\n",
       "      <td>4156452</td>\n",
       "    </tr>\n",
       "    <tr>\n",
       "      <th>New York</th>\n",
       "      <td>6.159657e+05</td>\n",
       "      <td>39046404</td>\n",
       "    </tr>\n",
       "    <tr>\n",
       "      <th>North Carolina</th>\n",
       "      <td>1.892867e+05</td>\n",
       "      <td>19302050</td>\n",
       "    </tr>\n",
       "    <tr>\n",
       "      <th>North Dakota</th>\n",
       "      <td>2.498259e+04</td>\n",
       "      <td>1370652</td>\n",
       "    </tr>\n",
       "    <tr>\n",
       "      <th>Ohio</th>\n",
       "      <td>2.593431e+05</td>\n",
       "      <td>23090884</td>\n",
       "    </tr>\n",
       "    <tr>\n",
       "      <th>Oklahoma</th>\n",
       "      <td>9.639990e+04</td>\n",
       "      <td>7573252</td>\n",
       "    </tr>\n",
       "    <tr>\n",
       "      <th>Oregon</th>\n",
       "      <td>2.074579e+05</td>\n",
       "      <td>7737018</td>\n",
       "    </tr>\n",
       "    <tr>\n",
       "      <th>Pennsylvania</th>\n",
       "      <td>3.738828e+05</td>\n",
       "      <td>25490404</td>\n",
       "    </tr>\n",
       "    <tr>\n",
       "      <th>Rhode Island</th>\n",
       "      <td>3.510730e+05</td>\n",
       "      <td>2103712</td>\n",
       "    </tr>\n",
       "    <tr>\n",
       "      <th>South Carolina</th>\n",
       "      <td>1.972721e+05</td>\n",
       "      <td>9345466</td>\n",
       "    </tr>\n",
       "    <tr>\n",
       "      <th>South Dakota</th>\n",
       "      <td>2.436713e+04</td>\n",
       "      <td>1648578</td>\n",
       "    </tr>\n",
       "    <tr>\n",
       "      <th>Tennessee</th>\n",
       "      <td>1.324289e+05</td>\n",
       "      <td>12796816</td>\n",
       "    </tr>\n",
       "    <tr>\n",
       "      <th>Texas</th>\n",
       "      <td>1.979950e+05</td>\n",
       "      <td>51308928</td>\n",
       "    </tr>\n",
       "    <tr>\n",
       "      <th>Utah</th>\n",
       "      <td>1.850284e+05</td>\n",
       "      <td>5632880</td>\n",
       "    </tr>\n",
       "    <tr>\n",
       "      <th>Vermont</th>\n",
       "      <td>8.346453e+04</td>\n",
       "      <td>1253374</td>\n",
       "    </tr>\n",
       "    <tr>\n",
       "      <th>Virginia</th>\n",
       "      <td>1.197879e+05</td>\n",
       "      <td>16221566</td>\n",
       "    </tr>\n",
       "    <tr>\n",
       "      <th>Washington</th>\n",
       "      <td>3.371530e+05</td>\n",
       "      <td>13646458</td>\n",
       "    </tr>\n",
       "    <tr>\n",
       "      <th>West Virginia</th>\n",
       "      <td>6.622232e+04</td>\n",
       "      <td>3709896</td>\n",
       "    </tr>\n",
       "    <tr>\n",
       "      <th>Wisconsin</th>\n",
       "      <td>1.558960e+05</td>\n",
       "      <td>11419440</td>\n",
       "    </tr>\n",
       "    <tr>\n",
       "      <th>Wyoming</th>\n",
       "      <td>4.704300e+04</td>\n",
       "      <td>1135536</td>\n",
       "    </tr>\n",
       "  </tbody>\n",
       "</table>\n",
       "</div>"
      ],
      "text/plain": [
       "                      POPESTIMATE2010  POPESTIMATE2011\n",
       "STNAME                                                \n",
       "Alabama                  1.407400e+05          9602216\n",
       "Alaska                   4.760140e+04          1445440\n",
       "Arizona                  8.010260e+05         12937464\n",
       "Arkansas                 7.690511e+04          5877076\n",
       "California               1.265562e+06         75400068\n",
       "Colorado                 1.553309e+05         10238960\n",
       "Connecticut              7.954927e+05          7179518\n",
       "Delaware                 4.498955e+05          1815832\n",
       "District of Columbia     6.051260e+05          1240944\n",
       "Florida                  5.544085e+05         38211066\n",
       "Georgia                  1.214182e+05         19624560\n",
       "Hawaii                   4.546600e+05          2756454\n",
       "Idaho                    6.982160e+04          3168268\n",
       "Illinois                 2.493446e+05         25723764\n",
       "Indiana                  1.395826e+05         13033690\n",
       "Iowa                     6.101388e+04          6130778\n",
       "Kansas                   5.394008e+04          5739834\n",
       "Kentucky                 7.186673e+04          8735764\n",
       "Louisiana                1.398446e+05          9150762\n",
       "Maine                    1.561994e+05          2656514\n",
       "Maryland                 4.630727e+05         11688342\n",
       "Massachusetts            8.753381e+05         13223594\n",
       "Michigan                 2.351755e+05         19753178\n",
       "Minnesota                1.207023e+05         10696238\n",
       "Mississippi              7.157388e+04          5955998\n",
       "Missouri                 1.033802e+05         12021174\n",
       "Montana                  3.475940e+04          1995492\n",
       "Nebraska                 3.893670e+04          3684766\n",
       "Nevada                   3.003822e+05          5437638\n",
       "New Hampshire            2.394015e+05          2636688\n",
       "New Jersey               8.003528e+05         17685868\n",
       "New Mexico               1.214554e+05          4156452\n",
       "New York                 6.159657e+05         39046404\n",
       "North Carolina           1.892867e+05         19302050\n",
       "North Dakota             2.498259e+04          1370652\n",
       "Ohio                     2.593431e+05         23090884\n",
       "Oklahoma                 9.639990e+04          7573252\n",
       "Oregon                   2.074579e+05          7737018\n",
       "Pennsylvania             3.738828e+05         25490404\n",
       "Rhode Island             3.510730e+05          2103712\n",
       "South Carolina           1.972721e+05          9345466\n",
       "South Dakota             2.436713e+04          1648578\n",
       "Tennessee                1.324289e+05         12796816\n",
       "Texas                    1.979950e+05         51308928\n",
       "Utah                     1.850284e+05          5632880\n",
       "Vermont                  8.346453e+04          1253374\n",
       "Virginia                 1.197879e+05         16221566\n",
       "Washington               3.371530e+05         13646458\n",
       "West Virginia            6.622232e+04          3709896\n",
       "Wisconsin                1.558960e+05         11419440\n",
       "Wyoming                  4.704300e+04          1135536"
      ]
     },
     "execution_count": 45,
     "metadata": {},
     "output_type": "execute_result"
    }
   ],
   "source": [
    "#groupby with agregation\n",
    "import pandas as pd\n",
    "import numpy as np\n",
    "df = pd.read_csv('census.csv')\n",
    "df.groupby('STNAME').agg({'CENSUS2010POP': np.average})\n",
    "(df.set_index('STNAME').groupby(level=0)['CENSUS2010POP']\n",
    "    .agg({'avg': np.average, 'sum': np.sum}))\n",
    "(df.set_index('STNAME').groupby(level=0)['POPESTIMATE2010','POPESTIMATE2011']\n",
    "    .agg({'avg': np.average, 'sum': np.sum}))\n",
    "(df.set_index('STNAME').groupby(level=0)['POPESTIMATE2010','POPESTIMATE2011']\n",
    "    .agg({'POPESTIMATE2010': np.average, 'POPESTIMATE2011': np.sum}))"
   ]
  },
  {
   "cell_type": "code",
   "execution_count": null,
   "metadata": {},
   "outputs": [],
   "source": []
  },
  {
   "cell_type": "markdown",
   "metadata": {},
   "source": [
    "### Pivot Tables with Pandas"
   ]
  },
  {
   "cell_type": "code",
   "execution_count": 5,
   "metadata": {},
   "outputs": [
    {
     "ename": "FileNotFoundError",
     "evalue": "[Errno 2] File b'C:/Users/mateus_silva1/Documents/Data Science/Python Scripts/mdcars.csv' does not exist: b'C:/Users/mateus_silva1/Documents/Data Science/Python Scripts/mdcars.csv'",
     "output_type": "error",
     "traceback": [
      "\u001b[1;31m---------------------------------------------------------------------------\u001b[0m",
      "\u001b[1;31mFileNotFoundError\u001b[0m                         Traceback (most recent call last)",
      "\u001b[1;32m<ipython-input-5-78355679f2b6>\u001b[0m in \u001b[0;36m<module>\u001b[1;34m\u001b[0m\n\u001b[0;32m      1\u001b[0m \u001b[1;31m#http://open.canada.ca/data/en/dataset/98f1a129-f628-4ce4-b24d-6f16bf24dd64\u001b[0m\u001b[1;33m\u001b[0m\u001b[1;33m\u001b[0m\u001b[1;33m\u001b[0m\u001b[0m\n\u001b[1;32m----> 2\u001b[1;33m \u001b[0mdf\u001b[0m \u001b[1;33m=\u001b[0m \u001b[0mpd\u001b[0m\u001b[1;33m.\u001b[0m\u001b[0mread_csv\u001b[0m\u001b[1;33m(\u001b[0m\u001b[1;34m'C:/Users/mateus_silva1/Documents/Data Science/Python Scripts/mdcars.csv'\u001b[0m\u001b[1;33m)\u001b[0m\u001b[1;33m\u001b[0m\u001b[1;33m\u001b[0m\u001b[0m\n\u001b[0m\u001b[0;32m      3\u001b[0m \u001b[0mdf\u001b[0m\u001b[1;33m.\u001b[0m\u001b[0mpivot_table\u001b[0m\u001b[1;33m(\u001b[0m\u001b[0mvalues\u001b[0m\u001b[1;33m=\u001b[0m\u001b[1;34m'(kW)'\u001b[0m\u001b[1;33m,\u001b[0m \u001b[0mindex\u001b[0m\u001b[1;33m=\u001b[0m\u001b[1;34m'YEAR'\u001b[0m\u001b[1;33m,\u001b[0m \u001b[0mcolumns\u001b[0m\u001b[1;33m=\u001b[0m\u001b[1;34m'Make'\u001b[0m\u001b[1;33m,\u001b[0m \u001b[0maggfunc\u001b[0m\u001b[1;33m=\u001b[0m\u001b[0mnp\u001b[0m\u001b[1;33m.\u001b[0m\u001b[0mmean\u001b[0m\u001b[1;33m)\u001b[0m\u001b[1;33m\u001b[0m\u001b[1;33m\u001b[0m\u001b[0m\n\u001b[0;32m      4\u001b[0m \u001b[0mdf\u001b[0m\u001b[1;33m.\u001b[0m\u001b[0mpivot_table\u001b[0m\u001b[1;33m(\u001b[0m\u001b[0mvalues\u001b[0m\u001b[1;33m=\u001b[0m\u001b[1;34m'(kW)'\u001b[0m\u001b[1;33m,\u001b[0m \u001b[0mindex\u001b[0m\u001b[1;33m=\u001b[0m\u001b[1;34m'YEAR'\u001b[0m\u001b[1;33m,\u001b[0m \u001b[0mcolumns\u001b[0m\u001b[1;33m=\u001b[0m\u001b[1;34m'Make'\u001b[0m\u001b[1;33m,\u001b[0m \u001b[0maggfunc\u001b[0m\u001b[1;33m=\u001b[0m\u001b[1;33m[\u001b[0m\u001b[0mnp\u001b[0m\u001b[1;33m.\u001b[0m\u001b[0mmean\u001b[0m\u001b[1;33m,\u001b[0m\u001b[0mnp\u001b[0m\u001b[1;33m.\u001b[0m\u001b[0mmin\u001b[0m\u001b[1;33m]\u001b[0m\u001b[1;33m,\u001b[0m \u001b[0mmargins\u001b[0m\u001b[1;33m=\u001b[0m\u001b[1;32mTrue\u001b[0m\u001b[1;33m)\u001b[0m \u001b[1;31m#margins gives all category\u001b[0m\u001b[1;33m\u001b[0m\u001b[1;33m\u001b[0m\u001b[0m\n",
      "\u001b[1;32m~\\AppData\\Local\\Continuum\\anaconda3\\lib\\site-packages\\pandas\\io\\parsers.py\u001b[0m in \u001b[0;36mparser_f\u001b[1;34m(filepath_or_buffer, sep, delimiter, header, names, index_col, usecols, squeeze, prefix, mangle_dupe_cols, dtype, engine, converters, true_values, false_values, skipinitialspace, skiprows, skipfooter, nrows, na_values, keep_default_na, na_filter, verbose, skip_blank_lines, parse_dates, infer_datetime_format, keep_date_col, date_parser, dayfirst, cache_dates, iterator, chunksize, compression, thousands, decimal, lineterminator, quotechar, quoting, doublequote, escapechar, comment, encoding, dialect, error_bad_lines, warn_bad_lines, delim_whitespace, low_memory, memory_map, float_precision)\u001b[0m\n\u001b[0;32m    683\u001b[0m         )\n\u001b[0;32m    684\u001b[0m \u001b[1;33m\u001b[0m\u001b[0m\n\u001b[1;32m--> 685\u001b[1;33m         \u001b[1;32mreturn\u001b[0m \u001b[0m_read\u001b[0m\u001b[1;33m(\u001b[0m\u001b[0mfilepath_or_buffer\u001b[0m\u001b[1;33m,\u001b[0m \u001b[0mkwds\u001b[0m\u001b[1;33m)\u001b[0m\u001b[1;33m\u001b[0m\u001b[1;33m\u001b[0m\u001b[0m\n\u001b[0m\u001b[0;32m    686\u001b[0m \u001b[1;33m\u001b[0m\u001b[0m\n\u001b[0;32m    687\u001b[0m     \u001b[0mparser_f\u001b[0m\u001b[1;33m.\u001b[0m\u001b[0m__name__\u001b[0m \u001b[1;33m=\u001b[0m \u001b[0mname\u001b[0m\u001b[1;33m\u001b[0m\u001b[1;33m\u001b[0m\u001b[0m\n",
      "\u001b[1;32m~\\AppData\\Local\\Continuum\\anaconda3\\lib\\site-packages\\pandas\\io\\parsers.py\u001b[0m in \u001b[0;36m_read\u001b[1;34m(filepath_or_buffer, kwds)\u001b[0m\n\u001b[0;32m    455\u001b[0m \u001b[1;33m\u001b[0m\u001b[0m\n\u001b[0;32m    456\u001b[0m     \u001b[1;31m# Create the parser.\u001b[0m\u001b[1;33m\u001b[0m\u001b[1;33m\u001b[0m\u001b[1;33m\u001b[0m\u001b[0m\n\u001b[1;32m--> 457\u001b[1;33m     \u001b[0mparser\u001b[0m \u001b[1;33m=\u001b[0m \u001b[0mTextFileReader\u001b[0m\u001b[1;33m(\u001b[0m\u001b[0mfp_or_buf\u001b[0m\u001b[1;33m,\u001b[0m \u001b[1;33m**\u001b[0m\u001b[0mkwds\u001b[0m\u001b[1;33m)\u001b[0m\u001b[1;33m\u001b[0m\u001b[1;33m\u001b[0m\u001b[0m\n\u001b[0m\u001b[0;32m    458\u001b[0m \u001b[1;33m\u001b[0m\u001b[0m\n\u001b[0;32m    459\u001b[0m     \u001b[1;32mif\u001b[0m \u001b[0mchunksize\u001b[0m \u001b[1;32mor\u001b[0m \u001b[0miterator\u001b[0m\u001b[1;33m:\u001b[0m\u001b[1;33m\u001b[0m\u001b[1;33m\u001b[0m\u001b[0m\n",
      "\u001b[1;32m~\\AppData\\Local\\Continuum\\anaconda3\\lib\\site-packages\\pandas\\io\\parsers.py\u001b[0m in \u001b[0;36m__init__\u001b[1;34m(self, f, engine, **kwds)\u001b[0m\n\u001b[0;32m    893\u001b[0m             \u001b[0mself\u001b[0m\u001b[1;33m.\u001b[0m\u001b[0moptions\u001b[0m\u001b[1;33m[\u001b[0m\u001b[1;34m\"has_index_names\"\u001b[0m\u001b[1;33m]\u001b[0m \u001b[1;33m=\u001b[0m \u001b[0mkwds\u001b[0m\u001b[1;33m[\u001b[0m\u001b[1;34m\"has_index_names\"\u001b[0m\u001b[1;33m]\u001b[0m\u001b[1;33m\u001b[0m\u001b[1;33m\u001b[0m\u001b[0m\n\u001b[0;32m    894\u001b[0m \u001b[1;33m\u001b[0m\u001b[0m\n\u001b[1;32m--> 895\u001b[1;33m         \u001b[0mself\u001b[0m\u001b[1;33m.\u001b[0m\u001b[0m_make_engine\u001b[0m\u001b[1;33m(\u001b[0m\u001b[0mself\u001b[0m\u001b[1;33m.\u001b[0m\u001b[0mengine\u001b[0m\u001b[1;33m)\u001b[0m\u001b[1;33m\u001b[0m\u001b[1;33m\u001b[0m\u001b[0m\n\u001b[0m\u001b[0;32m    896\u001b[0m \u001b[1;33m\u001b[0m\u001b[0m\n\u001b[0;32m    897\u001b[0m     \u001b[1;32mdef\u001b[0m \u001b[0mclose\u001b[0m\u001b[1;33m(\u001b[0m\u001b[0mself\u001b[0m\u001b[1;33m)\u001b[0m\u001b[1;33m:\u001b[0m\u001b[1;33m\u001b[0m\u001b[1;33m\u001b[0m\u001b[0m\n",
      "\u001b[1;32m~\\AppData\\Local\\Continuum\\anaconda3\\lib\\site-packages\\pandas\\io\\parsers.py\u001b[0m in \u001b[0;36m_make_engine\u001b[1;34m(self, engine)\u001b[0m\n\u001b[0;32m   1133\u001b[0m     \u001b[1;32mdef\u001b[0m \u001b[0m_make_engine\u001b[0m\u001b[1;33m(\u001b[0m\u001b[0mself\u001b[0m\u001b[1;33m,\u001b[0m \u001b[0mengine\u001b[0m\u001b[1;33m=\u001b[0m\u001b[1;34m\"c\"\u001b[0m\u001b[1;33m)\u001b[0m\u001b[1;33m:\u001b[0m\u001b[1;33m\u001b[0m\u001b[1;33m\u001b[0m\u001b[0m\n\u001b[0;32m   1134\u001b[0m         \u001b[1;32mif\u001b[0m \u001b[0mengine\u001b[0m \u001b[1;33m==\u001b[0m \u001b[1;34m\"c\"\u001b[0m\u001b[1;33m:\u001b[0m\u001b[1;33m\u001b[0m\u001b[1;33m\u001b[0m\u001b[0m\n\u001b[1;32m-> 1135\u001b[1;33m             \u001b[0mself\u001b[0m\u001b[1;33m.\u001b[0m\u001b[0m_engine\u001b[0m \u001b[1;33m=\u001b[0m \u001b[0mCParserWrapper\u001b[0m\u001b[1;33m(\u001b[0m\u001b[0mself\u001b[0m\u001b[1;33m.\u001b[0m\u001b[0mf\u001b[0m\u001b[1;33m,\u001b[0m \u001b[1;33m**\u001b[0m\u001b[0mself\u001b[0m\u001b[1;33m.\u001b[0m\u001b[0moptions\u001b[0m\u001b[1;33m)\u001b[0m\u001b[1;33m\u001b[0m\u001b[1;33m\u001b[0m\u001b[0m\n\u001b[0m\u001b[0;32m   1136\u001b[0m         \u001b[1;32melse\u001b[0m\u001b[1;33m:\u001b[0m\u001b[1;33m\u001b[0m\u001b[1;33m\u001b[0m\u001b[0m\n\u001b[0;32m   1137\u001b[0m             \u001b[1;32mif\u001b[0m \u001b[0mengine\u001b[0m \u001b[1;33m==\u001b[0m \u001b[1;34m\"python\"\u001b[0m\u001b[1;33m:\u001b[0m\u001b[1;33m\u001b[0m\u001b[1;33m\u001b[0m\u001b[0m\n",
      "\u001b[1;32m~\\AppData\\Local\\Continuum\\anaconda3\\lib\\site-packages\\pandas\\io\\parsers.py\u001b[0m in \u001b[0;36m__init__\u001b[1;34m(self, src, **kwds)\u001b[0m\n\u001b[0;32m   1915\u001b[0m         \u001b[0mkwds\u001b[0m\u001b[1;33m[\u001b[0m\u001b[1;34m\"usecols\"\u001b[0m\u001b[1;33m]\u001b[0m \u001b[1;33m=\u001b[0m \u001b[0mself\u001b[0m\u001b[1;33m.\u001b[0m\u001b[0musecols\u001b[0m\u001b[1;33m\u001b[0m\u001b[1;33m\u001b[0m\u001b[0m\n\u001b[0;32m   1916\u001b[0m \u001b[1;33m\u001b[0m\u001b[0m\n\u001b[1;32m-> 1917\u001b[1;33m         \u001b[0mself\u001b[0m\u001b[1;33m.\u001b[0m\u001b[0m_reader\u001b[0m \u001b[1;33m=\u001b[0m \u001b[0mparsers\u001b[0m\u001b[1;33m.\u001b[0m\u001b[0mTextReader\u001b[0m\u001b[1;33m(\u001b[0m\u001b[0msrc\u001b[0m\u001b[1;33m,\u001b[0m \u001b[1;33m**\u001b[0m\u001b[0mkwds\u001b[0m\u001b[1;33m)\u001b[0m\u001b[1;33m\u001b[0m\u001b[1;33m\u001b[0m\u001b[0m\n\u001b[0m\u001b[0;32m   1918\u001b[0m         \u001b[0mself\u001b[0m\u001b[1;33m.\u001b[0m\u001b[0munnamed_cols\u001b[0m \u001b[1;33m=\u001b[0m \u001b[0mself\u001b[0m\u001b[1;33m.\u001b[0m\u001b[0m_reader\u001b[0m\u001b[1;33m.\u001b[0m\u001b[0munnamed_cols\u001b[0m\u001b[1;33m\u001b[0m\u001b[1;33m\u001b[0m\u001b[0m\n\u001b[0;32m   1919\u001b[0m \u001b[1;33m\u001b[0m\u001b[0m\n",
      "\u001b[1;32mpandas/_libs/parsers.pyx\u001b[0m in \u001b[0;36mpandas._libs.parsers.TextReader.__cinit__\u001b[1;34m()\u001b[0m\n",
      "\u001b[1;32mpandas/_libs/parsers.pyx\u001b[0m in \u001b[0;36mpandas._libs.parsers.TextReader._setup_parser_source\u001b[1;34m()\u001b[0m\n",
      "\u001b[1;31mFileNotFoundError\u001b[0m: [Errno 2] File b'C:/Users/mateus_silva1/Documents/Data Science/Python Scripts/mdcars.csv' does not exist: b'C:/Users/mateus_silva1/Documents/Data Science/Python Scripts/mdcars.csv'"
     ]
    }
   ],
   "source": [
    "#http://open.canada.ca/data/en/dataset/98f1a129-f628-4ce4-b24d-6f16bf24dd64\n",
    "df = pd.read_csv('C:/Users/mateus_silva1/Documents/Data Science/Python Scripts/mdcars.csv')\n",
    "df.pivot_table(values='(kW)', index='YEAR', columns='Make', aggfunc=np.mean)\n",
    "df.pivot_table(values='(kW)', index='YEAR', columns='Make', aggfunc=[np.mean,np.min], margins=True) #margins gives all category"
   ]
  },
  {
   "cell_type": "markdown",
   "metadata": {},
   "source": [
    "### Concatenate with Pandas"
   ]
  },
  {
   "cell_type": "code",
   "execution_count": 4,
   "metadata": {},
   "outputs": [
    {
     "data": {
      "image/png": "[encoded data removed]",
      "text/plain": [
       "<IPython.core.display.Image object>"
      ]
     },
     "execution_count": 4,
     "metadata": {},
     "output_type": "execute_result"
    }
   ],
   "source": [
    "#loading image with code\n",
    "from IPython.display import Image\n",
    "Image(filename='C:/Users/mateus_silva1/Python_Jupyter_Studies/images/concatenate.PNG')"
   ]
  },
  {
   "cell_type": "markdown",
   "metadata": {},
   "source": [
    "### Append now: (Similar to concatenate)"
   ]
  },
  {
   "cell_type": "markdown",
   "metadata": {},
   "source": [
    "### Use display(df) to print a dataframe in a table shape"
   ]
  },
  {
   "cell_type": "code",
   "execution_count": 20,
   "metadata": {},
   "outputs": [
    {
     "name": "stdout",
     "output_type": "stream",
     "text": [
      "see df1:\n"
     ]
    },
    {
     "data": {
      "text/html": [
       "<div>\n",
       "<style scoped>\n",
       "    .dataframe tbody tr th:only-of-type {\n",
       "        vertical-align: middle;\n",
       "    }\n",
       "\n",
       "    .dataframe tbody tr th {\n",
       "        vertical-align: top;\n",
       "    }\n",
       "\n",
       "    .dataframe thead th {\n",
       "        text-align: right;\n",
       "    }\n",
       "</style>\n",
       "<table border=\"1\" class=\"dataframe\">\n",
       "  <thead>\n",
       "    <tr style=\"text-align: right;\">\n",
       "      <th></th>\n",
       "      <th>col1</th>\n",
       "      <th>col2</th>\n",
       "      <th>col3</th>\n",
       "    </tr>\n",
       "  </thead>\n",
       "  <tbody>\n",
       "    <tr>\n",
       "      <th>0</th>\n",
       "      <td>1</td>\n",
       "      <td>2</td>\n",
       "      <td>3</td>\n",
       "    </tr>\n",
       "    <tr>\n",
       "      <th>1</th>\n",
       "      <td>4</td>\n",
       "      <td>5</td>\n",
       "      <td>6</td>\n",
       "    </tr>\n",
       "    <tr>\n",
       "      <th>2</th>\n",
       "      <td>7</td>\n",
       "      <td>8</td>\n",
       "      <td>9</td>\n",
       "    </tr>\n",
       "  </tbody>\n",
       "</table>\n",
       "</div>"
      ],
      "text/plain": [
       "   col1  col2  col3\n",
       "0     1     2     3\n",
       "1     4     5     6\n",
       "2     7     8     9"
      ]
     },
     "metadata": {},
     "output_type": "display_data"
    },
    {
     "name": "stdout",
     "output_type": "stream",
     "text": [
      "and df2:\n"
     ]
    },
    {
     "data": {
      "text/html": [
       "<div>\n",
       "<style scoped>\n",
       "    .dataframe tbody tr th:only-of-type {\n",
       "        vertical-align: middle;\n",
       "    }\n",
       "\n",
       "    .dataframe tbody tr th {\n",
       "        vertical-align: top;\n",
       "    }\n",
       "\n",
       "    .dataframe thead th {\n",
       "        text-align: right;\n",
       "    }\n",
       "</style>\n",
       "<table border=\"1\" class=\"dataframe\">\n",
       "  <thead>\n",
       "    <tr style=\"text-align: right;\">\n",
       "      <th></th>\n",
       "      <th>col1</th>\n",
       "      <th>col2</th>\n",
       "      <th>col3</th>\n",
       "    </tr>\n",
       "  </thead>\n",
       "  <tbody>\n",
       "    <tr>\n",
       "      <th>0</th>\n",
       "      <td>a</td>\n",
       "      <td>b</td>\n",
       "      <td>c</td>\n",
       "    </tr>\n",
       "    <tr>\n",
       "      <th>1</th>\n",
       "      <td>d</td>\n",
       "      <td>e</td>\n",
       "      <td>f</td>\n",
       "    </tr>\n",
       "    <tr>\n",
       "      <th>2</th>\n",
       "      <td>g</td>\n",
       "      <td>h</td>\n",
       "      <td>i</td>\n",
       "    </tr>\n",
       "  </tbody>\n",
       "</table>\n",
       "</div>"
      ],
      "text/plain": [
       "  col1 col2 col3\n",
       "0    a    b    c\n",
       "1    d    e    f\n",
       "2    g    h    i"
      ]
     },
     "metadata": {},
     "output_type": "display_data"
    },
    {
     "name": "stdout",
     "output_type": "stream",
     "text": [
      "\n",
      "see appended df:\n"
     ]
    },
    {
     "data": {
      "text/html": [
       "<div>\n",
       "<style scoped>\n",
       "    .dataframe tbody tr th:only-of-type {\n",
       "        vertical-align: middle;\n",
       "    }\n",
       "\n",
       "    .dataframe tbody tr th {\n",
       "        vertical-align: top;\n",
       "    }\n",
       "\n",
       "    .dataframe thead th {\n",
       "        text-align: right;\n",
       "    }\n",
       "</style>\n",
       "<table border=\"1\" class=\"dataframe\">\n",
       "  <thead>\n",
       "    <tr style=\"text-align: right;\">\n",
       "      <th></th>\n",
       "      <th>col1</th>\n",
       "      <th>col2</th>\n",
       "      <th>col3</th>\n",
       "    </tr>\n",
       "  </thead>\n",
       "  <tbody>\n",
       "    <tr>\n",
       "      <th>0</th>\n",
       "      <td>1</td>\n",
       "      <td>2</td>\n",
       "      <td>3</td>\n",
       "    </tr>\n",
       "    <tr>\n",
       "      <th>1</th>\n",
       "      <td>4</td>\n",
       "      <td>5</td>\n",
       "      <td>6</td>\n",
       "    </tr>\n",
       "    <tr>\n",
       "      <th>2</th>\n",
       "      <td>7</td>\n",
       "      <td>8</td>\n",
       "      <td>9</td>\n",
       "    </tr>\n",
       "    <tr>\n",
       "      <th>3</th>\n",
       "      <td>a</td>\n",
       "      <td>b</td>\n",
       "      <td>c</td>\n",
       "    </tr>\n",
       "    <tr>\n",
       "      <th>4</th>\n",
       "      <td>d</td>\n",
       "      <td>e</td>\n",
       "      <td>f</td>\n",
       "    </tr>\n",
       "    <tr>\n",
       "      <th>5</th>\n",
       "      <td>g</td>\n",
       "      <td>h</td>\n",
       "      <td>i</td>\n",
       "    </tr>\n",
       "  </tbody>\n",
       "</table>\n",
       "</div>"
      ],
      "text/plain": [
       "  col1 col2 col3\n",
       "0    1    2    3\n",
       "1    4    5    6\n",
       "2    7    8    9\n",
       "3    a    b    c\n",
       "4    d    e    f\n",
       "5    g    h    i"
      ]
     },
     "execution_count": 20,
     "metadata": {},
     "output_type": "execute_result"
    }
   ],
   "source": [
    "#playing with merges, joins, concatenates\n",
    "list1 = [['col1','col2','col3'],\n",
    "       [1,2,3],\n",
    "       [4,5,6],\n",
    "       [7,8,9]]\n",
    "     \n",
    "list2 = [['col1','col2','col3'],\n",
    "       ['a','b','c'],\n",
    "       ['d','e','f'],\n",
    "       ['g','h','i']]\n",
    "#creating df1 and df2 with lists\n",
    "df1 = pd.DataFrame(data=list1[1:], columns=list1[0])\n",
    "df2 = pd.DataFrame(data=list2[1:], columns=list1[0])\n",
    "from IPython.display import display, HTML\n",
    "print(\"see df1:\")\n",
    "display(df1)\n",
    "print(\"and df2:\")\n",
    "display(df2)\n",
    "\n",
    "#append:\n",
    "df_append = df1.append(df2, ignore_index=True)\n",
    "print(\"\\nsee appended df:\")\n",
    "df_append\n",
    "\n"
   ]
  },
  {
   "cell_type": "code",
   "execution_count": null,
   "metadata": {},
   "outputs": [],
   "source": []
  },
  {
   "cell_type": "markdown",
   "metadata": {},
   "source": [
    "### Merge with Pandas; join is similar to Merge but focused on the index only, not on any other column from the df"
   ]
  },
  {
   "cell_type": "markdown",
   "metadata": {},
   "source": [
    "### *pd.concat([df1, df2], axis='col/row(default)') and df1.append(df2) are very similar*"
   ]
  },
  {
   "cell_type": "code",
   "execution_count": null,
   "metadata": {},
   "outputs": [],
   "source": []
  },
  {
   "cell_type": "code",
   "execution_count": 5,
   "metadata": {},
   "outputs": [
    {
     "data": {
      "image/png": "[encoded data removed]",
      "text/plain": [
       "<IPython.core.display.Image object>"
      ]
     },
     "execution_count": 5,
     "metadata": {},
     "output_type": "execute_result"
    }
   ],
   "source": [
    "#loading image with code\n",
    "from IPython.display import Image\n",
    "Image(filename='C:/Users/mateus_silva1/Python_Jupyter_Studies/images/merge.PNG')"
   ]
  },
  {
   "cell_type": "code",
   "execution_count": 3,
   "metadata": {},
   "outputs": [
    {
     "name": "stdout",
     "output_type": "stream",
     "text": [
      "df without gruping: \n",
      "    name  amount    type\n",
      "0   tom      10    wild\n",
      "1  nick      15  loving\n",
      "2  juli      14   sunny\n",
      "3  juli      14   sunny\n",
      "4  juli      14   sunny\n",
      "5   tom      20    wild\n",
      "df with grouping: \n",
      "              amount\n",
      "name type          \n",
      "juli sunny       42\n",
      "tom  wild        30\n",
      "nick loving      15\n",
      "merged DF: \n",
      "    name  amount    humor\n",
      "0  juli      42  awesome\n",
      "1   tom      30  furious\n",
      "2  nick      15      Bad\n"
     ]
    }
   ],
   "source": [
    "import pandas as pd\n",
    "#creating from list of lists\n",
    "data = [\n",
    "    ['tom', 10, 'wild'], \n",
    "    ['nick', 15, 'loving'], \n",
    "    ['juli', 14, 'sunny'],\n",
    "    ['juli', 14, 'sunny'],\n",
    "    ['juli', 14, 'sunny'],\n",
    "    ['tom', 20, 'wild'],\n",
    "       ]\n",
    "#creating DF\n",
    "df = pd.DataFrame(data,columns=['name','amount','type'])\n",
    "print(\"df without gruping: \\n\",df)\n",
    "#grouping DF and putting in a new DF\n",
    "grouped_df = pd.DataFrame(df.groupby(['name','type'])['amount'].sum().sort_values(ascending = False))\n",
    "print(\"df with grouping: \\n\",grouped_df)\n",
    "\n",
    "#start merging\n",
    "#had to create var without the values to merge, otherwise it wouldn't be grouped\n",
    "to_merge= [\n",
    "    ['tom', 'furious'],\n",
    "    ['juli','awesome'],\n",
    "    ['nick','Bad']\n",
    "          ]\n",
    "to_merge_df = pd.DataFrame(to_merge, columns=['name','humor'])\n",
    "###############################################################\n",
    "merged_df = pd.merge(grouped_df, to_merge_df, on='name')\n",
    "print(\"merged DF: \\n\", merged_df)"
   ]
  },
  {
   "cell_type": "code",
   "execution_count": 2,
   "metadata": {
    "scrolled": true
   },
   "outputs": [
    {
     "name": "stdout",
     "output_type": "stream",
     "text": [
      "staff df:\n",
      "                 Role\n",
      "Name                 \n",
      "Kelly  Director of HR\n",
      "Sally  Course liasion\n",
      "James          Grader\n",
      "\n",
      "student df:\n",
      "            School\n",
      "Name              \n",
      "James     Business\n",
      "Mike           Law\n",
      "Sally  Engineering\n",
      "\n",
      "first merge with outer and on name:  \n",
      "                  Role       School\n",
      "Name                              \n",
      "Kelly  Director of HR          NaN\n",
      "Sally  Course liasion  Engineering\n",
      "James          Grader     Business\n",
      "Mike              NaN          Law \n",
      "\n",
      "first merge with outer  \n",
      "                  Role       School\n",
      "Name                              \n",
      "James          Grader     Business\n",
      "Kelly  Director of HR          NaN\n",
      "Mike              NaN          Law\n",
      "Sally  Course liasion  Engineering \n",
      "\n",
      "2nd merge with inner  \n",
      "                  Role       School\n",
      "Name                              \n",
      "Sally  Course liasion  Engineering\n",
      "James          Grader     Business \n",
      "\n",
      "3rd merge with left  \n",
      "                  Role       School\n",
      "Name                              \n",
      "Kelly  Director of HR          NaN\n",
      "Sally  Course liasion  Engineering\n",
      "James          Grader     Business \n",
      "\n",
      "4th merge with right  \n",
      "                  Role       School\n",
      "Name                              \n",
      "James          Grader     Business\n",
      "Mike              NaN          Law\n",
      "Sally  Course liasion  Engineering \n",
      "\n"
     ]
    }
   ],
   "source": [
    "\n",
    "staff_df = pd.DataFrame([{'Name': 'Kelly', 'Role': 'Director of HR'},\n",
    "                         {'Name': 'Sally', 'Role': 'Course liasion'},\n",
    "                         {'Name': 'James', 'Role': 'Grader'}])\n",
    "staff_df = staff_df.set_index('Name')\n",
    "student_df = pd.DataFrame([{'Name': 'James', 'School': 'Business'},\n",
    "                           {'Name': 'Mike', 'School': 'Law'},\n",
    "                           {'Name': 'Sally', 'School': 'Engineering'}])\n",
    "student_df = student_df.set_index('Name')\n",
    "print(\"staff df:\")\n",
    "print(staff_df.head())\n",
    "\n",
    "print(\"\\nstudent df:\")\n",
    "print(student_df.head())\n",
    "\n",
    "#WITH ON AND LEFT AND RIGHT INDEX\n",
    "print(\"\\nfirst merge with outer and on name:  \\n {} \\n\" .format(pd.merge(staff_df, student_df, how='outer', on=\"Name\")))\n",
    "print(\"first merge with outer  \\n {} \\n\" .format(pd.merge(staff_df, student_df, how='outer', left_index=True, right_index=True)))\n",
    "print(\"2nd merge with inner  \\n {} \\n\" .format(pd.merge(staff_df, student_df, how='inner', left_index=True, right_index=True)))\n",
    "print(\"3rd merge with left  \\n {} \\n\" .format(pd.merge(staff_df, student_df, how='left', left_index=True, right_index=True)))\n",
    "print(\"4th merge with right  \\n {} \\n\" .format(pd.merge(staff_df, student_df, how='right', left_index=True, right_index=True)))"
   ]
  },
  {
   "cell_type": "code",
   "execution_count": 9,
   "metadata": {},
   "outputs": [
    {
     "data": {
      "text/html": [
       "<div>\n",
       "<style scoped>\n",
       "    .dataframe tbody tr th:only-of-type {\n",
       "        vertical-align: middle;\n",
       "    }\n",
       "\n",
       "    .dataframe tbody tr th {\n",
       "        vertical-align: top;\n",
       "    }\n",
       "\n",
       "    .dataframe thead th {\n",
       "        text-align: right;\n",
       "    }\n",
       "</style>\n",
       "<table border=\"1\" class=\"dataframe\">\n",
       "  <thead>\n",
       "    <tr style=\"text-align: right;\">\n",
       "      <th></th>\n",
       "      <th>Location_x</th>\n",
       "      <th>Name</th>\n",
       "      <th>Role</th>\n",
       "      <th>Location_y</th>\n",
       "      <th>School</th>\n",
       "    </tr>\n",
       "  </thead>\n",
       "  <tbody>\n",
       "    <tr>\n",
       "      <th>0</th>\n",
       "      <td>State Street</td>\n",
       "      <td>Kelly</td>\n",
       "      <td>Director of HR</td>\n",
       "      <td>NaN</td>\n",
       "      <td>NaN</td>\n",
       "    </tr>\n",
       "    <tr>\n",
       "      <th>1</th>\n",
       "      <td>Washington Avenue</td>\n",
       "      <td>Sally</td>\n",
       "      <td>Course liasion</td>\n",
       "      <td>512 Wilson Crescent</td>\n",
       "      <td>Engineering</td>\n",
       "    </tr>\n",
       "    <tr>\n",
       "      <th>2</th>\n",
       "      <td>Washington Avenue</td>\n",
       "      <td>James</td>\n",
       "      <td>Grader</td>\n",
       "      <td>1024 Billiard Avenue</td>\n",
       "      <td>Business</td>\n",
       "    </tr>\n",
       "  </tbody>\n",
       "</table>\n",
       "</div>"
      ],
      "text/plain": [
       "          Location_x   Name            Role            Location_y       School\n",
       "0       State Street  Kelly  Director of HR                   NaN          NaN\n",
       "1  Washington Avenue  Sally  Course liasion   512 Wilson Crescent  Engineering\n",
       "2  Washington Avenue  James          Grader  1024 Billiard Avenue     Business"
      ]
     },
     "execution_count": 9,
     "metadata": {},
     "output_type": "execute_result"
    }
   ],
   "source": [
    "#WITH LEFT ON AND RIGHT ON\n",
    "staff_df = pd.DataFrame([{'Name': 'Kelly', 'Role': 'Director of HR', 'Location': 'State Street'},\n",
    "                         {'Name': 'Sally', 'Role': 'Course liasion', 'Location': 'Washington Avenue'},\n",
    "                         {'Name': 'James', 'Role': 'Grader', 'Location': 'Washington Avenue'}])\n",
    "student_df = pd.DataFrame([{'Name': 'James', 'School': 'Business', 'Location': '1024 Billiard Avenue'},\n",
    "                           {'Name': 'Mike', 'School': 'Law', 'Location': 'Fraternity House #22'},\n",
    "                           {'Name': 'Sally', 'School': 'Engineering', 'Location': '512 Wilson Crescent'}])\n",
    "pd.merge(staff_df, student_df, how='left', left_on='Name', right_on='Name')"
   ]
  },
  {
   "cell_type": "code",
   "execution_count": 10,
   "metadata": {},
   "outputs": [
    {
     "data": {
      "text/html": [
       "<div>\n",
       "<style scoped>\n",
       "    .dataframe tbody tr th:only-of-type {\n",
       "        vertical-align: middle;\n",
       "    }\n",
       "\n",
       "    .dataframe tbody tr th {\n",
       "        vertical-align: top;\n",
       "    }\n",
       "\n",
       "    .dataframe thead th {\n",
       "        text-align: right;\n",
       "    }\n",
       "</style>\n",
       "<table border=\"1\" class=\"dataframe\">\n",
       "  <thead>\n",
       "    <tr style=\"text-align: right;\">\n",
       "      <th></th>\n",
       "      <th>First Name</th>\n",
       "      <th>Last Name</th>\n",
       "      <th>Role</th>\n",
       "      <th>School</th>\n",
       "    </tr>\n",
       "  </thead>\n",
       "  <tbody>\n",
       "    <tr>\n",
       "      <th>0</th>\n",
       "      <td>Sally</td>\n",
       "      <td>Brooks</td>\n",
       "      <td>Course liasion</td>\n",
       "      <td>Engineering</td>\n",
       "    </tr>\n",
       "  </tbody>\n",
       "</table>\n",
       "</div>"
      ],
      "text/plain": [
       "  First Name Last Name            Role       School\n",
       "0      Sally    Brooks  Course liasion  Engineering"
      ]
     },
     "execution_count": 10,
     "metadata": {},
     "output_type": "execute_result"
    }
   ],
   "source": [
    "#WITH LEFT ON AND RIGHT ON\n",
    "staff_df = pd.DataFrame([{'First Name': 'Kelly', 'Last Name': 'Desjardins', 'Role': 'Director of HR'},\n",
    "                         {'First Name': 'Sally', 'Last Name': 'Brooks', 'Role': 'Course liasion'},\n",
    "                         {'First Name': 'James', 'Last Name': 'Wilde', 'Role': 'Grader'}])\n",
    "student_df = pd.DataFrame([{'First Name': 'James', 'Last Name': 'Hammond', 'School': 'Business'},\n",
    "                           {'First Name': 'Mike', 'Last Name': 'Smith', 'School': 'Law'},\n",
    "                           {'First Name': 'Sally', 'Last Name': 'Brooks', 'School': 'Engineering'}])\n",
    "staff_df\n",
    "student_df\n",
    "pd.merge(staff_df, student_df, how='inner', left_on=['First Name','Last Name'], right_on=['First Name','Last Name'])"
   ]
  },
  {
   "cell_type": "code",
   "execution_count": null,
   "metadata": {},
   "outputs": [],
   "source": []
  },
  {
   "cell_type": "code",
   "execution_count": null,
   "metadata": {},
   "outputs": [],
   "source": []
  },
  {
   "cell_type": "code",
   "execution_count": null,
   "metadata": {},
   "outputs": [],
   "source": []
  },
  {
   "cell_type": "markdown",
   "metadata": {},
   "source": [
    "#### Pivot Tables with Pandas"
   ]
  },
  {
   "cell_type": "code",
   "execution_count": null,
   "metadata": {},
   "outputs": [],
   "source": []
  },
  {
   "cell_type": "markdown",
   "metadata": {},
   "source": [
    "#### Creating a DF to play with some methods and slicers "
   ]
  },
  {
   "cell_type": "code",
   "execution_count": 182,
   "metadata": {},
   "outputs": [
    {
     "name": "stdout",
     "output_type": "stream",
     "text": [
      "      column2  column3\n",
      "row1     0.16     0.55\n",
      "row2     0.83     0.90\n",
      "row3     0.72     0.93\n",
      "row4     0.52     0.17\n",
      "row5     0.13     0.01\n",
      "row6     0.11     0.96\n",
      "      column1  column3\n",
      "row1     0.85     0.55\n",
      "row2     0.41     0.90\n",
      "row3     0.05     0.93\n",
      "row4     0.26     0.17\n",
      "row5     0.07     0.01\n",
      "row6     0.88     0.96\n",
      "df after reseting index: \n",
      "    column1  column2  column3  column4  column5  column6\n",
      "0     0.85     0.16     0.55     0.22     0.26     0.36\n",
      "1     0.41     0.83     0.90     0.52     0.50     0.22\n",
      "2     0.05     0.72     0.93     0.06     0.07     0.36\n",
      "3     0.26     0.52     0.17     0.80     0.95     0.22\n",
      "4     0.07     0.13     0.01     0.28     0.51     0.71\n",
      "5     0.88     0.11     0.96     0.79     0.03     0.46\n"
     ]
    }
   ],
   "source": [
    "import pandas as pd\n",
    "import numpy as np\n",
    "#DF_obj = DataFrame(np.arange(36).reshape(6,6),index = ['row1','row2','row3','row4','row5','row6'],\n",
    "#columns=['column1','column2','column3','column4','column5','column6'])\n",
    "#############CREATING DATA FRAME WITH RANDOM FROM NUMPY\n",
    "df = pd.DataFrame(np.random.rand(36).round(decimals=2).reshape((6,6)), \n",
    "                      index = ['row1','row2','row3','row4','row5','row6'],\n",
    "                      columns=['column1','column2','column3','column4','column5','column6'])\n",
    "df.index\n",
    "df.columns\n",
    "print(df.iloc[:,1:3]) #ILOC INDEXES BASED COLUMNS POSITION NUMBERS\n",
    "print(df.loc[:,['column1', 'column3']]) #BASED IN COLUMN names\n",
    "#df.ix works with both position numbers and column names\n",
    "#reseting index and also dropping the column that was index\n",
    "df1 = df.reset_index().drop([\"index\"], axis = 1, inplace= False) #inplace is false is to create another df\n",
    "#inplace is true change the df itself, so you wouldn't create the DF1, you would do the method like df.reset_index...\n",
    "print (\"df after reseting index: \\n\", df1)"
   ]
  },
  {
   "cell_type": "markdown",
   "metadata": {},
   "source": [
    "### iterating over Pandas DataFrame - couldn't do it, jaja"
   ]
  },
  {
   "cell_type": "code",
   "execution_count": 137,
   "metadata": {},
   "outputs": [
    {
     "name": "stdout",
     "output_type": "stream",
     "text": [
      "this is the df: \n",
      "       column1  column2  column3  column4  column5  column6\n",
      "row1     0.86     0.95     0.19     0.16     0.95     0.99\n",
      "row2     0.65     0.73     0.18     0.47     0.68     0.69\n",
      "row3     0.34     0.03     0.94     0.46     0.71     0.78\n",
      "row4     0.17     0.87     0.17     0.29     0.79     0.59\n",
      "row5     0.74     0.91     0.24     0.84     0.09     0.11\n",
      "row6     0.49     0.38     0.52     0.01     0.12     0.41\n",
      "iteration row: \n",
      " ('row1', column1    0.86\n",
      "column2    0.95\n",
      "column3    0.19\n",
      "column4    0.16\n",
      "column5    0.95\n",
      "column6    0.99\n",
      "Name: row1, dtype: float64)\n",
      "iteration column: \n",
      " row1\n",
      "iteration column: \n",
      " column1    0.86\n",
      "column2    0.95\n",
      "column3    0.19\n",
      "column4    0.16\n",
      "column5    0.95\n",
      "column6    0.99\n",
      "Name: row1, dtype: float64\n",
      "iteration row: \n",
      " ('row2', column1    0.65\n",
      "column2    0.73\n",
      "column3    0.18\n",
      "column4    0.47\n",
      "column5    0.68\n",
      "column6    0.69\n",
      "Name: row2, dtype: float64)\n",
      "iteration column: \n",
      " row2\n",
      "iteration column: \n",
      " column1    0.65\n",
      "column2    0.73\n",
      "column3    0.18\n",
      "column4    0.47\n",
      "column5    0.68\n",
      "column6    0.69\n",
      "Name: row2, dtype: float64\n",
      "iteration row: \n",
      " ('row3', column1    0.34\n",
      "column2    0.03\n",
      "column3    0.94\n",
      "column4    0.46\n",
      "column5    0.71\n",
      "column6    0.78\n",
      "Name: row3, dtype: float64)\n",
      "iteration column: \n",
      " row3\n",
      "iteration column: \n",
      " column1    0.34\n",
      "column2    0.03\n",
      "column3    0.94\n",
      "column4    0.46\n",
      "column5    0.71\n",
      "column6    0.78\n",
      "Name: row3, dtype: float64\n",
      "iteration row: \n",
      " ('row4', column1    0.17\n",
      "column2    0.87\n",
      "column3    0.17\n",
      "column4    0.29\n",
      "column5    0.79\n",
      "column6    0.59\n",
      "Name: row4, dtype: float64)\n",
      "iteration column: \n",
      " row4\n",
      "iteration column: \n",
      " column1    0.17\n",
      "column2    0.87\n",
      "column3    0.17\n",
      "column4    0.29\n",
      "column5    0.79\n",
      "column6    0.59\n",
      "Name: row4, dtype: float64\n",
      "iteration row: \n",
      " ('row5', column1    0.74\n",
      "column2    0.91\n",
      "column3    0.24\n",
      "column4    0.84\n",
      "column5    0.09\n",
      "column6    0.11\n",
      "Name: row5, dtype: float64)\n",
      "iteration column: \n",
      " row5\n",
      "iteration column: \n",
      " column1    0.74\n",
      "column2    0.91\n",
      "column3    0.24\n",
      "column4    0.84\n",
      "column5    0.09\n",
      "column6    0.11\n",
      "Name: row5, dtype: float64\n",
      "iteration row: \n",
      " ('row6', column1    0.49\n",
      "column2    0.38\n",
      "column3    0.52\n",
      "column4    0.01\n",
      "column5    0.12\n",
      "column6    0.41\n",
      "Name: row6, dtype: float64)\n",
      "iteration column: \n",
      " row6\n",
      "iteration column: \n",
      " column1    0.49\n",
      "column2    0.38\n",
      "column3    0.52\n",
      "column4    0.01\n",
      "column5    0.12\n",
      "column6    0.41\n",
      "Name: row6, dtype: float64\n"
     ]
    }
   ],
   "source": [
    "#JUST CREATING A DATAFRAME LIKE ABOVE CELL\n",
    "df_var = pd.DataFrame(np.random.rand(36).round(decimals=2).reshape((6,6)), \n",
    "                      index = ['row1','row2','row3','row4','row5','row6'],\n",
    "                      columns=['column1','column2','column3','column4','column5','column6'])\n",
    "print (\"this is the df: \\n\", df_var)\n",
    "#####################################################\n",
    "#iterating over rows using iterrows() function  \n",
    "for row in df_var.iterrows(): \n",
    "    print(\"iteration row: \\n\",row) \n",
    "    for colums in row:\n",
    "        print(\"iteration column: \\n\", colums)"
   ]
  },
  {
   "cell_type": "code",
   "execution_count": null,
   "metadata": {},
   "outputs": [],
   "source": []
  },
  {
   "cell_type": "code",
   "execution_count": null,
   "metadata": {},
   "outputs": [],
   "source": []
  },
  {
   "cell_type": "code",
   "execution_count": null,
   "metadata": {},
   "outputs": [],
   "source": []
  },
  {
   "cell_type": "code",
   "execution_count": null,
   "metadata": {},
   "outputs": [],
   "source": []
  },
  {
   "cell_type": "code",
   "execution_count": null,
   "metadata": {},
   "outputs": [],
   "source": []
  },
  {
   "cell_type": "code",
   "execution_count": null,
   "metadata": {},
   "outputs": [],
   "source": []
  },
  {
   "cell_type": "code",
   "execution_count": null,
   "metadata": {},
   "outputs": [],
   "source": []
  },
  {
   "cell_type": "code",
   "execution_count": null,
   "metadata": {},
   "outputs": [],
   "source": []
  },
  {
   "cell_type": "code",
   "execution_count": null,
   "metadata": {},
   "outputs": [],
   "source": []
  },
  {
   "cell_type": "markdown",
   "metadata": {},
   "source": [
    "## Data Mining, Tokenization, Stop Words, breaking strings, etc with Lambda Functions"
   ]
  },
  {
   "cell_type": "code",
   "execution_count": 1,
   "metadata": {},
   "outputs": [
    {
     "data": {
      "text/html": [
       "<div>\n",
       "<style scoped>\n",
       "    .dataframe tbody tr th:only-of-type {\n",
       "        vertical-align: middle;\n",
       "    }\n",
       "\n",
       "    .dataframe tbody tr th {\n",
       "        vertical-align: top;\n",
       "    }\n",
       "\n",
       "    .dataframe thead th {\n",
       "        text-align: right;\n",
       "    }\n",
       "</style>\n",
       "<table border=\"1\" class=\"dataframe\">\n",
       "  <thead>\n",
       "    <tr style=\"text-align: right;\">\n",
       "      <th></th>\n",
       "      <th>label</th>\n",
       "      <th>body_text</th>\n",
       "    </tr>\n",
       "  </thead>\n",
       "  <tbody>\n",
       "    <tr>\n",
       "      <th>0</th>\n",
       "      <td>ham</td>\n",
       "      <td>I've been searching for the right words to thank you for this breather. I promise i wont take yo...</td>\n",
       "    </tr>\n",
       "    <tr>\n",
       "      <th>1</th>\n",
       "      <td>spam</td>\n",
       "      <td>Free entry in 2 a wkly comp to win FA Cup final tkts 21st May 2005. Text FA to 87121 to receive ...</td>\n",
       "    </tr>\n",
       "    <tr>\n",
       "      <th>2</th>\n",
       "      <td>ham</td>\n",
       "      <td>Nah I don't think he goes to usf, he lives around here though</td>\n",
       "    </tr>\n",
       "    <tr>\n",
       "      <th>3</th>\n",
       "      <td>ham</td>\n",
       "      <td>Even my brother is not like to speak with me. They treat me like aids patent.</td>\n",
       "    </tr>\n",
       "    <tr>\n",
       "      <th>4</th>\n",
       "      <td>ham</td>\n",
       "      <td>I HAVE A DATE ON SUNDAY WITH WILL!!</td>\n",
       "    </tr>\n",
       "  </tbody>\n",
       "</table>\n",
       "</div>"
      ],
      "text/plain": [
       "  label  \\\n",
       "0   ham   \n",
       "1  spam   \n",
       "2   ham   \n",
       "3   ham   \n",
       "4   ham   \n",
       "\n",
       "                                                                                             body_text  \n",
       "0  I've been searching for the right words to thank you for this breather. I promise i wont take yo...  \n",
       "1  Free entry in 2 a wkly comp to win FA Cup final tkts 21st May 2005. Text FA to 87121 to receive ...  \n",
       "2                                        Nah I don't think he goes to usf, he lives around here though  \n",
       "3                        Even my brother is not like to speak with me. They treat me like aids patent.  \n",
       "4                                                                  I HAVE A DATE ON SUNDAY WITH WILL!!  "
      ]
     },
     "execution_count": 1,
     "metadata": {},
     "output_type": "execute_result"
    }
   ],
   "source": [
    "import pandas as pd\n",
    "pd.set_option('display.max_colwidth', 100)\n",
    "\n",
    "data = pd.read_csv(\"C:/Users/mateus_silva1/Documents/Data Science/Python Scripts/SMSSpamCollection.tsv\", sep='\\t', header=None)\n",
    "data.columns = ['label', 'body_text']\n",
    "\n",
    "data.head()\n",
    "import string\n",
    "string.punctuation"
   ]
  },
  {
   "cell_type": "code",
   "execution_count": null,
   "metadata": {},
   "outputs": [],
   "source": [
    "#go through each character, if it's punctuation, take it out \n",
    "def remove_punct(text):\n",
    "    text_nopunct = \"\".join([char for char in text if char not in string.punctuation])\n",
    "    return text_nopunct\n",
    "\n",
    "data['body_text_clean'] = data['body_text'].apply(lambda x: remove_punct(x))\n",
    "data.head()\n",
    "\n",
    "\n",
    "\n",
    "import re\n",
    "\n",
    "def tokenize(text):\n",
    "    tokens = re.split('\\W+', text)\n",
    "    return tokens\n",
    "\n",
    "data['body_text_tokenized'] = data['body_text_clean'].apply(lambda x: tokenize(x.lower()))\n",
    "\n",
    "data.head()\n",
    "\n",
    "\n",
    "def remove_stopwords(tokenized_list):\n",
    "    text = [word for word in tokenized_list if word not in stopword]\n",
    "    return text\n",
    "\n",
    "data['body_text_nostop'] = data['body_text_tokenized'].apply(lambda x: remove_stopwords(x))\n",
    "data\n"
   ]
  },
  {
   "cell_type": "code",
   "execution_count": null,
   "metadata": {},
   "outputs": [],
   "source": []
  },
  {
   "cell_type": "code",
   "execution_count": null,
   "metadata": {},
   "outputs": [],
   "source": []
  },
  {
   "cell_type": "code",
   "execution_count": null,
   "metadata": {},
   "outputs": [],
   "source": []
  },
  {
   "cell_type": "code",
   "execution_count": null,
   "metadata": {},
   "outputs": [],
   "source": []
  },
  {
   "cell_type": "code",
   "execution_count": null,
   "metadata": {},
   "outputs": [],
   "source": []
  },
  {
   "cell_type": "code",
   "execution_count": null,
   "metadata": {},
   "outputs": [],
   "source": []
  },
  {
   "cell_type": "code",
   "execution_count": null,
   "metadata": {},
   "outputs": [],
   "source": []
  },
  {
   "cell_type": "code",
   "execution_count": null,
   "metadata": {},
   "outputs": [],
   "source": []
  },
  {
   "cell_type": "code",
   "execution_count": null,
   "metadata": {},
   "outputs": [],
   "source": []
  },
  {
   "cell_type": "code",
   "execution_count": null,
   "metadata": {},
   "outputs": [],
   "source": []
  },
  {
   "cell_type": "code",
   "execution_count": null,
   "metadata": {},
   "outputs": [],
   "source": []
  },
  {
   "cell_type": "code",
   "execution_count": null,
   "metadata": {},
   "outputs": [],
   "source": []
  },
  {
   "cell_type": "code",
   "execution_count": null,
   "metadata": {},
   "outputs": [],
   "source": []
  },
  {
   "cell_type": "code",
   "execution_count": null,
   "metadata": {},
   "outputs": [],
   "source": []
  },
  {
   "cell_type": "code",
   "execution_count": null,
   "metadata": {},
   "outputs": [],
   "source": []
  },
  {
   "cell_type": "code",
   "execution_count": null,
   "metadata": {},
   "outputs": [],
   "source": []
  },
  {
   "cell_type": "code",
   "execution_count": null,
   "metadata": {},
   "outputs": [],
   "source": []
  },
  {
   "cell_type": "code",
   "execution_count": null,
   "metadata": {},
   "outputs": [],
   "source": []
  },
  {
   "cell_type": "code",
   "execution_count": null,
   "metadata": {},
   "outputs": [],
   "source": []
  },
  {
   "cell_type": "code",
   "execution_count": null,
   "metadata": {},
   "outputs": [],
   "source": []
  },
  {
   "cell_type": "code",
   "execution_count": null,
   "metadata": {},
   "outputs": [],
   "source": []
  },
  {
   "cell_type": "code",
   "execution_count": null,
   "metadata": {},
   "outputs": [],
   "source": []
  },
  {
   "cell_type": "code",
   "execution_count": null,
   "metadata": {},
   "outputs": [],
   "source": []
  },
  {
   "cell_type": "code",
   "execution_count": null,
   "metadata": {},
   "outputs": [],
   "source": []
  },
  {
   "cell_type": "code",
   "execution_count": null,
   "metadata": {},
   "outputs": [],
   "source": []
  },
  {
   "cell_type": "code",
   "execution_count": null,
   "metadata": {},
   "outputs": [],
   "source": []
  },
  {
   "cell_type": "code",
   "execution_count": null,
   "metadata": {},
   "outputs": [],
   "source": []
  },
  {
   "cell_type": "code",
   "execution_count": null,
   "metadata": {},
   "outputs": [],
   "source": []
  },
  {
   "cell_type": "code",
   "execution_count": null,
   "metadata": {},
   "outputs": [],
   "source": []
  },
  {
   "cell_type": "code",
   "execution_count": null,
   "metadata": {},
   "outputs": [],
   "source": []
  },
  {
   "cell_type": "code",
   "execution_count": null,
   "metadata": {},
   "outputs": [],
   "source": []
  },
  {
   "cell_type": "code",
   "execution_count": null,
   "metadata": {},
   "outputs": [],
   "source": []
  },
  {
   "cell_type": "code",
   "execution_count": null,
   "metadata": {},
   "outputs": [],
   "source": []
  },
  {
   "cell_type": "code",
   "execution_count": null,
   "metadata": {},
   "outputs": [],
   "source": []
  },
  {
   "cell_type": "code",
   "execution_count": null,
   "metadata": {},
   "outputs": [],
   "source": []
  },
  {
   "cell_type": "code",
   "execution_count": null,
   "metadata": {},
   "outputs": [],
   "source": []
  },
  {
   "cell_type": "code",
   "execution_count": null,
   "metadata": {},
   "outputs": [],
   "source": []
  },
  {
   "cell_type": "code",
   "execution_count": null,
   "metadata": {},
   "outputs": [],
   "source": []
  },
  {
   "cell_type": "code",
   "execution_count": null,
   "metadata": {},
   "outputs": [],
   "source": []
  },
  {
   "cell_type": "code",
   "execution_count": null,
   "metadata": {},
   "outputs": [],
   "source": []
  },
  {
   "cell_type": "code",
   "execution_count": null,
   "metadata": {},
   "outputs": [],
   "source": []
  },
  {
   "cell_type": "code",
   "execution_count": null,
   "metadata": {},
   "outputs": [],
   "source": []
  },
  {
   "cell_type": "code",
   "execution_count": null,
   "metadata": {},
   "outputs": [],
   "source": []
  },
  {
   "cell_type": "code",
   "execution_count": null,
   "metadata": {},
   "outputs": [],
   "source": []
  },
  {
   "cell_type": "code",
   "execution_count": null,
   "metadata": {},
   "outputs": [],
   "source": []
  },
  {
   "cell_type": "code",
   "execution_count": null,
   "metadata": {},
   "outputs": [],
   "source": []
  },
  {
   "cell_type": "code",
   "execution_count": null,
   "metadata": {},
   "outputs": [],
   "source": []
  },
  {
   "cell_type": "code",
   "execution_count": null,
   "metadata": {},
   "outputs": [],
   "source": []
  },
  {
   "cell_type": "code",
   "execution_count": null,
   "metadata": {},
   "outputs": [],
   "source": []
  },
  {
   "cell_type": "code",
   "execution_count": null,
   "metadata": {},
   "outputs": [],
   "source": []
  },
  {
   "cell_type": "code",
   "execution_count": null,
   "metadata": {},
   "outputs": [],
   "source": []
  },
  {
   "cell_type": "code",
   "execution_count": null,
   "metadata": {},
   "outputs": [],
   "source": []
  },
  {
   "cell_type": "code",
   "execution_count": null,
   "metadata": {},
   "outputs": [],
   "source": []
  },
  {
   "cell_type": "code",
   "execution_count": null,
   "metadata": {},
   "outputs": [],
   "source": []
  }
 ],
 "metadata": {
  "kernelspec": {
   "display_name": "Python 3",
   "language": "python",
   "name": "python3"
  },
  "language_info": {
   "codemirror_mode": {
    "name": "ipython",
    "version": 3
   },
   "file_extension": ".py",
   "mimetype": "text/x-python",
   "name": "python",
   "nbconvert_exporter": "python",
   "pygments_lexer": "ipython3",
   "version": "3.7.6"
  }
 },
 "nbformat": 4,
 "nbformat_minor": 2
}
